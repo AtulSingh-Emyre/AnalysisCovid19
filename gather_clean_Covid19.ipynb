{
 "cells": [
  {
   "cell_type": "markdown",
   "metadata": {},
   "source": [
    "# Wrangle and Analyze Data of a Twitter Account\n",
    "\n",
    "\n",
    "## Table of Contents\n",
    "- [1. Introduction](#intro)\n",
    "- [2. Gather data](#gather)\n",
    "- [3. Assess data](#assess)\n",
    "- [4. Clean data](#clean)\n",
    "- [5. Store](#store)\n",
    "\n",
    "\n",
    "<a id='gather'></a>\n",
    "## 1. Introduction\n",
    "\n",
    "This project is an analysis of correlation between the Covid-19 cases and the political environment of different countries. Goal is to find answers or at least indicators to questions like: \n",
    "- Did the countries which had more success in containing the amount of Covid-19 cases something in common? \n",
    "- Is there a correlation in  Gross domestic product, Human Development Index or political ideology with the amount of Covid-19 cases of the country.\n",
    "\n",
    "Main goal of this project is to generate a comprehensive exploratory and explanatory data analysis of the gathered data. The data analysis process is distributed over three ipynb-files: gather_clean_Covid19.ipynb, exploration_Covid19.ipynb and slide_deck_Covid19.ipynb.\n",
    "\n",
    "Firstly, as part of gather_clean_Covid19.ipynb data is gathered from different sources: The Covid-19 data of this project is retrieved via programmatically downloaded csv-files from the GitHub repository [Covid-19](https://github.com/CSSEGISandData/COVID-19) and additional data about countries is retrieved via the wikipedia API. Secondly, the data from the different sources is visually and programmatically assessed to be cleaned.\n",
    "The exploratory and explanatory data analysis of the gathered data is performed in exploration_Covid19.ipynb. Finally the findings are presented in slide_deck_Covid19.ipynb."
   ]
  },
  {
   "cell_type": "code",
   "execution_count": 284,
   "metadata": {},
   "outputs": [],
   "source": [
    "# Import necessary libraries\n",
    "import numpy as np\n",
    "import pandas as pd\n",
    "from datetime import date\n",
    "%matplotlib inline\n",
    "import matplotlib as mpl\n",
    "import matplotlib.pyplot as plt\n",
    "import matplotlib.patches as mpatches\n",
    "import seaborn as sns\n",
    "import os # to work with local directory\n",
    "import re\n",
    "import wptools\n",
    "import json # to create json file from python dictionary\n",
    "import time # for timer \n",
    "sns.set()"
   ]
  },
  {
   "cell_type": "markdown",
   "metadata": {},
   "source": [
    "<a id='intro'></a>\n",
    "## 2. Gather data"
   ]
  },
  {
   "cell_type": "markdown",
   "metadata": {},
   "source": [
    "####  Data is gathered from three different sources of data as described in steps below:\n",
    "\n",
    "1. Fatality, confirmed cases, recovered cases and data by country is retrieved via programmatically downloaded csv-files from the GitHub repository [Covid-19](https://github.com/CSSEGISandData/COVID-19).\n",
    "2. Additional data is retrieved via the wptools API from different wikipedia articles."
   ]
  },
  {
   "cell_type": "markdown",
   "metadata": {},
   "source": [
    "### a. Read data from programmatically download csv-file"
   ]
  },
  {
   "cell_type": "code",
   "execution_count": 285,
   "metadata": {},
   "outputs": [],
   "source": [
    "# Gather data from John Hopkins GitHub \n",
    "df_JHU_Fatality = pd.read_csv('https://raw.githubusercontent.com/CSSEGISandData/COVID-19/master/csse_covid_19_data/csse_covid_19_time_series/time_series_covid19_deaths_global.csv')\n",
    "df_JHU_Confirmed = pd.read_csv('https://raw.githubusercontent.com/CSSEGISandData/COVID-19/master/csse_covid_19_data/csse_covid_19_time_series/time_series_covid19_confirmed_global.csv')\n",
    "df_JHU_Recovered = pd.read_csv('https://raw.githubusercontent.com/CSSEGISandData/COVID-19/master/csse_covid_19_data/csse_covid_19_time_series/time_series_covid19_recovered_global.csv')\n",
    "df_JHU_Countries = pd.read_csv('https://raw.githubusercontent.com/RRighart/covid-19/master/countries.csv')"
   ]
  },
  {
   "cell_type": "code",
   "execution_count": 342,
   "metadata": {},
   "outputs": [],
   "source": [
    "df_OWID_Covid = pd.read_csv('https://covid.ourworldindata.org/data/owid-covid-data.csv')\n",
    "df_OWID_Testing = pd.read_csv('https://covid.ourworldindata.org/data/testing/covid-testing-latest-data-source-details.csv')\n",
    "df_OWID_Countries = pd.read_csv('https://covid.ourworldindata.org/data/ecdc/locations.csv')"
   ]
  },
  {
   "cell_type": "markdown",
   "metadata": {},
   "source": [
    "### b. Read data from local datasets"
   ]
  },
  {
   "cell_type": "markdown",
   "metadata": {},
   "source": [
    "Data downloaded manually from different databases, [European statistical database](https://ec.europa.eu/eurostat/data/database), [Wikipedia table on intensive care units](https://en.wikipedia.org/wiki/List_of_countries_by_hospital_beds) and [United Nations database](https://data.un.org):"
   ]
  },
  {
   "cell_type": "code",
   "execution_count": 350,
   "metadata": {},
   "outputs": [],
   "source": [
    "df_ESTAT_census = pd.read_csv('inputData/Eurostat_census_2001.csv')\n",
    "df_WIKI_ICU = pd.read_csv('inputData/Wikipedia_ICU.csv')\n",
    "df_UN_births = pd.read_csv('inputData/UNdata_birthsByMonth.csv')\n",
    "df_UN deaths = pd.read_csv('inputData/UNdata_deathsByMonth.csv')"
   ]
  },
  {
   "cell_type": "markdown",
   "metadata": {},
   "source": [
    "### c. Query additional information for countries via wikipedia API"
   ]
  },
  {
   "cell_type": "markdown",
   "metadata": {},
   "source": [
    "Additional Information\n",
    "- Leader Gender\n",
    "- Ideology of Leading Party\n",
    "- Amount of Intensive Care Beds\n",
    "- Gross domestic product per capita\n",
    "- Human Development Index"
   ]
  },
  {
   "cell_type": "code",
   "execution_count": 287,
   "metadata": {},
   "outputs": [
    {
     "data": {
      "text/plain": [
       "'             \\ncountry_jsons = {}\\ncounty_id_errors = []\\nstart = time.time()\\ncount = 0\\n\\n\\nwith open(\\'country_json.txt\\', \\'w\\') as outfile:\\n    \\n    for country in df_Countries[\\'Country/Region\\']:\\n        count +=1\\n        try:\\n            # Query API for data of wikipedia article\\n            article = wptools.page(country).get_parse()\\n            infobox = article.data[\\'infobox\\']\\n            # Measure elapsed time\\n            mid_s = time.time()\\n            # Print id and time elapsed\\n            print(str(count) + str(mid_s - start) )\\n            # Write json of tweet to \\'tweet_json.txt\\'\\n            json.dump(infobox, outfile)\\n            # New line\\n            outfile.write(\"\\n\")\\n\\n        # Not best practice to catch all exceptions but fine for this short script\\n        except Exception as error:\\n            mid_f = time.time()\\n            print(str(count) + str(mid_f - start) + str(error))\\n            # Gather ids of id\\'s without status\\n            tweet_id_errors.append([count, str(tweet_id)])\\n            \\n    end = time.time()\\n    print(end - start)\\n    \\n    '"
      ]
     },
     "execution_count": 287,
     "metadata": {},
     "output_type": "execute_result"
    }
   ],
   "source": [
    "# Query for every tweet id in enhanced twitter archive and save tweet-information in json-format to 'tweet_json.txt'\n",
    "'''             \n",
    "country_jsons = {}\n",
    "county_id_errors = []\n",
    "start = time.time()\n",
    "count = 0\n",
    "\n",
    "\n",
    "with open('country_json.txt', 'w') as outfile:\n",
    "    \n",
    "    for country in df_JHU_Countries['Country/Region']:\n",
    "        count +=1\n",
    "        try:\n",
    "            # Query API for data of wikipedia article\n",
    "            article = wptools.page(country).get_parse()\n",
    "            infobox = article.data['infobox']\n",
    "            # Measure elapsed time\n",
    "            mid_s = time.time()\n",
    "            # Print id and time elapsed\n",
    "            print(str(count) + str(mid_s - start) )\n",
    "            # Write json of tweet to 'tweet_json.txt'\n",
    "            json.dump(infobox, outfile)\n",
    "            # New line\n",
    "            outfile.write(\"\\n\")\n",
    "\n",
    "        # Not best practice to catch all exceptions but fine for this short script\n",
    "        except Exception as error:\n",
    "            mid_f = time.time()\n",
    "            print(str(count) + str(mid_f - start) + str(error))\n",
    "            # Gather ids of id's without status\n",
    "            tweet_id_errors.append([count, str(tweet_id)])\n",
    "            \n",
    "    end = time.time()\n",
    "    print(end - start)\n",
    "    \n",
    "    '''"
   ]
  },
  {
   "cell_type": "code",
   "execution_count": 288,
   "metadata": {},
   "outputs": [
    {
     "data": {
      "text/plain": [
       "\"\\nso = wptools.page('Germany').get_parse()\\ninfobox = so.data['infobox']\\nprint(infobox)\\n\""
      ]
     },
     "execution_count": 288,
     "metadata": {},
     "output_type": "execute_result"
    }
   ],
   "source": [
    "'''\n",
    "so = wptools.page('Germany').get_parse()\n",
    "infobox = so.data['infobox']\n",
    "print(infobox)\n",
    "'''"
   ]
  },
  {
   "cell_type": "markdown",
   "metadata": {},
   "source": [
    "<a id='assess'></a>\n",
    "## 3. Assess data"
   ]
  },
  {
   "cell_type": "markdown",
   "metadata": {},
   "source": [
    "After gathering each of the above pieces of data, they are assessed visually and programmatically for quality and tidiness issues. Requirements to be met:\n",
    "\n",
    "- Quality requirements:\n",
    "    - Completeness: All necessary records in dataframes, no specific rows, columns or cells missing.\n",
    "    - Validity: No records available, that do not conform schema.\n",
    "    - Accuracy: No wrong data, that is valid.\n",
    "    - Consistency: No data, that is valid and accurate, but referred to in multiple correct ways.\n",
    "- Tidiniss requirements (as defined by Hadley Wickham):\n",
    "    - each variable is a column\n",
    "    - each observation is a row\n",
    "    - each type of observational unit is a table."
   ]
  },
  {
   "cell_type": "markdown",
   "metadata": {},
   "source": [
    "### a. Visual assessment"
   ]
  },
  {
   "cell_type": "code",
   "execution_count": 289,
   "metadata": {},
   "outputs": [
    {
     "data": {
      "text/html": [
       "<div>\n",
       "<style scoped>\n",
       "    .dataframe tbody tr th:only-of-type {\n",
       "        vertical-align: middle;\n",
       "    }\n",
       "\n",
       "    .dataframe tbody tr th {\n",
       "        vertical-align: top;\n",
       "    }\n",
       "\n",
       "    .dataframe thead th {\n",
       "        text-align: right;\n",
       "    }\n",
       "</style>\n",
       "<table border=\"1\" class=\"dataframe\">\n",
       "  <thead>\n",
       "    <tr style=\"text-align: right;\">\n",
       "      <th></th>\n",
       "      <th>Unnamed: 0</th>\n",
       "      <th>Country/Region</th>\n",
       "      <th>inhabitants</th>\n",
       "      <th>area</th>\n",
       "    </tr>\n",
       "  </thead>\n",
       "  <tbody>\n",
       "    <tr>\n",
       "      <th>0</th>\n",
       "      <td>0</td>\n",
       "      <td>US</td>\n",
       "      <td>325386357</td>\n",
       "      <td>9833520</td>\n",
       "    </tr>\n",
       "    <tr>\n",
       "      <th>1</th>\n",
       "      <td>1</td>\n",
       "      <td>Germany</td>\n",
       "      <td>83792987</td>\n",
       "      <td>357386</td>\n",
       "    </tr>\n",
       "    <tr>\n",
       "      <th>2</th>\n",
       "      <td>2</td>\n",
       "      <td>France</td>\n",
       "      <td>65227357</td>\n",
       "      <td>551695</td>\n",
       "    </tr>\n",
       "    <tr>\n",
       "      <th>3</th>\n",
       "      <td>3</td>\n",
       "      <td>Belgium</td>\n",
       "      <td>11579502</td>\n",
       "      <td>30510</td>\n",
       "    </tr>\n",
       "    <tr>\n",
       "      <th>4</th>\n",
       "      <td>4</td>\n",
       "      <td>Netherlands</td>\n",
       "      <td>17123478</td>\n",
       "      <td>41198</td>\n",
       "    </tr>\n",
       "  </tbody>\n",
       "</table>\n",
       "</div>"
      ],
      "text/plain": [
       "   Unnamed: 0 Country/Region  inhabitants     area\n",
       "0           0             US    325386357  9833520\n",
       "1           1        Germany     83792987   357386\n",
       "2           2         France     65227357   551695\n",
       "3           3        Belgium     11579502    30510\n",
       "4           4    Netherlands     17123478    41198"
      ]
     },
     "execution_count": 289,
     "metadata": {},
     "output_type": "execute_result"
    }
   ],
   "source": [
    "# Check layout of df_JHU_Countries vsiually\n",
    "df_JHU_Countries.head()"
   ]
  },
  {
   "cell_type": "code",
   "execution_count": 290,
   "metadata": {},
   "outputs": [
    {
     "data": {
      "text/html": [
       "<div>\n",
       "<style scoped>\n",
       "    .dataframe tbody tr th:only-of-type {\n",
       "        vertical-align: middle;\n",
       "    }\n",
       "\n",
       "    .dataframe tbody tr th {\n",
       "        vertical-align: top;\n",
       "    }\n",
       "\n",
       "    .dataframe thead th {\n",
       "        text-align: right;\n",
       "    }\n",
       "</style>\n",
       "<table border=\"1\" class=\"dataframe\">\n",
       "  <thead>\n",
       "    <tr style=\"text-align: right;\">\n",
       "      <th></th>\n",
       "      <th>Province/State</th>\n",
       "      <th>Country/Region</th>\n",
       "      <th>Lat</th>\n",
       "      <th>Long</th>\n",
       "      <th>1/22/20</th>\n",
       "      <th>1/23/20</th>\n",
       "      <th>1/24/20</th>\n",
       "      <th>1/25/20</th>\n",
       "      <th>1/26/20</th>\n",
       "      <th>1/27/20</th>\n",
       "      <th>...</th>\n",
       "      <th>5/6/20</th>\n",
       "      <th>5/7/20</th>\n",
       "      <th>5/8/20</th>\n",
       "      <th>5/9/20</th>\n",
       "      <th>5/10/20</th>\n",
       "      <th>5/11/20</th>\n",
       "      <th>5/12/20</th>\n",
       "      <th>5/13/20</th>\n",
       "      <th>5/14/20</th>\n",
       "      <th>5/15/20</th>\n",
       "    </tr>\n",
       "  </thead>\n",
       "  <tbody>\n",
       "    <tr>\n",
       "      <th>0</th>\n",
       "      <td>NaN</td>\n",
       "      <td>Afghanistan</td>\n",
       "      <td>33.0000</td>\n",
       "      <td>65.0000</td>\n",
       "      <td>0</td>\n",
       "      <td>0</td>\n",
       "      <td>0</td>\n",
       "      <td>0</td>\n",
       "      <td>0</td>\n",
       "      <td>0</td>\n",
       "      <td>...</td>\n",
       "      <td>104</td>\n",
       "      <td>106</td>\n",
       "      <td>109</td>\n",
       "      <td>115</td>\n",
       "      <td>120</td>\n",
       "      <td>122</td>\n",
       "      <td>127</td>\n",
       "      <td>132</td>\n",
       "      <td>136</td>\n",
       "      <td>153</td>\n",
       "    </tr>\n",
       "    <tr>\n",
       "      <th>1</th>\n",
       "      <td>NaN</td>\n",
       "      <td>Albania</td>\n",
       "      <td>41.1533</td>\n",
       "      <td>20.1683</td>\n",
       "      <td>0</td>\n",
       "      <td>0</td>\n",
       "      <td>0</td>\n",
       "      <td>0</td>\n",
       "      <td>0</td>\n",
       "      <td>0</td>\n",
       "      <td>...</td>\n",
       "      <td>31</td>\n",
       "      <td>31</td>\n",
       "      <td>31</td>\n",
       "      <td>31</td>\n",
       "      <td>31</td>\n",
       "      <td>31</td>\n",
       "      <td>31</td>\n",
       "      <td>31</td>\n",
       "      <td>31</td>\n",
       "      <td>31</td>\n",
       "    </tr>\n",
       "    <tr>\n",
       "      <th>2</th>\n",
       "      <td>NaN</td>\n",
       "      <td>Algeria</td>\n",
       "      <td>28.0339</td>\n",
       "      <td>1.6596</td>\n",
       "      <td>0</td>\n",
       "      <td>0</td>\n",
       "      <td>0</td>\n",
       "      <td>0</td>\n",
       "      <td>0</td>\n",
       "      <td>0</td>\n",
       "      <td>...</td>\n",
       "      <td>476</td>\n",
       "      <td>483</td>\n",
       "      <td>488</td>\n",
       "      <td>494</td>\n",
       "      <td>502</td>\n",
       "      <td>507</td>\n",
       "      <td>515</td>\n",
       "      <td>522</td>\n",
       "      <td>529</td>\n",
       "      <td>536</td>\n",
       "    </tr>\n",
       "    <tr>\n",
       "      <th>3</th>\n",
       "      <td>NaN</td>\n",
       "      <td>Andorra</td>\n",
       "      <td>42.5063</td>\n",
       "      <td>1.5218</td>\n",
       "      <td>0</td>\n",
       "      <td>0</td>\n",
       "      <td>0</td>\n",
       "      <td>0</td>\n",
       "      <td>0</td>\n",
       "      <td>0</td>\n",
       "      <td>...</td>\n",
       "      <td>46</td>\n",
       "      <td>47</td>\n",
       "      <td>47</td>\n",
       "      <td>48</td>\n",
       "      <td>48</td>\n",
       "      <td>48</td>\n",
       "      <td>48</td>\n",
       "      <td>49</td>\n",
       "      <td>49</td>\n",
       "      <td>49</td>\n",
       "    </tr>\n",
       "    <tr>\n",
       "      <th>4</th>\n",
       "      <td>NaN</td>\n",
       "      <td>Angola</td>\n",
       "      <td>-11.2027</td>\n",
       "      <td>17.8739</td>\n",
       "      <td>0</td>\n",
       "      <td>0</td>\n",
       "      <td>0</td>\n",
       "      <td>0</td>\n",
       "      <td>0</td>\n",
       "      <td>0</td>\n",
       "      <td>...</td>\n",
       "      <td>2</td>\n",
       "      <td>2</td>\n",
       "      <td>2</td>\n",
       "      <td>2</td>\n",
       "      <td>2</td>\n",
       "      <td>2</td>\n",
       "      <td>2</td>\n",
       "      <td>2</td>\n",
       "      <td>2</td>\n",
       "      <td>2</td>\n",
       "    </tr>\n",
       "  </tbody>\n",
       "</table>\n",
       "<p>5 rows × 119 columns</p>\n",
       "</div>"
      ],
      "text/plain": [
       "  Province/State Country/Region      Lat     Long  1/22/20  1/23/20  1/24/20  \\\n",
       "0            NaN    Afghanistan  33.0000  65.0000        0        0        0   \n",
       "1            NaN        Albania  41.1533  20.1683        0        0        0   \n",
       "2            NaN        Algeria  28.0339   1.6596        0        0        0   \n",
       "3            NaN        Andorra  42.5063   1.5218        0        0        0   \n",
       "4            NaN         Angola -11.2027  17.8739        0        0        0   \n",
       "\n",
       "   1/25/20  1/26/20  1/27/20  ...  5/6/20  5/7/20  5/8/20  5/9/20  5/10/20  \\\n",
       "0        0        0        0  ...     104     106     109     115      120   \n",
       "1        0        0        0  ...      31      31      31      31       31   \n",
       "2        0        0        0  ...     476     483     488     494      502   \n",
       "3        0        0        0  ...      46      47      47      48       48   \n",
       "4        0        0        0  ...       2       2       2       2        2   \n",
       "\n",
       "   5/11/20  5/12/20  5/13/20  5/14/20  5/15/20  \n",
       "0      122      127      132      136      153  \n",
       "1       31       31       31       31       31  \n",
       "2      507      515      522      529      536  \n",
       "3       48       48       49       49       49  \n",
       "4        2        2        2        2        2  \n",
       "\n",
       "[5 rows x 119 columns]"
      ]
     },
     "execution_count": 290,
     "metadata": {},
     "output_type": "execute_result"
    }
   ],
   "source": [
    "# Check layout of df_JHU_Fatality vsiually\n",
    "df_JHU_Fatality.head()"
   ]
  },
  {
   "cell_type": "code",
   "execution_count": 291,
   "metadata": {},
   "outputs": [
    {
     "data": {
      "text/html": [
       "<div>\n",
       "<style scoped>\n",
       "    .dataframe tbody tr th:only-of-type {\n",
       "        vertical-align: middle;\n",
       "    }\n",
       "\n",
       "    .dataframe tbody tr th {\n",
       "        vertical-align: top;\n",
       "    }\n",
       "\n",
       "    .dataframe thead th {\n",
       "        text-align: right;\n",
       "    }\n",
       "</style>\n",
       "<table border=\"1\" class=\"dataframe\">\n",
       "  <thead>\n",
       "    <tr style=\"text-align: right;\">\n",
       "      <th></th>\n",
       "      <th>Province/State</th>\n",
       "      <th>Country/Region</th>\n",
       "      <th>Lat</th>\n",
       "      <th>Long</th>\n",
       "      <th>1/22/20</th>\n",
       "      <th>1/23/20</th>\n",
       "      <th>1/24/20</th>\n",
       "      <th>1/25/20</th>\n",
       "      <th>1/26/20</th>\n",
       "      <th>1/27/20</th>\n",
       "      <th>...</th>\n",
       "      <th>5/6/20</th>\n",
       "      <th>5/7/20</th>\n",
       "      <th>5/8/20</th>\n",
       "      <th>5/9/20</th>\n",
       "      <th>5/10/20</th>\n",
       "      <th>5/11/20</th>\n",
       "      <th>5/12/20</th>\n",
       "      <th>5/13/20</th>\n",
       "      <th>5/14/20</th>\n",
       "      <th>5/15/20</th>\n",
       "    </tr>\n",
       "  </thead>\n",
       "  <tbody>\n",
       "    <tr>\n",
       "      <th>0</th>\n",
       "      <td>NaN</td>\n",
       "      <td>Afghanistan</td>\n",
       "      <td>33.0000</td>\n",
       "      <td>65.0000</td>\n",
       "      <td>0</td>\n",
       "      <td>0</td>\n",
       "      <td>0</td>\n",
       "      <td>0</td>\n",
       "      <td>0</td>\n",
       "      <td>0</td>\n",
       "      <td>...</td>\n",
       "      <td>3392</td>\n",
       "      <td>3563</td>\n",
       "      <td>3778</td>\n",
       "      <td>4033</td>\n",
       "      <td>4402</td>\n",
       "      <td>4687</td>\n",
       "      <td>4963</td>\n",
       "      <td>5226</td>\n",
       "      <td>5639</td>\n",
       "      <td>6053</td>\n",
       "    </tr>\n",
       "    <tr>\n",
       "      <th>1</th>\n",
       "      <td>NaN</td>\n",
       "      <td>Albania</td>\n",
       "      <td>41.1533</td>\n",
       "      <td>20.1683</td>\n",
       "      <td>0</td>\n",
       "      <td>0</td>\n",
       "      <td>0</td>\n",
       "      <td>0</td>\n",
       "      <td>0</td>\n",
       "      <td>0</td>\n",
       "      <td>...</td>\n",
       "      <td>832</td>\n",
       "      <td>842</td>\n",
       "      <td>850</td>\n",
       "      <td>856</td>\n",
       "      <td>868</td>\n",
       "      <td>872</td>\n",
       "      <td>876</td>\n",
       "      <td>880</td>\n",
       "      <td>898</td>\n",
       "      <td>916</td>\n",
       "    </tr>\n",
       "    <tr>\n",
       "      <th>2</th>\n",
       "      <td>NaN</td>\n",
       "      <td>Algeria</td>\n",
       "      <td>28.0339</td>\n",
       "      <td>1.6596</td>\n",
       "      <td>0</td>\n",
       "      <td>0</td>\n",
       "      <td>0</td>\n",
       "      <td>0</td>\n",
       "      <td>0</td>\n",
       "      <td>0</td>\n",
       "      <td>...</td>\n",
       "      <td>4997</td>\n",
       "      <td>5182</td>\n",
       "      <td>5369</td>\n",
       "      <td>5558</td>\n",
       "      <td>5723</td>\n",
       "      <td>5891</td>\n",
       "      <td>6067</td>\n",
       "      <td>6253</td>\n",
       "      <td>6442</td>\n",
       "      <td>6629</td>\n",
       "    </tr>\n",
       "    <tr>\n",
       "      <th>3</th>\n",
       "      <td>NaN</td>\n",
       "      <td>Andorra</td>\n",
       "      <td>42.5063</td>\n",
       "      <td>1.5218</td>\n",
       "      <td>0</td>\n",
       "      <td>0</td>\n",
       "      <td>0</td>\n",
       "      <td>0</td>\n",
       "      <td>0</td>\n",
       "      <td>0</td>\n",
       "      <td>...</td>\n",
       "      <td>751</td>\n",
       "      <td>752</td>\n",
       "      <td>752</td>\n",
       "      <td>754</td>\n",
       "      <td>755</td>\n",
       "      <td>755</td>\n",
       "      <td>758</td>\n",
       "      <td>760</td>\n",
       "      <td>761</td>\n",
       "      <td>761</td>\n",
       "    </tr>\n",
       "    <tr>\n",
       "      <th>4</th>\n",
       "      <td>NaN</td>\n",
       "      <td>Angola</td>\n",
       "      <td>-11.2027</td>\n",
       "      <td>17.8739</td>\n",
       "      <td>0</td>\n",
       "      <td>0</td>\n",
       "      <td>0</td>\n",
       "      <td>0</td>\n",
       "      <td>0</td>\n",
       "      <td>0</td>\n",
       "      <td>...</td>\n",
       "      <td>36</td>\n",
       "      <td>36</td>\n",
       "      <td>43</td>\n",
       "      <td>43</td>\n",
       "      <td>45</td>\n",
       "      <td>45</td>\n",
       "      <td>45</td>\n",
       "      <td>45</td>\n",
       "      <td>48</td>\n",
       "      <td>48</td>\n",
       "    </tr>\n",
       "  </tbody>\n",
       "</table>\n",
       "<p>5 rows × 119 columns</p>\n",
       "</div>"
      ],
      "text/plain": [
       "  Province/State Country/Region      Lat     Long  1/22/20  1/23/20  1/24/20  \\\n",
       "0            NaN    Afghanistan  33.0000  65.0000        0        0        0   \n",
       "1            NaN        Albania  41.1533  20.1683        0        0        0   \n",
       "2            NaN        Algeria  28.0339   1.6596        0        0        0   \n",
       "3            NaN        Andorra  42.5063   1.5218        0        0        0   \n",
       "4            NaN         Angola -11.2027  17.8739        0        0        0   \n",
       "\n",
       "   1/25/20  1/26/20  1/27/20  ...  5/6/20  5/7/20  5/8/20  5/9/20  5/10/20  \\\n",
       "0        0        0        0  ...    3392    3563    3778    4033     4402   \n",
       "1        0        0        0  ...     832     842     850     856      868   \n",
       "2        0        0        0  ...    4997    5182    5369    5558     5723   \n",
       "3        0        0        0  ...     751     752     752     754      755   \n",
       "4        0        0        0  ...      36      36      43      43       45   \n",
       "\n",
       "   5/11/20  5/12/20  5/13/20  5/14/20  5/15/20  \n",
       "0     4687     4963     5226     5639     6053  \n",
       "1      872      876      880      898      916  \n",
       "2     5891     6067     6253     6442     6629  \n",
       "3      755      758      760      761      761  \n",
       "4       45       45       45       48       48  \n",
       "\n",
       "[5 rows x 119 columns]"
      ]
     },
     "execution_count": 291,
     "metadata": {},
     "output_type": "execute_result"
    }
   ],
   "source": [
    "# Check layout of df_JHU_Confirmed vsiually\n",
    "df_JHU_Confirmed.head()"
   ]
  },
  {
   "cell_type": "code",
   "execution_count": 292,
   "metadata": {},
   "outputs": [
    {
     "data": {
      "text/html": [
       "<div>\n",
       "<style scoped>\n",
       "    .dataframe tbody tr th:only-of-type {\n",
       "        vertical-align: middle;\n",
       "    }\n",
       "\n",
       "    .dataframe tbody tr th {\n",
       "        vertical-align: top;\n",
       "    }\n",
       "\n",
       "    .dataframe thead th {\n",
       "        text-align: right;\n",
       "    }\n",
       "</style>\n",
       "<table border=\"1\" class=\"dataframe\">\n",
       "  <thead>\n",
       "    <tr style=\"text-align: right;\">\n",
       "      <th></th>\n",
       "      <th>Province/State</th>\n",
       "      <th>Country/Region</th>\n",
       "      <th>Lat</th>\n",
       "      <th>Long</th>\n",
       "      <th>1/22/20</th>\n",
       "      <th>1/23/20</th>\n",
       "      <th>1/24/20</th>\n",
       "      <th>1/25/20</th>\n",
       "      <th>1/26/20</th>\n",
       "      <th>1/27/20</th>\n",
       "      <th>...</th>\n",
       "      <th>5/6/20</th>\n",
       "      <th>5/7/20</th>\n",
       "      <th>5/8/20</th>\n",
       "      <th>5/9/20</th>\n",
       "      <th>5/10/20</th>\n",
       "      <th>5/11/20</th>\n",
       "      <th>5/12/20</th>\n",
       "      <th>5/13/20</th>\n",
       "      <th>5/14/20</th>\n",
       "      <th>5/15/20</th>\n",
       "    </tr>\n",
       "  </thead>\n",
       "  <tbody>\n",
       "    <tr>\n",
       "      <th>0</th>\n",
       "      <td>NaN</td>\n",
       "      <td>Afghanistan</td>\n",
       "      <td>33.0000</td>\n",
       "      <td>65.0000</td>\n",
       "      <td>0</td>\n",
       "      <td>0</td>\n",
       "      <td>0</td>\n",
       "      <td>0</td>\n",
       "      <td>0</td>\n",
       "      <td>0</td>\n",
       "      <td>...</td>\n",
       "      <td>458</td>\n",
       "      <td>468</td>\n",
       "      <td>472</td>\n",
       "      <td>502</td>\n",
       "      <td>558</td>\n",
       "      <td>558</td>\n",
       "      <td>610</td>\n",
       "      <td>648</td>\n",
       "      <td>691</td>\n",
       "      <td>745</td>\n",
       "    </tr>\n",
       "    <tr>\n",
       "      <th>1</th>\n",
       "      <td>NaN</td>\n",
       "      <td>Albania</td>\n",
       "      <td>41.1533</td>\n",
       "      <td>20.1683</td>\n",
       "      <td>0</td>\n",
       "      <td>0</td>\n",
       "      <td>0</td>\n",
       "      <td>0</td>\n",
       "      <td>0</td>\n",
       "      <td>0</td>\n",
       "      <td>...</td>\n",
       "      <td>595</td>\n",
       "      <td>605</td>\n",
       "      <td>620</td>\n",
       "      <td>627</td>\n",
       "      <td>650</td>\n",
       "      <td>654</td>\n",
       "      <td>682</td>\n",
       "      <td>688</td>\n",
       "      <td>694</td>\n",
       "      <td>705</td>\n",
       "    </tr>\n",
       "    <tr>\n",
       "      <th>2</th>\n",
       "      <td>NaN</td>\n",
       "      <td>Algeria</td>\n",
       "      <td>28.0339</td>\n",
       "      <td>1.6596</td>\n",
       "      <td>0</td>\n",
       "      <td>0</td>\n",
       "      <td>0</td>\n",
       "      <td>0</td>\n",
       "      <td>0</td>\n",
       "      <td>0</td>\n",
       "      <td>...</td>\n",
       "      <td>2197</td>\n",
       "      <td>2323</td>\n",
       "      <td>2467</td>\n",
       "      <td>2546</td>\n",
       "      <td>2678</td>\n",
       "      <td>2841</td>\n",
       "      <td>2998</td>\n",
       "      <td>3058</td>\n",
       "      <td>3158</td>\n",
       "      <td>3271</td>\n",
       "    </tr>\n",
       "    <tr>\n",
       "      <th>3</th>\n",
       "      <td>NaN</td>\n",
       "      <td>Andorra</td>\n",
       "      <td>42.5063</td>\n",
       "      <td>1.5218</td>\n",
       "      <td>0</td>\n",
       "      <td>0</td>\n",
       "      <td>0</td>\n",
       "      <td>0</td>\n",
       "      <td>0</td>\n",
       "      <td>0</td>\n",
       "      <td>...</td>\n",
       "      <td>521</td>\n",
       "      <td>526</td>\n",
       "      <td>537</td>\n",
       "      <td>545</td>\n",
       "      <td>550</td>\n",
       "      <td>550</td>\n",
       "      <td>568</td>\n",
       "      <td>576</td>\n",
       "      <td>596</td>\n",
       "      <td>604</td>\n",
       "    </tr>\n",
       "    <tr>\n",
       "      <th>4</th>\n",
       "      <td>NaN</td>\n",
       "      <td>Angola</td>\n",
       "      <td>-11.2027</td>\n",
       "      <td>17.8739</td>\n",
       "      <td>0</td>\n",
       "      <td>0</td>\n",
       "      <td>0</td>\n",
       "      <td>0</td>\n",
       "      <td>0</td>\n",
       "      <td>0</td>\n",
       "      <td>...</td>\n",
       "      <td>11</td>\n",
       "      <td>11</td>\n",
       "      <td>11</td>\n",
       "      <td>13</td>\n",
       "      <td>13</td>\n",
       "      <td>13</td>\n",
       "      <td>13</td>\n",
       "      <td>14</td>\n",
       "      <td>14</td>\n",
       "      <td>17</td>\n",
       "    </tr>\n",
       "  </tbody>\n",
       "</table>\n",
       "<p>5 rows × 119 columns</p>\n",
       "</div>"
      ],
      "text/plain": [
       "  Province/State Country/Region      Lat     Long  1/22/20  1/23/20  1/24/20  \\\n",
       "0            NaN    Afghanistan  33.0000  65.0000        0        0        0   \n",
       "1            NaN        Albania  41.1533  20.1683        0        0        0   \n",
       "2            NaN        Algeria  28.0339   1.6596        0        0        0   \n",
       "3            NaN        Andorra  42.5063   1.5218        0        0        0   \n",
       "4            NaN         Angola -11.2027  17.8739        0        0        0   \n",
       "\n",
       "   1/25/20  1/26/20  1/27/20  ...  5/6/20  5/7/20  5/8/20  5/9/20  5/10/20  \\\n",
       "0        0        0        0  ...     458     468     472     502      558   \n",
       "1        0        0        0  ...     595     605     620     627      650   \n",
       "2        0        0        0  ...    2197    2323    2467    2546     2678   \n",
       "3        0        0        0  ...     521     526     537     545      550   \n",
       "4        0        0        0  ...      11      11      11      13       13   \n",
       "\n",
       "   5/11/20  5/12/20  5/13/20  5/14/20  5/15/20  \n",
       "0      558      610      648      691      745  \n",
       "1      654      682      688      694      705  \n",
       "2     2841     2998     3058     3158     3271  \n",
       "3      550      568      576      596      604  \n",
       "4       13       13       14       14       17  \n",
       "\n",
       "[5 rows x 119 columns]"
      ]
     },
     "execution_count": 292,
     "metadata": {},
     "output_type": "execute_result"
    }
   ],
   "source": [
    "# Check layout of df_JHU_Recovered vsiually\n",
    "df_JHU_Recovered.head()"
   ]
  },
  {
   "cell_type": "markdown",
   "metadata": {},
   "source": [
    "### b. Programmatic assessment"
   ]
  },
  {
   "cell_type": "code",
   "execution_count": 293,
   "metadata": {},
   "outputs": [
    {
     "data": {
      "text/plain": [
       "array(['Afghanistan', 'Albania', 'Algeria', 'Andorra', 'Angola',\n",
       "       'Antigua and Barbuda', 'Argentina', 'Armenia', 'Australia',\n",
       "       'Austria', 'Azerbaijan', 'Bahamas', 'Bahrain', 'Bangladesh',\n",
       "       'Barbados', 'Belarus', 'Belgium', 'Belize', 'Benin', 'Bhutan',\n",
       "       'Bolivia', 'Bosnia and Herzegovina', 'Brazil', 'Brunei',\n",
       "       'Bulgaria', 'Burkina Faso', 'Cabo Verde', 'Cambodia', 'Cameroon',\n",
       "       'Canada', 'Central African Republic', 'Chad', 'Chile', 'China',\n",
       "       'Colombia', 'Congo (Brazzaville)', 'Congo (Kinshasa)',\n",
       "       'Costa Rica', \"Cote d'Ivoire\", 'Croatia', 'Diamond Princess',\n",
       "       'Cuba', 'Cyprus', 'Czechia', 'Denmark', 'Djibouti', 'Dominica',\n",
       "       'Dominican Republic', 'Ecuador', 'Egypt', 'El Salvador',\n",
       "       'Equatorial Guinea', 'Eritrea', 'Estonia', 'Eswatini', 'Ethiopia',\n",
       "       'Fiji', 'Finland', 'France', 'Gabon', 'Gambia', 'Georgia',\n",
       "       'Germany', 'Ghana', 'Grenada', 'Greece', 'Guatemala', 'Guinea',\n",
       "       'Guinea-Bissau', 'Guyana', 'Haiti', 'Holy See', 'Honduras',\n",
       "       'Hungary', 'Iceland', 'India', 'Indonesia', 'Iran', 'Iraq',\n",
       "       'Ireland', 'Israel', 'Italy', 'Jamaica', 'Japan', 'Jordan',\n",
       "       'Kazakhstan', 'Kenya', 'Korea, South', 'Kuwait', 'Kyrgyzstan',\n",
       "       'Latvia', 'Lebanon', 'Liberia', 'Libya', 'Liechtenstein',\n",
       "       'Lithuania', 'Luxembourg', 'Madagascar', 'Malaysia', 'Maldives',\n",
       "       'Mali', 'Malta', 'Mauritania', 'Mauritius', 'Mexico', 'Moldova',\n",
       "       'Monaco', 'Mongolia', 'Montenegro', 'Morocco', 'Mozambique',\n",
       "       'Namibia', 'Nepal', 'Netherlands', 'New Zealand', 'Nicaragua',\n",
       "       'Niger', 'Nigeria', 'North Macedonia', 'Norway', 'Oman',\n",
       "       'Pakistan', 'Panama', 'Papua New Guinea', 'Paraguay', 'Peru',\n",
       "       'Philippines', 'Poland', 'Portugal', 'Qatar', 'Romania', 'Russia',\n",
       "       'Rwanda', 'Saint Kitts and Nevis', 'Saint Lucia',\n",
       "       'Saint Vincent and the Grenadines', 'San Marino', 'Saudi Arabia',\n",
       "       'Senegal', 'Serbia', 'Seychelles', 'Singapore', 'Slovakia',\n",
       "       'Slovenia', 'Somalia', 'South Africa', 'Spain', 'Sri Lanka',\n",
       "       'Sudan', 'Suriname', 'Sweden', 'Switzerland', 'Syria', 'Taiwan*',\n",
       "       'Tanzania', 'Thailand', 'Timor-Leste', 'Togo',\n",
       "       'Trinidad and Tobago', 'Tunisia', 'Turkey', 'Uganda', 'Ukraine',\n",
       "       'United Arab Emirates', 'United Kingdom', 'Uruguay', 'US',\n",
       "       'Uzbekistan', 'Venezuela', 'Vietnam', 'Zambia', 'Zimbabwe',\n",
       "       'West Bank and Gaza', 'Laos', 'Kosovo', 'Burma', 'MS Zaandam',\n",
       "       'Botswana', 'Burundi', 'Sierra Leone', 'Malawi', 'South Sudan',\n",
       "       'Western Sahara', 'Sao Tome and Principe', 'Yemen', 'Comoros',\n",
       "       'Tajikistan', 'Lesotho'], dtype=object)"
      ]
     },
     "execution_count": 293,
     "metadata": {},
     "output_type": "execute_result"
    }
   ],
   "source": [
    "# List of countries that are avaoilable in John Hopkins Dataset\n",
    "df_JHU_Recovered['Country/Region'].unique()"
   ]
  },
  {
   "cell_type": "code",
   "execution_count": 294,
   "metadata": {},
   "outputs": [
    {
     "data": {
      "text/plain": [
       "array(['Aruba', 'Afghanistan', 'Angola', 'Anguilla', 'Albania', 'Andorra',\n",
       "       'United Arab Emirates', 'Argentina', 'Armenia',\n",
       "       'Antigua and Barbuda', 'Australia', 'Austria', 'Azerbaijan',\n",
       "       'Burundi', 'Belgium', 'Benin', 'Bonaire Sint Eustatius and Saba',\n",
       "       'Burkina Faso', 'Bangladesh', 'Bulgaria', 'Bahrain', 'Bahamas',\n",
       "       'Bosnia and Herzegovina', 'Belarus', 'Belize', 'Bermuda',\n",
       "       'Bolivia', 'Brazil', 'Barbados', 'Brunei', 'Bhutan', 'Botswana',\n",
       "       'Central African Republic', 'Canada', 'Switzerland', 'Chile',\n",
       "       'China', \"Cote d'Ivoire\", 'Cameroon',\n",
       "       'Democratic Republic of Congo', 'Congo', 'Colombia', 'Comoros',\n",
       "       'Cape Verde', 'Costa Rica', 'Cuba', 'Curacao', 'Cayman Islands',\n",
       "       'Cyprus', 'Czech Republic', 'Germany', 'Djibouti', 'Dominica',\n",
       "       'Denmark', 'Dominican Republic', 'Algeria', 'Ecuador', 'Egypt',\n",
       "       'Eritrea', 'Western Sahara', 'Spain', 'Estonia', 'Ethiopia',\n",
       "       'Finland', 'Fiji', 'Falkland Islands', 'France', 'Faeroe Islands',\n",
       "       'Gabon', 'United Kingdom', 'Georgia', 'Guernsey', 'Ghana',\n",
       "       'Gibraltar', 'Guinea', 'Gambia', 'Guinea-Bissau',\n",
       "       'Equatorial Guinea', 'Greece', 'Grenada', 'Greenland', 'Guatemala',\n",
       "       'Guam', 'Guyana', 'Hong Kong', 'Honduras', 'Croatia', 'Haiti',\n",
       "       'Hungary', 'Indonesia', 'Isle of Man', 'India', 'Ireland', 'Iran',\n",
       "       'Iraq', 'Iceland', 'Israel', 'Italy', 'Jamaica', 'Jersey',\n",
       "       'Jordan', 'Japan', 'Kazakhstan', 'Kenya', 'Kyrgyzstan', 'Cambodia',\n",
       "       'Saint Kitts and Nevis', 'South Korea', 'Kuwait', 'Laos',\n",
       "       'Lebanon', 'Liberia', 'Libya', 'Saint Lucia', 'Liechtenstein',\n",
       "       'Sri Lanka', 'Lesotho', 'Lithuania', 'Luxembourg', 'Latvia',\n",
       "       'Morocco', 'Monaco', 'Moldova', 'Madagascar', 'Maldives', 'Mexico',\n",
       "       'Macedonia', 'Mali', 'Malta', 'Myanmar', 'Montenegro', 'Mongolia',\n",
       "       'Northern Mariana Islands', 'Mozambique', 'Mauritania',\n",
       "       'Montserrat', 'Mauritius', 'Malawi', 'Malaysia', 'Namibia',\n",
       "       'New Caledonia', 'Niger', 'Nigeria', 'Nicaragua', 'Netherlands',\n",
       "       'Norway', 'Nepal', 'New Zealand', 'Oman', 'Pakistan', 'Panama',\n",
       "       'Peru', 'Philippines', 'Papua New Guinea', 'Poland', 'Puerto Rico',\n",
       "       'Portugal', 'Paraguay', 'Palestine', 'French Polynesia', 'Qatar',\n",
       "       'Kosovo', 'Romania', 'Russia', 'Rwanda', 'Saudi Arabia', 'Sudan',\n",
       "       'Senegal', 'Singapore', 'Sierra Leone', 'El Salvador',\n",
       "       'San Marino', 'Somalia', 'Serbia', 'South Sudan',\n",
       "       'Sao Tome and Principe', 'Suriname', 'Slovakia', 'Slovenia',\n",
       "       'Sweden', 'Swaziland', 'Sint Maarten (Dutch part)', 'Seychelles',\n",
       "       'Syria', 'Turks and Caicos Islands', 'Chad', 'Togo', 'Thailand',\n",
       "       'Tajikistan', 'Timor', 'Trinidad and Tobago', 'Tunisia', 'Turkey',\n",
       "       'Taiwan', 'Tanzania', 'Uganda', 'Ukraine', 'Uruguay',\n",
       "       'United States', 'Uzbekistan', 'Vatican',\n",
       "       'Saint Vincent and the Grenadines', 'Venezuela',\n",
       "       'British Virgin Islands', 'United States Virgin Islands',\n",
       "       'Vietnam', 'Yemen', 'South Africa', 'Zambia', 'Zimbabwe', 'World',\n",
       "       'International'], dtype=object)"
      ]
     },
     "execution_count": 294,
     "metadata": {},
     "output_type": "execute_result"
    }
   ],
   "source": [
    "# List of countries that are avaoilable in John Hopkins Dataset\n",
    "df_OWID_Covid['location'].unique()"
   ]
  },
  {
   "cell_type": "code",
   "execution_count": 295,
   "metadata": {},
   "outputs": [
    {
     "data": {
      "text/plain": [
       "['iso_code',\n",
       " 'location',\n",
       " 'date',\n",
       " 'total_cases',\n",
       " 'new_cases',\n",
       " 'total_deaths',\n",
       " 'new_deaths',\n",
       " 'total_cases_per_million',\n",
       " 'new_cases_per_million',\n",
       " 'total_deaths_per_million',\n",
       " 'new_deaths_per_million',\n",
       " 'total_tests',\n",
       " 'new_tests',\n",
       " 'total_tests_per_thousand',\n",
       " 'new_tests_per_thousand',\n",
       " 'tests_units',\n",
       " 'population',\n",
       " 'population_density',\n",
       " 'median_age',\n",
       " 'aged_65_older',\n",
       " 'aged_70_older',\n",
       " 'gdp_per_capita',\n",
       " 'extreme_poverty',\n",
       " 'cvd_death_rate',\n",
       " 'diabetes_prevalence',\n",
       " 'female_smokers',\n",
       " 'male_smokers',\n",
       " 'handwashing_facilities',\n",
       " 'hospital_beds_per_100k']"
      ]
     },
     "execution_count": 295,
     "metadata": {},
     "output_type": "execute_result"
    }
   ],
   "source": [
    "# Available variables in dataset\n",
    "list(df_OWID_Covid)"
   ]
  },
  {
   "cell_type": "code",
   "execution_count": 296,
   "metadata": {},
   "outputs": [
    {
     "data": {
      "text/html": [
       "<div>\n",
       "<style scoped>\n",
       "    .dataframe tbody tr th:only-of-type {\n",
       "        vertical-align: middle;\n",
       "    }\n",
       "\n",
       "    .dataframe tbody tr th {\n",
       "        vertical-align: top;\n",
       "    }\n",
       "\n",
       "    .dataframe thead th {\n",
       "        text-align: right;\n",
       "    }\n",
       "</style>\n",
       "<table border=\"1\" class=\"dataframe\">\n",
       "  <thead>\n",
       "    <tr style=\"text-align: right;\">\n",
       "      <th></th>\n",
       "      <th>iso_code</th>\n",
       "      <th>location</th>\n",
       "      <th>date</th>\n",
       "      <th>total_cases</th>\n",
       "      <th>new_cases</th>\n",
       "      <th>total_deaths</th>\n",
       "      <th>new_deaths</th>\n",
       "      <th>total_cases_per_million</th>\n",
       "      <th>new_cases_per_million</th>\n",
       "      <th>total_deaths_per_million</th>\n",
       "      <th>...</th>\n",
       "      <th>aged_65_older</th>\n",
       "      <th>aged_70_older</th>\n",
       "      <th>gdp_per_capita</th>\n",
       "      <th>extreme_poverty</th>\n",
       "      <th>cvd_death_rate</th>\n",
       "      <th>diabetes_prevalence</th>\n",
       "      <th>female_smokers</th>\n",
       "      <th>male_smokers</th>\n",
       "      <th>handwashing_facilities</th>\n",
       "      <th>hospital_beds_per_100k</th>\n",
       "    </tr>\n",
       "  </thead>\n",
       "  <tbody>\n",
       "    <tr>\n",
       "      <th>4144</th>\n",
       "      <td>DEU</td>\n",
       "      <td>Germany</td>\n",
       "      <td>2020-05-13</td>\n",
       "      <td>171306</td>\n",
       "      <td>798</td>\n",
       "      <td>7634</td>\n",
       "      <td>101</td>\n",
       "      <td>2044.616</td>\n",
       "      <td>9.524</td>\n",
       "      <td>91.115</td>\n",
       "      <td>...</td>\n",
       "      <td>21.453</td>\n",
       "      <td>15.957</td>\n",
       "      <td>45229.245</td>\n",
       "      <td>NaN</td>\n",
       "      <td>156.139</td>\n",
       "      <td>8.31</td>\n",
       "      <td>28.2</td>\n",
       "      <td>33.1</td>\n",
       "      <td>NaN</td>\n",
       "      <td>8.0</td>\n",
       "    </tr>\n",
       "  </tbody>\n",
       "</table>\n",
       "<p>1 rows × 29 columns</p>\n",
       "</div>"
      ],
      "text/plain": [
       "     iso_code location        date  total_cases  new_cases  total_deaths  \\\n",
       "4144      DEU  Germany  2020-05-13       171306        798          7634   \n",
       "\n",
       "      new_deaths  total_cases_per_million  new_cases_per_million  \\\n",
       "4144         101                 2044.616                  9.524   \n",
       "\n",
       "      total_deaths_per_million  ...  aged_65_older  aged_70_older  \\\n",
       "4144                    91.115  ...         21.453         15.957   \n",
       "\n",
       "      gdp_per_capita  extreme_poverty  cvd_death_rate diabetes_prevalence  \\\n",
       "4144       45229.245              NaN         156.139                8.31   \n",
       "\n",
       "      female_smokers  male_smokers  handwashing_facilities  \\\n",
       "4144            28.2          33.1                     NaN   \n",
       "\n",
       "      hospital_beds_per_100k  \n",
       "4144                     8.0  \n",
       "\n",
       "[1 rows x 29 columns]"
      ]
     },
     "execution_count": 296,
     "metadata": {},
     "output_type": "execute_result"
    }
   ],
   "source": [
    "df_OWID_Covid.query('location == \"Germany\" and date == \"2020-05-13\"')"
   ]
  },
  {
   "cell_type": "code",
   "execution_count": 297,
   "metadata": {},
   "outputs": [
    {
     "data": {
      "text/html": [
       "<div>\n",
       "<style scoped>\n",
       "    .dataframe tbody tr th:only-of-type {\n",
       "        vertical-align: middle;\n",
       "    }\n",
       "\n",
       "    .dataframe tbody tr th {\n",
       "        vertical-align: top;\n",
       "    }\n",
       "\n",
       "    .dataframe thead th {\n",
       "        text-align: right;\n",
       "    }\n",
       "</style>\n",
       "<table border=\"1\" class=\"dataframe\">\n",
       "  <thead>\n",
       "    <tr style=\"text-align: right;\">\n",
       "      <th></th>\n",
       "      <th>Province/State</th>\n",
       "      <th>country</th>\n",
       "      <th>Lat</th>\n",
       "      <th>Long</th>\n",
       "      <th>1/22/20</th>\n",
       "      <th>1/23/20</th>\n",
       "      <th>1/24/20</th>\n",
       "      <th>1/25/20</th>\n",
       "      <th>1/26/20</th>\n",
       "      <th>1/27/20</th>\n",
       "      <th>...</th>\n",
       "      <th>5/6/20</th>\n",
       "      <th>5/7/20</th>\n",
       "      <th>5/8/20</th>\n",
       "      <th>5/9/20</th>\n",
       "      <th>5/10/20</th>\n",
       "      <th>5/11/20</th>\n",
       "      <th>5/12/20</th>\n",
       "      <th>5/13/20</th>\n",
       "      <th>5/14/20</th>\n",
       "      <th>5/15/20</th>\n",
       "    </tr>\n",
       "  </thead>\n",
       "  <tbody>\n",
       "    <tr>\n",
       "      <th>120</th>\n",
       "      <td>NaN</td>\n",
       "      <td>Germany</td>\n",
       "      <td>51.0</td>\n",
       "      <td>9.0</td>\n",
       "      <td>0</td>\n",
       "      <td>0</td>\n",
       "      <td>0</td>\n",
       "      <td>0</td>\n",
       "      <td>0</td>\n",
       "      <td>1</td>\n",
       "      <td>...</td>\n",
       "      <td>168162</td>\n",
       "      <td>169430</td>\n",
       "      <td>170588</td>\n",
       "      <td>171324</td>\n",
       "      <td>171879</td>\n",
       "      <td>172576</td>\n",
       "      <td>173171</td>\n",
       "      <td>174098</td>\n",
       "      <td>174478</td>\n",
       "      <td>175233</td>\n",
       "    </tr>\n",
       "  </tbody>\n",
       "</table>\n",
       "<p>1 rows × 119 columns</p>\n",
       "</div>"
      ],
      "text/plain": [
       "    Province/State  country   Lat  Long  1/22/20  1/23/20  1/24/20  1/25/20  \\\n",
       "120            NaN  Germany  51.0   9.0        0        0        0        0   \n",
       "\n",
       "     1/26/20  1/27/20  ...  5/6/20  5/7/20  5/8/20  5/9/20  5/10/20  5/11/20  \\\n",
       "120        0        1  ...  168162  169430  170588  171324   171879   172576   \n",
       "\n",
       "     5/12/20  5/13/20  5/14/20  5/15/20  \n",
       "120   173171   174098   174478   175233  \n",
       "\n",
       "[1 rows x 119 columns]"
      ]
     },
     "execution_count": 297,
     "metadata": {},
     "output_type": "execute_result"
    }
   ],
   "source": [
    "df_Check = df_JHU_Confirmed.copy()\n",
    "df_Check.rename(columns={'Country/Region': 'country'}, inplace=True)\n",
    "df_Check.query('country == \"Germany\"')"
   ]
  },
  {
   "cell_type": "markdown",
   "metadata": {},
   "source": [
    "### Findings, which contradict requirements:\n",
    "\n",
    "#### Quality Observations:\n",
    "- Validity: Some observations/rows in dataframes 'df_JHU_Confirmed', 'df_JHU_Recovered', 'df_JHU_Fatality' contain the values for a region, for example Australia appears multiple times in column country as the observations are per region.\n",
    "- Consistency: Data about Covid-19 cases differs slightly between John Hopkins and OWID, data which is available in both datasets will be kept only from John Hopkins\n",
    "\n",
    "#### Tidiness Observations:\n",
    "- The data of 'df_JHU_Confirmed', 'df_JHU_Recovered', 'df_JHU_Fatality' should be one observational unit 'df_covid' with columns 'country', 'date', 'recovered', 'confirmed', 'fatal' and 'date' beeing of type datetime.\n",
    "- Column 'Country/Region' should only contain countries, therefore column name should by 'country', same for OWID data.\n",
    "- Columns 'Province/State', 'Lat' and 'Long' are not necessary in dataframes 'df_JHU_Confirmed', 'df_JHU_Recovered', 'df_JHU_Fatality'\n",
    "- Data for countries, which are not of interested is not needed in dataframes 'df_JHU_Confirmed', 'df_JHU_Recovered', 'df_JHU_Fatality', 'df_JHU_Countries'\n",
    "\n",
    "\n",
    "\n",
    "\n",
    "\n",
    "- The data of 'df_OWID_Covid' contains data which changes daily, like 'total_tests', 'new_tests', 'tests_units', 'cvd_death_rate' and other wich, over the monitored timeframe, stays constant, like 'median_age', 'aged_65_older', 'aged_70_older', 'gdp_per_capita', 'extreme_poverty', 'diabetes_prevalence', 'female_smokers', 'male_smokers', 'handwashing_facilities', 'hospital_beds_per_100k. \n",
    "\n",
    "- Use isocode as primary key\n",
    "\n"
   ]
  },
  {
   "cell_type": "markdown",
   "metadata": {},
   "source": [
    "<a id='clean'></a>\n",
    "## 4. Clean data"
   ]
  },
  {
   "cell_type": "code",
   "execution_count": 298,
   "metadata": {},
   "outputs": [],
   "source": [
    "# Create copies for cleaning process to preserve original dataframes\n",
    "df_JHU_Fatality_clean = df_JHU_Fatality.copy()\n",
    "df_JHU_Confirmed_clean = df_JHU_Confirmed.copy()\n",
    "df_JHU_Recovered_clean = df_JHU_Recovered.copy()\n",
    "df_JHU_Countries_clean = df_JHU_Countries.copy()\n",
    "df_OWID_Covid_clean = df_OWID_Covid.copy()"
   ]
  },
  {
   "cell_type": "markdown",
   "metadata": {},
   "source": [
    "### Issue 1:\n",
    "#### Observe:\n",
    "-  Tidiness: Columns 'Province/State', 'Lat' and 'Long' are not necessary in dataframes 'df_JHU_Confirmed', 'df_JHU_Recovered', 'df_JHU_Fatality'"
   ]
  },
  {
   "cell_type": "markdown",
   "metadata": {},
   "source": [
    "#### Define:\n",
    "- Drop columns 'Province/State', 'Lat' and 'Long'"
   ]
  },
  {
   "cell_type": "markdown",
   "metadata": {},
   "source": [
    "#### Code:"
   ]
  },
  {
   "cell_type": "code",
   "execution_count": 299,
   "metadata": {},
   "outputs": [],
   "source": [
    "# Drop variables which are only necessary for retweets\n",
    "df_JHU_Fatality_clean.drop(['Province/State', 'Lat', 'Long'], axis=1, inplace=True)\n",
    "df_JHU_Confirmed_clean.drop(['Province/State', 'Lat', 'Long'], axis=1, inplace=True)\n",
    "df_JHU_Recovered_clean.drop(['Province/State', 'Lat', 'Long'], axis=1, inplace=True)\n",
    "df_OWID_Covid_clean.drop(['total_cases',\n",
    "                         'new_cases',\n",
    "                         'total_deaths',\n",
    "                         'new_deaths',\n",
    "                         'total_cases_per_million',\n",
    "                         'new_cases_per_million',\n",
    "                         'total_deaths_per_million',\n",
    "                         'new_deaths_per_million',\n",
    "                         'total_tests_per_thousand',\n",
    "                         'new_tests_per_thousand',\n",
    "                         'population',\n",
    "                         'population_density',], axis=1, inplace=True)"
   ]
  },
  {
   "cell_type": "markdown",
   "metadata": {},
   "source": [
    "#### Test:"
   ]
  },
  {
   "cell_type": "code",
   "execution_count": 300,
   "metadata": {},
   "outputs": [
    {
     "data": {
      "text/html": [
       "<div>\n",
       "<style scoped>\n",
       "    .dataframe tbody tr th:only-of-type {\n",
       "        vertical-align: middle;\n",
       "    }\n",
       "\n",
       "    .dataframe tbody tr th {\n",
       "        vertical-align: top;\n",
       "    }\n",
       "\n",
       "    .dataframe thead th {\n",
       "        text-align: right;\n",
       "    }\n",
       "</style>\n",
       "<table border=\"1\" class=\"dataframe\">\n",
       "  <thead>\n",
       "    <tr style=\"text-align: right;\">\n",
       "      <th></th>\n",
       "      <th>Country/Region</th>\n",
       "      <th>1/22/20</th>\n",
       "      <th>1/23/20</th>\n",
       "      <th>1/24/20</th>\n",
       "      <th>1/25/20</th>\n",
       "      <th>1/26/20</th>\n",
       "      <th>1/27/20</th>\n",
       "      <th>1/28/20</th>\n",
       "      <th>1/29/20</th>\n",
       "      <th>1/30/20</th>\n",
       "      <th>...</th>\n",
       "      <th>5/6/20</th>\n",
       "      <th>5/7/20</th>\n",
       "      <th>5/8/20</th>\n",
       "      <th>5/9/20</th>\n",
       "      <th>5/10/20</th>\n",
       "      <th>5/11/20</th>\n",
       "      <th>5/12/20</th>\n",
       "      <th>5/13/20</th>\n",
       "      <th>5/14/20</th>\n",
       "      <th>5/15/20</th>\n",
       "    </tr>\n",
       "  </thead>\n",
       "  <tbody>\n",
       "    <tr>\n",
       "      <th>0</th>\n",
       "      <td>Afghanistan</td>\n",
       "      <td>0</td>\n",
       "      <td>0</td>\n",
       "      <td>0</td>\n",
       "      <td>0</td>\n",
       "      <td>0</td>\n",
       "      <td>0</td>\n",
       "      <td>0</td>\n",
       "      <td>0</td>\n",
       "      <td>0</td>\n",
       "      <td>...</td>\n",
       "      <td>104</td>\n",
       "      <td>106</td>\n",
       "      <td>109</td>\n",
       "      <td>115</td>\n",
       "      <td>120</td>\n",
       "      <td>122</td>\n",
       "      <td>127</td>\n",
       "      <td>132</td>\n",
       "      <td>136</td>\n",
       "      <td>153</td>\n",
       "    </tr>\n",
       "  </tbody>\n",
       "</table>\n",
       "<p>1 rows × 116 columns</p>\n",
       "</div>"
      ],
      "text/plain": [
       "  Country/Region  1/22/20  1/23/20  1/24/20  1/25/20  1/26/20  1/27/20  \\\n",
       "0    Afghanistan        0        0        0        0        0        0   \n",
       "\n",
       "   1/28/20  1/29/20  1/30/20  ...  5/6/20  5/7/20  5/8/20  5/9/20  5/10/20  \\\n",
       "0        0        0        0  ...     104     106     109     115      120   \n",
       "\n",
       "   5/11/20  5/12/20  5/13/20  5/14/20  5/15/20  \n",
       "0      122      127      132      136      153  \n",
       "\n",
       "[1 rows x 116 columns]"
      ]
     },
     "execution_count": 300,
     "metadata": {},
     "output_type": "execute_result"
    }
   ],
   "source": [
    "# Check if columnns 'Province/State', 'Lat' and 'Long' dropped\n",
    "df_JHU_Fatality_clean.head(1)"
   ]
  },
  {
   "cell_type": "code",
   "execution_count": 301,
   "metadata": {},
   "outputs": [
    {
     "data": {
      "text/html": [
       "<div>\n",
       "<style scoped>\n",
       "    .dataframe tbody tr th:only-of-type {\n",
       "        vertical-align: middle;\n",
       "    }\n",
       "\n",
       "    .dataframe tbody tr th {\n",
       "        vertical-align: top;\n",
       "    }\n",
       "\n",
       "    .dataframe thead th {\n",
       "        text-align: right;\n",
       "    }\n",
       "</style>\n",
       "<table border=\"1\" class=\"dataframe\">\n",
       "  <thead>\n",
       "    <tr style=\"text-align: right;\">\n",
       "      <th></th>\n",
       "      <th>Country/Region</th>\n",
       "      <th>1/22/20</th>\n",
       "      <th>1/23/20</th>\n",
       "      <th>1/24/20</th>\n",
       "      <th>1/25/20</th>\n",
       "      <th>1/26/20</th>\n",
       "      <th>1/27/20</th>\n",
       "      <th>1/28/20</th>\n",
       "      <th>1/29/20</th>\n",
       "      <th>1/30/20</th>\n",
       "      <th>...</th>\n",
       "      <th>5/6/20</th>\n",
       "      <th>5/7/20</th>\n",
       "      <th>5/8/20</th>\n",
       "      <th>5/9/20</th>\n",
       "      <th>5/10/20</th>\n",
       "      <th>5/11/20</th>\n",
       "      <th>5/12/20</th>\n",
       "      <th>5/13/20</th>\n",
       "      <th>5/14/20</th>\n",
       "      <th>5/15/20</th>\n",
       "    </tr>\n",
       "  </thead>\n",
       "  <tbody>\n",
       "    <tr>\n",
       "      <th>0</th>\n",
       "      <td>Afghanistan</td>\n",
       "      <td>0</td>\n",
       "      <td>0</td>\n",
       "      <td>0</td>\n",
       "      <td>0</td>\n",
       "      <td>0</td>\n",
       "      <td>0</td>\n",
       "      <td>0</td>\n",
       "      <td>0</td>\n",
       "      <td>0</td>\n",
       "      <td>...</td>\n",
       "      <td>3392</td>\n",
       "      <td>3563</td>\n",
       "      <td>3778</td>\n",
       "      <td>4033</td>\n",
       "      <td>4402</td>\n",
       "      <td>4687</td>\n",
       "      <td>4963</td>\n",
       "      <td>5226</td>\n",
       "      <td>5639</td>\n",
       "      <td>6053</td>\n",
       "    </tr>\n",
       "  </tbody>\n",
       "</table>\n",
       "<p>1 rows × 116 columns</p>\n",
       "</div>"
      ],
      "text/plain": [
       "  Country/Region  1/22/20  1/23/20  1/24/20  1/25/20  1/26/20  1/27/20  \\\n",
       "0    Afghanistan        0        0        0        0        0        0   \n",
       "\n",
       "   1/28/20  1/29/20  1/30/20  ...  5/6/20  5/7/20  5/8/20  5/9/20  5/10/20  \\\n",
       "0        0        0        0  ...    3392    3563    3778    4033     4402   \n",
       "\n",
       "   5/11/20  5/12/20  5/13/20  5/14/20  5/15/20  \n",
       "0     4687     4963     5226     5639     6053  \n",
       "\n",
       "[1 rows x 116 columns]"
      ]
     },
     "execution_count": 301,
     "metadata": {},
     "output_type": "execute_result"
    }
   ],
   "source": [
    "# Check if columnns 'Province/State', 'Lat' and 'Long' dropped\n",
    "df_JHU_Confirmed_clean.head(1)"
   ]
  },
  {
   "cell_type": "code",
   "execution_count": 302,
   "metadata": {},
   "outputs": [
    {
     "data": {
      "text/html": [
       "<div>\n",
       "<style scoped>\n",
       "    .dataframe tbody tr th:only-of-type {\n",
       "        vertical-align: middle;\n",
       "    }\n",
       "\n",
       "    .dataframe tbody tr th {\n",
       "        vertical-align: top;\n",
       "    }\n",
       "\n",
       "    .dataframe thead th {\n",
       "        text-align: right;\n",
       "    }\n",
       "</style>\n",
       "<table border=\"1\" class=\"dataframe\">\n",
       "  <thead>\n",
       "    <tr style=\"text-align: right;\">\n",
       "      <th></th>\n",
       "      <th>Country/Region</th>\n",
       "      <th>1/22/20</th>\n",
       "      <th>1/23/20</th>\n",
       "      <th>1/24/20</th>\n",
       "      <th>1/25/20</th>\n",
       "      <th>1/26/20</th>\n",
       "      <th>1/27/20</th>\n",
       "      <th>1/28/20</th>\n",
       "      <th>1/29/20</th>\n",
       "      <th>1/30/20</th>\n",
       "      <th>...</th>\n",
       "      <th>5/6/20</th>\n",
       "      <th>5/7/20</th>\n",
       "      <th>5/8/20</th>\n",
       "      <th>5/9/20</th>\n",
       "      <th>5/10/20</th>\n",
       "      <th>5/11/20</th>\n",
       "      <th>5/12/20</th>\n",
       "      <th>5/13/20</th>\n",
       "      <th>5/14/20</th>\n",
       "      <th>5/15/20</th>\n",
       "    </tr>\n",
       "  </thead>\n",
       "  <tbody>\n",
       "    <tr>\n",
       "      <th>0</th>\n",
       "      <td>Afghanistan</td>\n",
       "      <td>0</td>\n",
       "      <td>0</td>\n",
       "      <td>0</td>\n",
       "      <td>0</td>\n",
       "      <td>0</td>\n",
       "      <td>0</td>\n",
       "      <td>0</td>\n",
       "      <td>0</td>\n",
       "      <td>0</td>\n",
       "      <td>...</td>\n",
       "      <td>458</td>\n",
       "      <td>468</td>\n",
       "      <td>472</td>\n",
       "      <td>502</td>\n",
       "      <td>558</td>\n",
       "      <td>558</td>\n",
       "      <td>610</td>\n",
       "      <td>648</td>\n",
       "      <td>691</td>\n",
       "      <td>745</td>\n",
       "    </tr>\n",
       "  </tbody>\n",
       "</table>\n",
       "<p>1 rows × 116 columns</p>\n",
       "</div>"
      ],
      "text/plain": [
       "  Country/Region  1/22/20  1/23/20  1/24/20  1/25/20  1/26/20  1/27/20  \\\n",
       "0    Afghanistan        0        0        0        0        0        0   \n",
       "\n",
       "   1/28/20  1/29/20  1/30/20  ...  5/6/20  5/7/20  5/8/20  5/9/20  5/10/20  \\\n",
       "0        0        0        0  ...     458     468     472     502      558   \n",
       "\n",
       "   5/11/20  5/12/20  5/13/20  5/14/20  5/15/20  \n",
       "0      558      610      648      691      745  \n",
       "\n",
       "[1 rows x 116 columns]"
      ]
     },
     "execution_count": 302,
     "metadata": {},
     "output_type": "execute_result"
    }
   ],
   "source": [
    "# Check if columnns 'Province/State', 'Lat' and 'Long' dropped\n",
    "df_JHU_Recovered_clean.head(1)"
   ]
  },
  {
   "cell_type": "markdown",
   "metadata": {},
   "source": [
    "### Issue 2:\n",
    "#### Observe:\n",
    "- Tidiness: Column 'Country/Region' should only contain countries, therefore column name should by 'Country'."
   ]
  },
  {
   "cell_type": "markdown",
   "metadata": {},
   "source": [
    "#### Define:\n",
    "- Rename column 'Country/Region' to 'country'"
   ]
  },
  {
   "cell_type": "markdown",
   "metadata": {},
   "source": [
    "#### Code:"
   ]
  },
  {
   "cell_type": "code",
   "execution_count": 303,
   "metadata": {},
   "outputs": [],
   "source": [
    "# Rename coloumn inplace to identic primary key\n",
    "df_JHU_Fatality_clean.rename(columns={'Country/Region': 'country'}, inplace=True)\n",
    "df_JHU_Confirmed_clean.rename(columns={'Country/Region': 'country'}, inplace=True)\n",
    "df_JHU_Recovered_clean.rename(columns={'Country/Region': 'country'}, inplace=True)\n",
    "df_JHU_Countries_clean.rename(columns={'Country/Region': 'country'}, inplace=True)\n",
    "df_OWID_Covid_clean.rename(columns={'location': 'country'}, inplace=True)\n",
    "\n"
   ]
  },
  {
   "cell_type": "markdown",
   "metadata": {},
   "source": [
    "#### Test:"
   ]
  },
  {
   "cell_type": "code",
   "execution_count": 304,
   "metadata": {},
   "outputs": [],
   "source": [
    "assert df_JHU_Fatality_clean.country.any()"
   ]
  },
  {
   "cell_type": "code",
   "execution_count": 305,
   "metadata": {},
   "outputs": [],
   "source": [
    "assert df_JHU_Confirmed_clean.country.any()"
   ]
  },
  {
   "cell_type": "code",
   "execution_count": 306,
   "metadata": {},
   "outputs": [],
   "source": [
    "assert df_JHU_Recovered_clean.country.any()"
   ]
  },
  {
   "cell_type": "code",
   "execution_count": 307,
   "metadata": {},
   "outputs": [],
   "source": [
    "assert df_JHU_Countries_clean.country.any()"
   ]
  },
  {
   "cell_type": "code",
   "execution_count": 308,
   "metadata": {},
   "outputs": [],
   "source": [
    "assert df_OWID_Covid_clean.country.any()"
   ]
  },
  {
   "cell_type": "markdown",
   "metadata": {},
   "source": [
    "### Issue 3:\n",
    "#### Observe:\n",
    "- Tidiness: Data for countries, which are not of interested is not needed in dataframes 'df_JHU_Confirmed', 'df_JHU_Recovered', 'df_JHU_Fatality', 'df_JHU_Countries'."
   ]
  },
  {
   "cell_type": "markdown",
   "metadata": {},
   "source": [
    "#### Define\n",
    "- Create array with countries of interest and keep only rows of thes countries for all dataframes."
   ]
  },
  {
   "cell_type": "markdown",
   "metadata": {},
   "source": [
    "#### Code:"
   ]
  },
  {
   "cell_type": "code",
   "execution_count": 309,
   "metadata": {},
   "outputs": [],
   "source": [
    "# Create array with countries of interest\n",
    "countries = ['Australia', 'Austria', 'Belgium', 'Brazil', 'Canada', 'China', 'Denmark', 'Finland', 'France', \n",
    "             'Germany', 'Greece', 'Hungary', 'India', 'Indonesia', 'Iran', 'Israel', 'Italy', 'Japan', \n",
    "             'Korea, South', 'Luxembourg', 'Mexico', 'Netherlands', 'Norway', 'Philippines', 'Poland', 'Portugal',\n",
    "            'Russia', 'Saudi Arabia', 'South Africa', 'Spain', 'Sweden', 'Switzerland', 'Taiwan*', 'Thailand', 'Tunisia', 'Turkey', \n",
    "             'United Arab Emirates', 'United Kingdom','United States', 'US', 'Vietnam']"
   ]
  },
  {
   "cell_type": "code",
   "execution_count": 310,
   "metadata": {},
   "outputs": [],
   "source": [
    "# Keep only rows of countries which are in country array\n",
    "#df_JHU_Fatality_clean = df_JHU_Fatality_clean[df_Fatality_clean['country'].isin(countries)]\n",
    "#df_JHU_Confirmed_clean = df_JHU_Confirmed_clean[df_Confirmed_clean['country'].isin(countries)]\n",
    "#df_JHU_Recovered_clean = df_JHU_Recovered_clean[df_Recovered_clean['country'].isin(countries)]\n",
    "#df_JHU_Countries_clean = df_JHU_Countries_clean[df_Countries_clean['country'].isin(countries)]\n",
    "#df_OWID_Covid_clean = df_OWID_Covid_clean[df_OWID_Covid_clean['country'].isin(countries)]"
   ]
  },
  {
   "cell_type": "markdown",
   "metadata": {},
   "source": [
    "#### Test:"
   ]
  },
  {
   "cell_type": "code",
   "execution_count": 311,
   "metadata": {},
   "outputs": [],
   "source": [
    "#assert len(df_JHU_Fatality_clean.query('country == \"Afghanistan\"')) == 0"
   ]
  },
  {
   "cell_type": "code",
   "execution_count": 312,
   "metadata": {},
   "outputs": [],
   "source": [
    "#assert len(df_JHU_Confirmed_clean.query('country == \"Afghanistan\"')) == 0"
   ]
  },
  {
   "cell_type": "code",
   "execution_count": 313,
   "metadata": {},
   "outputs": [],
   "source": [
    "#assert len(df_JHU_Recovered_clean.query('country == \"Afghanistan\"')) == 0"
   ]
  },
  {
   "cell_type": "code",
   "execution_count": 314,
   "metadata": {},
   "outputs": [],
   "source": [
    "#assert len(df_JHU_Countries_clean.query('country == \"Afghanistan\"')) == 0"
   ]
  },
  {
   "cell_type": "code",
   "execution_count": 315,
   "metadata": {},
   "outputs": [],
   "source": [
    "#assert len(df_OWID_Covid_clean.query('country == \"Afghanistan\"')) == 0"
   ]
  },
  {
   "cell_type": "markdown",
   "metadata": {},
   "source": [
    "### Issue 4:\n",
    "#### Observe:\n",
    "- Validity: Some observations/rows in dataframes 'df_JHU_Confirmed', 'df_JHU_Recovered', 'df_JHU_Fatality' contain the values for a region, for example Australia appears multiple times in column country as the observations are per region."
   ]
  },
  {
   "cell_type": "markdown",
   "metadata": {},
   "source": [
    "#### Define: \n",
    "- Sum values of rows with same entry in column country by using groupby"
   ]
  },
  {
   "cell_type": "markdown",
   "metadata": {},
   "source": [
    "#### Code:"
   ]
  },
  {
   "cell_type": "code",
   "execution_count": 316,
   "metadata": {},
   "outputs": [],
   "source": [
    "# Groupby and sum\n",
    "df_JHU_Fatality_clean = df_JHU_Fatality_clean.groupby(['country'], as_index=False).sum()\n",
    "df_JHU_Confirmed_clean = df_JHU_Confirmed_clean.groupby(['country'], as_index=False).sum()\n",
    "df_JHU_Recovered_clean = df_JHU_Recovered_clean.groupby(['country'], as_index=False).sum()"
   ]
  },
  {
   "cell_type": "markdown",
   "metadata": {},
   "source": [
    "#### Test:"
   ]
  },
  {
   "cell_type": "code",
   "execution_count": null,
   "metadata": {},
   "outputs": [],
   "source": []
  },
  {
   "cell_type": "code",
   "execution_count": null,
   "metadata": {},
   "outputs": [],
   "source": []
  },
  {
   "cell_type": "code",
   "execution_count": null,
   "metadata": {},
   "outputs": [],
   "source": []
  },
  {
   "cell_type": "markdown",
   "metadata": {},
   "source": [
    "### Issue 5:\n",
    "#### Observe:\n",
    "- Tidiness: The data of 'df_JHU_Confirmed', 'df_JHU_Recovered', 'df_JHU_Fatality' should be one observational unit 'df_covid' with columns 'country', 'date', 'recovered', 'confirmed', 'fatal' and 'date' beeing of type datetime."
   ]
  },
  {
   "cell_type": "markdown",
   "metadata": {},
   "source": [
    "#### Define:\n",
    "- Melt date columns to one column 'date', transform date to type datetime and merge the three dataframes to ones dataframe 'df_covid' with sorted date values."
   ]
  },
  {
   "cell_type": "markdown",
   "metadata": {},
   "source": [
    "#### Code:"
   ]
  },
  {
   "cell_type": "code",
   "execution_count": 319,
   "metadata": {},
   "outputs": [],
   "source": [
    "# Melt each dataframe so that results in columns: country,\n",
    "df_JHU_Fatality_clean = pd.melt(df_JHU_Fatality_clean, id_vars = ['country'], var_name='date', value_name='fatal')\n",
    "df_JHU_Confirmed_clean = pd.melt(df_JHU_Confirmed_clean, id_vars = ['country'], var_name='date', value_name='confirmed')\n",
    "df_JHU_Recovered_clean = pd.melt(df_JHU_Recovered_clean, id_vars = ['country'], var_name='date', value_name='recovered')"
   ]
  },
  {
   "cell_type": "code",
   "execution_count": 320,
   "metadata": {},
   "outputs": [],
   "source": [
    "# Convert new columns date to datetime\n",
    "df_JHU_Fatality_clean.date=pd.to_datetime(df_JHU_Fatality_clean.date)\n",
    "df_JHU_Confirmed_clean.date=pd.to_datetime(df_JHU_Confirmed_clean.date)\n",
    "df_JHU_Recovered_clean.date=pd.to_datetime(df_JHU_Recovered_clean.date)"
   ]
  },
  {
   "cell_type": "code",
   "execution_count": 321,
   "metadata": {},
   "outputs": [],
   "source": [
    "# Merge three covid dataframes to one\n",
    "df_covid = pd.merge(df_JHU_Fatality_clean, df_JHU_Confirmed_clean, on=['country','date'])\n",
    "df_covid = pd.merge(df_covid, df_JHU_Recovered_clean, on=['country','date'])"
   ]
  },
  {
   "cell_type": "code",
   "execution_count": 322,
   "metadata": {},
   "outputs": [],
   "source": [
    "# Sort date values by date\n",
    "df_covid = df_covid.sort_values(by='date', ascending=True)"
   ]
  },
  {
   "cell_type": "markdown",
   "metadata": {},
   "source": [
    "#### Test:"
   ]
  },
  {
   "cell_type": "code",
   "execution_count": 323,
   "metadata": {},
   "outputs": [
    {
     "data": {
      "text/plain": [
       "['country', 'date', 'fatal', 'confirmed', 'recovered']"
      ]
     },
     "execution_count": 323,
     "metadata": {},
     "output_type": "execute_result"
    }
   ],
   "source": [
    "list(df_covid)"
   ]
  },
  {
   "cell_type": "code",
   "execution_count": 324,
   "metadata": {},
   "outputs": [
    {
     "name": "stdout",
     "output_type": "stream",
     "text": [
      "<class 'pandas.core.frame.DataFrame'>\n",
      "Int64Index: 21620 entries, 0 to 21619\n",
      "Data columns (total 5 columns):\n",
      " #   Column     Non-Null Count  Dtype         \n",
      "---  ------     --------------  -----         \n",
      " 0   country    21620 non-null  object        \n",
      " 1   date       21620 non-null  datetime64[ns]\n",
      " 2   fatal      21620 non-null  int64         \n",
      " 3   confirmed  21620 non-null  int64         \n",
      " 4   recovered  21620 non-null  int64         \n",
      "dtypes: datetime64[ns](1), int64(3), object(1)\n",
      "memory usage: 1013.4+ KB\n"
     ]
    }
   ],
   "source": [
    "df_covid.info()"
   ]
  },
  {
   "cell_type": "code",
   "execution_count": 326,
   "metadata": {},
   "outputs": [
    {
     "data": {
      "text/html": [
       "<div>\n",
       "<style scoped>\n",
       "    .dataframe tbody tr th:only-of-type {\n",
       "        vertical-align: middle;\n",
       "    }\n",
       "\n",
       "    .dataframe tbody tr th {\n",
       "        vertical-align: top;\n",
       "    }\n",
       "\n",
       "    .dataframe thead th {\n",
       "        text-align: right;\n",
       "    }\n",
       "</style>\n",
       "<table border=\"1\" class=\"dataframe\">\n",
       "  <thead>\n",
       "    <tr style=\"text-align: right;\">\n",
       "      <th></th>\n",
       "      <th>country</th>\n",
       "      <th>date</th>\n",
       "      <th>fatal</th>\n",
       "      <th>confirmed</th>\n",
       "      <th>recovered</th>\n",
       "    </tr>\n",
       "  </thead>\n",
       "  <tbody>\n",
       "    <tr>\n",
       "      <th>0</th>\n",
       "      <td>Afghanistan</td>\n",
       "      <td>2020-01-22</td>\n",
       "      <td>0</td>\n",
       "      <td>0</td>\n",
       "      <td>0</td>\n",
       "    </tr>\n",
       "    <tr>\n",
       "      <th>120</th>\n",
       "      <td>Namibia</td>\n",
       "      <td>2020-01-22</td>\n",
       "      <td>0</td>\n",
       "      <td>0</td>\n",
       "      <td>0</td>\n",
       "    </tr>\n",
       "    <tr>\n",
       "      <th>121</th>\n",
       "      <td>Nepal</td>\n",
       "      <td>2020-01-22</td>\n",
       "      <td>0</td>\n",
       "      <td>0</td>\n",
       "      <td>0</td>\n",
       "    </tr>\n",
       "    <tr>\n",
       "      <th>122</th>\n",
       "      <td>Netherlands</td>\n",
       "      <td>2020-01-22</td>\n",
       "      <td>0</td>\n",
       "      <td>0</td>\n",
       "      <td>0</td>\n",
       "    </tr>\n",
       "    <tr>\n",
       "      <th>123</th>\n",
       "      <td>New Zealand</td>\n",
       "      <td>2020-01-22</td>\n",
       "      <td>0</td>\n",
       "      <td>0</td>\n",
       "      <td>0</td>\n",
       "    </tr>\n",
       "    <tr>\n",
       "      <th>...</th>\n",
       "      <td>...</td>\n",
       "      <td>...</td>\n",
       "      <td>...</td>\n",
       "      <td>...</td>\n",
       "      <td>...</td>\n",
       "    </tr>\n",
       "    <tr>\n",
       "      <th>21496</th>\n",
       "      <td>Gambia</td>\n",
       "      <td>2020-05-15</td>\n",
       "      <td>1</td>\n",
       "      <td>1</td>\n",
       "      <td>1</td>\n",
       "    </tr>\n",
       "    <tr>\n",
       "      <th>21497</th>\n",
       "      <td>Georgia</td>\n",
       "      <td>2020-05-15</td>\n",
       "      <td>12</td>\n",
       "      <td>12</td>\n",
       "      <td>12</td>\n",
       "    </tr>\n",
       "    <tr>\n",
       "      <th>21498</th>\n",
       "      <td>Germany</td>\n",
       "      <td>2020-05-15</td>\n",
       "      <td>7897</td>\n",
       "      <td>7897</td>\n",
       "      <td>7897</td>\n",
       "    </tr>\n",
       "    <tr>\n",
       "      <th>21489</th>\n",
       "      <td>Estonia</td>\n",
       "      <td>2020-05-15</td>\n",
       "      <td>63</td>\n",
       "      <td>63</td>\n",
       "      <td>63</td>\n",
       "    </tr>\n",
       "    <tr>\n",
       "      <th>21619</th>\n",
       "      <td>Zimbabwe</td>\n",
       "      <td>2020-05-15</td>\n",
       "      <td>4</td>\n",
       "      <td>4</td>\n",
       "      <td>4</td>\n",
       "    </tr>\n",
       "  </tbody>\n",
       "</table>\n",
       "<p>21620 rows × 5 columns</p>\n",
       "</div>"
      ],
      "text/plain": [
       "           country       date  fatal  confirmed  recovered\n",
       "0      Afghanistan 2020-01-22      0          0          0\n",
       "120        Namibia 2020-01-22      0          0          0\n",
       "121          Nepal 2020-01-22      0          0          0\n",
       "122    Netherlands 2020-01-22      0          0          0\n",
       "123    New Zealand 2020-01-22      0          0          0\n",
       "...            ...        ...    ...        ...        ...\n",
       "21496       Gambia 2020-05-15      1          1          1\n",
       "21497      Georgia 2020-05-15     12         12         12\n",
       "21498      Germany 2020-05-15   7897       7897       7897\n",
       "21489      Estonia 2020-05-15     63         63         63\n",
       "21619     Zimbabwe 2020-05-15      4          4          4\n",
       "\n",
       "[21620 rows x 5 columns]"
      ]
     },
     "execution_count": 326,
     "metadata": {},
     "output_type": "execute_result"
    }
   ],
   "source": [
    "df_covid"
   ]
  },
  {
   "cell_type": "markdown",
   "metadata": {},
   "source": [
    "### Issue 6:\n",
    "#### Observe:\n",
    "- Consistency: "
   ]
  },
  {
   "cell_type": "markdown",
   "metadata": {},
   "source": [
    "#### Define:\n",
    "- ..."
   ]
  },
  {
   "cell_type": "markdown",
   "metadata": {},
   "source": [
    "#### Code"
   ]
  },
  {
   "cell_type": "code",
   "execution_count": 331,
   "metadata": {},
   "outputs": [],
   "source": [
    "# Rename coloumn inplace\n",
    "df_covid['country'].replace({'US': 'United States', 'Taiwan*': 'Taiwan'}, inplace=True)\n",
    "df_JHU_Countries_clean['country'].replace({'US': 'United States', 'Taiwan*': 'Taiwan'}, inplace=True)"
   ]
  },
  {
   "cell_type": "markdown",
   "metadata": {},
   "source": [
    "#### Test:"
   ]
  },
  {
   "cell_type": "code",
   "execution_count": 339,
   "metadata": {},
   "outputs": [
    {
     "data": {
      "text/plain": [
       "189             Afghanistan\n",
       "190                  Angola\n",
       "192                 Albania\n",
       "193                 Andorra\n",
       "194    United Arab Emirates\n",
       "               ...         \n",
       "393                 Vietnam\n",
       "394                   Yemen\n",
       "395            South Africa\n",
       "396                  Zambia\n",
       "397                Zimbabwe\n",
       "Length: 175, dtype: object"
      ]
     },
     "execution_count": 339,
     "metadata": {},
     "output_type": "execute_result"
    }
   ],
   "source": [
    "# Check for duplicate column names across three dataframes\n",
    "countrie_in_both_df = pd.Series(list(df_covid.country.unique()) + list(df_OWID_Covid_clean.country.unique()))\n",
    "countrie_in_both_df[countrie_in_both_df.duplicated()]"
   ]
  },
  {
   "cell_type": "code",
   "execution_count": 340,
   "metadata": {},
   "outputs": [
    {
     "data": {
      "text/plain": [
       "400"
      ]
     },
     "execution_count": 340,
     "metadata": {},
     "output_type": "execute_result"
    }
   ],
   "source": [
    "len(countrie_in_both_df)"
   ]
  },
  {
   "cell_type": "code",
   "execution_count": 328,
   "metadata": {},
   "outputs": [
    {
     "data": {
      "text/plain": [
       "188"
      ]
     },
     "execution_count": 328,
     "metadata": {},
     "output_type": "execute_result"
    }
   ],
   "source": [
    "len(df_covid.country.unique())"
   ]
  },
  {
   "cell_type": "code",
   "execution_count": 329,
   "metadata": {},
   "outputs": [
    {
     "data": {
      "text/plain": [
       "212"
      ]
     },
     "execution_count": 329,
     "metadata": {},
     "output_type": "execute_result"
    }
   ],
   "source": [
    "len(df_OWID_Covid_clean.country.unique())"
   ]
  },
  {
   "cell_type": "code",
   "execution_count": 330,
   "metadata": {},
   "outputs": [
    {
     "data": {
      "text/plain": [
       "['country',\n",
       " 'date',\n",
       " 'total_tests',\n",
       " 'new_tests',\n",
       " 'tests_units',\n",
       " 'median_age',\n",
       " 'aged_65_older',\n",
       " 'aged_70_older',\n",
       " 'gdp_per_capita',\n",
       " 'extreme_poverty',\n",
       " 'cvd_death_rate',\n",
       " 'diabetes_prevalence',\n",
       " 'female_smokers',\n",
       " 'male_smokers',\n",
       " 'handwashing_facilities',\n",
       " 'hospital_beds_per_100k']"
      ]
     },
     "execution_count": 330,
     "metadata": {},
     "output_type": "execute_result"
    }
   ],
   "source": [
    "list(df_OWID_Covid_clean)"
   ]
  },
  {
   "cell_type": "code",
   "execution_count": null,
   "metadata": {},
   "outputs": [],
   "source": [
    "df_OWID_Covid_clean.new_tests.value_counts()"
   ]
  },
  {
   "cell_type": "markdown",
   "metadata": {},
   "source": [
    "<a id='store'></a>\n",
    "## 5. Store clean data"
   ]
  },
  {
   "cell_type": "code",
   "execution_count": null,
   "metadata": {},
   "outputs": [],
   "source": [
    "# Store cleaned dataset to csv\n",
    "df_covid.to_csv('covid_master.csv', encoding='utf-8')"
   ]
  }
 ],
 "metadata": {
  "kernelspec": {
   "display_name": "Python 3",
   "language": "python",
   "name": "python3"
  },
  "language_info": {
   "codemirror_mode": {
    "name": "ipython",
    "version": 3
   },
   "file_extension": ".py",
   "mimetype": "text/x-python",
   "name": "python",
   "nbconvert_exporter": "python",
   "pygments_lexer": "ipython3",
   "version": "3.7.7"
  }
 },
 "nbformat": 4,
 "nbformat_minor": 2
}
