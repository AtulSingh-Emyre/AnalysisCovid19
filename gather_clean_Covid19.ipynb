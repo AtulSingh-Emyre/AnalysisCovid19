{
 "cells": [
  {
   "cell_type": "markdown",
   "metadata": {},
   "source": [
    "# Wrangle and Analyze Data of a Twitter Account\n",
    "\n",
    "\n",
    "## Table of Contents\n",
    "- [0. Introduction](#intro)\n",
    "- [1. Gather data](#gather)\n",
    "- [2. Assess data](#assess)\n",
    "- [3. Clean data](#clean)\n",
    "\n",
    "\n",
    "<a id='gather'></a>\n",
    "## 0. Introduction\n",
    "\n",
    "This project is an analysis of correlation between the Covid-19 cases and the political environment of different countries. Goal is to find answers or at least indicators to questions like: \n",
    "- Did the countries which had more success in containing the amount of Covid-19 cases something in common? \n",
    "- Is there a correlation in  Gross domestic product, Human Development Index or political ideology with the amount of Covid-19 cases of the country.\n",
    "\n",
    "Main goal of this project is to generate a comprehensive exploratory and explanatory data analysis of the gathered data. The data analysis process is distributed over three ipynb-files: gather_clean_Covid19.ipynb, exploration_Covid19.ipynb and slide_deck_Covid19.ipynb.\n",
    "\n",
    "Firstly, as part of gather_clean_Covid19.ipynb data is gathered from different sources: The Covid-19 data of this project is retrieved via programmatically downloaded csv-files from the GitHub repository [Covid-19](https://github.com/CSSEGISandData/COVID-19) and additional data about countries is retrieved via the wikipedia API. Secondly, the data from the different sources is visually and programmatically assessed to be cleaned.\n",
    "The exploratory and explanatory data analysis of the gathered data is performed in exploration_Covid19.ipynb. Finally the findings are presented in slide_deck_Covid19.ipynb."
   ]
  },
  {
   "cell_type": "code",
   "execution_count": 1,
   "metadata": {},
   "outputs": [],
   "source": [
    "# Import necessary libraries\n",
    "import numpy as np\n",
    "import pandas as pd\n",
    "from datetime import date\n",
    "%matplotlib inline\n",
    "import matplotlib as mpl\n",
    "import matplotlib.pyplot as plt\n",
    "import matplotlib.patches as mpatches\n",
    "import seaborn as sns\n",
    "import os # to work with local directory\n",
    "import re\n",
    "sns.set()"
   ]
  },
  {
   "cell_type": "code",
   "execution_count": 18,
   "metadata": {},
   "outputs": [],
   "source": [
    "import wptools\n",
    "import json # to create json file from python dictionary\n",
    "import time # for timer \n"
   ]
  },
  {
   "cell_type": "code",
   "execution_count": 22,
   "metadata": {},
   "outputs": [
    {
     "name": "stderr",
     "output_type": "stream",
     "text": [
      "en.wikipedia.org (parse) US\n",
      "United States (en) data\n",
      "{\n",
      "  infobox: <dict(92)> conventional_long_name, common_name, image_f...\n",
      "  iwlinks: <list(10)> https://commons.wikimedia.org/wiki/Atlas_of_...\n",
      "  pageid: 3434750\n",
      "  parsetree: <str(553748)> <root><template><title>pp-move-indef</t...\n",
      "  requests: <list(1)> parse\n",
      "  title: United States\n",
      "  wikibase: Q30\n",
      "  wikidata_url: https://www.wikidata.org/wiki/Q30\n",
      "  wikitext: <str(402400)> {{pp-move-indef}}{{pp-semi-indef|small=y...\n",
      "}\n",
      "en.wikipedia.org (parse) Germany\n"
     ]
    },
    {
     "name": "stdout",
     "output_type": "stream",
     "text": [
      "119.97451400756836\n"
     ]
    },
    {
     "name": "stderr",
     "output_type": "stream",
     "text": [
      "Germany (en) data\n",
      "{\n",
      "  infobox: <dict(68)> conventional_long_name, common_name, native_...\n",
      "  iwlinks: <list(13)> https://commons.wikimedia.org/wiki/Special:S...\n",
      "  pageid: 11867\n",
      "  parsetree: <str(215512)> <root><template><title>about</title><pa...\n",
      "  requests: <list(1)> parse\n",
      "  title: Germany\n",
      "  wikibase: Q183\n",
      "  wikidata_url: https://www.wikidata.org/wiki/Q183\n",
      "  wikitext: <str(170690)> {{about|the country|other uses|Germany (...\n",
      "}\n",
      "en.wikipedia.org (parse) France\n"
     ]
    },
    {
     "name": "stdout",
     "output_type": "stream",
     "text": [
      "230.557862997055054\n"
     ]
    },
    {
     "name": "stderr",
     "output_type": "stream",
     "text": [
      "France (en) data\n",
      "{\n",
      "  infobox: <dict(93)> conventional_long_name, common_name, native_...\n",
      "  iwlinks: <list(11)> https://commons.wikimedia.org/wiki/Atlas_of_...\n",
      "  pageid: 5843419\n",
      "  parsetree: <str(385775)> <root><template><title>Redirect</title>...\n",
      "  requests: <list(1)> parse\n",
      "  title: France\n",
      "  wikibase: Q142\n",
      "  wikidata_url: https://www.wikidata.org/wiki/Q142\n",
      "  wikitext: <str(319303)> {{Redirect|La France|other uses of \"La F...\n",
      "}\n",
      "en.wikipedia.org (parse) Belgium\n"
     ]
    },
    {
     "name": "stdout",
     "output_type": "stream",
     "text": [
      "341.429368019104004\n"
     ]
    },
    {
     "name": "stderr",
     "output_type": "stream",
     "text": [
      "Belgium (en) data\n",
      "{\n",
      "  infobox: <dict(71)> conventional_long_name, native_name, common_...\n",
      "  iwlinks: <list(12)> https://commons.wikimedia.org/wiki/Atlas_of_...\n",
      "  pageid: 3343\n",
      "  parsetree: <str(237566)> <root><template><title>short descriptio...\n",
      "  requests: <list(1)> parse\n",
      "  title: Belgium\n",
      "  wikibase: Q31\n",
      "  wikidata_url: https://www.wikidata.org/wiki/Q31\n",
      "  wikitext: <str(183801)> {{short description|Country in Western E...\n",
      "}\n",
      "en.wikipedia.org (parse) Netherlands\n"
     ]
    },
    {
     "name": "stdout",
     "output_type": "stream",
     "text": [
      "461.956069231033325\n"
     ]
    },
    {
     "name": "stderr",
     "output_type": "stream",
     "text": [
      "Netherlands (en) data\n",
      "{\n",
      "  infobox: <dict(95)> conventional_long_name, native_name, common_...\n",
      "  iwlinks: <list(16)> https://commons.wikimedia.org/wiki/Atlas_of_...\n",
      "  pageid: 21148\n",
      "  parsetree: <str(330565)> <root><template lineStart=\"1\"><title>ab...\n",
      "  requests: <list(1)> parse\n",
      "  title: Netherlands\n",
      "  wikibase: Q55\n",
      "  wikidata_url: https://www.wikidata.org/wiki/Q55\n",
      "  wikitext: <str(251629)> {{about|the constituent country|the sove...\n",
      "}\n",
      "en.wikipedia.org (parse) Switzerland\n"
     ]
    },
    {
     "name": "stdout",
     "output_type": "stream",
     "text": [
      "571.08044219017029\n"
     ]
    },
    {
     "name": "stderr",
     "output_type": "stream",
     "text": [
      "Switzerland (en) data\n",
      "{\n",
      "  infobox: <dict(73)> conventional_long_name, common_name, native_...\n",
      "  iwlinks: <list(10)> https://commons.wikimedia.org/wiki/Special:S...\n",
      "  pageid: 26748\n",
      "  parsetree: <str(261705)> <root><template><title>about</title><pa...\n",
      "  requests: <list(1)> parse\n",
      "  title: Switzerland\n",
      "  wikibase: Q39\n",
      "  wikidata_url: https://www.wikidata.org/wiki/Q39\n",
      "  wikitext: <str(211296)> {{about|the sovereign state}}{{pp-semi-i...\n",
      "}\n",
      "en.wikipedia.org (parse) Italy\n"
     ]
    },
    {
     "name": "stdout",
     "output_type": "stream",
     "text": [
      "682.53980207443237\n"
     ]
    },
    {
     "name": "stderr",
     "output_type": "stream",
     "text": [
      "Italy (en) data\n",
      "{\n",
      "  infobox: <dict(83)> conventional_long_name, common_name, native_...\n",
      "  iwlinks: <list(17)> https://commons.wikimedia.org/wiki/Atlas_of_...\n",
      "  pageid: 14532\n",
      "  parsetree: <str(410905)> <root><template><title>hatnote</title><...\n",
      "  requests: <list(1)> parse\n",
      "  title: Italy\n",
      "  wikibase: Q38\n",
      "  wikidata_url: https://www.wikidata.org/wiki/Q38\n",
      "  wikitext: <str(334577)> {{hatnote|For other uses, see [[Italy (d...\n",
      "}\n",
      "en.wikipedia.org (parse) Spain\n"
     ]
    },
    {
     "name": "stdout",
     "output_type": "stream",
     "text": [
      "791.08354210853577\n"
     ]
    },
    {
     "name": "stderr",
     "output_type": "stream",
     "text": [
      "Spain (en) data\n",
      "{\n",
      "  infobox: <dict(86)> conventional_long_name, native_name, common_...\n",
      "  iwlinks: <list(10)> https://commons.wikimedia.org/wiki/Atlas_of_...\n",
      "  pageid: 26667\n",
      "  parsetree: <str(313262)> <root><template><title>about</title><pa...\n",
      "  requests: <list(1)> parse\n",
      "  title: Spain\n",
      "  wikibase: Q29\n",
      "  wikidata_url: https://www.wikidata.org/wiki/Q29\n",
      "  wikitext: <str(257676)> {{about|the country}}{{Redirect|España}}...\n",
      "}\n",
      "en.wikipedia.org (parse) United Kingdom\n"
     ]
    },
    {
     "name": "stdout",
     "output_type": "stream",
     "text": [
      "899.30159592628479\n"
     ]
    },
    {
     "name": "stderr",
     "output_type": "stream",
     "text": [
      "United Kingdom (en) data\n",
      "{\n",
      "  infobox: <dict(90)> common_name, linking_name, conventional_long...\n",
      "  iwlinks: <list(10)> https://commons.wikimedia.org/wiki/Atlas_of_...\n",
      "  pageid: 31717\n",
      "  parsetree: <str(413024)> <root><template><title>About-distinguis...\n",
      "  requests: <list(1)> parse\n",
      "  title: United Kingdom\n",
      "  wikibase: Q145\n",
      "  wikidata_url: https://www.wikidata.org/wiki/Q145\n",
      "  wikitext: <str(332165)> {{About-distinguish2|the country|[[Great...\n",
      "}\n",
      "en.wikipedia.org (parse) Portugal\n"
     ]
    },
    {
     "name": "stdout",
     "output_type": "stream",
     "text": [
      "9110.6415650844574\n"
     ]
    },
    {
     "name": "stderr",
     "output_type": "stream",
     "text": [
      "Portugal (en) data\n",
      "{\n",
      "  infobox: <dict(88)> conventional_long_name, common_name, native_...\n",
      "  iwlinks: <list(11)> https://commons.wikimedia.org/wiki/Atlas_of_...\n",
      "  pageid: 23033\n",
      "  parsetree: <str(319268)> <root><template><title>about</title><pa...\n",
      "  requests: <list(1)> parse\n",
      "  title: Portugal\n",
      "  wikibase: Q45\n",
      "  wikidata_url: https://www.wikidata.org/wiki/Q45\n",
      "  wikitext: <str(248796)> {{about|the country}}{{Use dmy dates|dat...\n",
      "}\n",
      "en.wikipedia.org (parse) Austria\n"
     ]
    },
    {
     "name": "stdout",
     "output_type": "stream",
     "text": [
      "10117.04474020004272\n"
     ]
    },
    {
     "name": "stderr",
     "output_type": "stream",
     "text": [
      "Austria (en) data\n",
      "{\n",
      "  infobox: <dict(94)> conventional_long_name, common_name, native_...\n",
      "  iwlinks: <list(12)> https://commons.wikimedia.org/wiki/Atlas_of_...\n",
      "  pageid: 26964606\n",
      "  parsetree: <str(201056)> <root><template><title>about</title><pa...\n",
      "  requests: <list(1)> parse\n",
      "  title: Austria\n",
      "  wikibase: Q40\n",
      "  wikidata_url: https://www.wikidata.org/wiki/Q40\n",
      "  wikitext: <str(150520)> {{about|the country}}{{pp-vand|small=yes...\n",
      "}\n",
      "en.wikipedia.org (parse) Ireland\n"
     ]
    },
    {
     "name": "stdout",
     "output_type": "stream",
     "text": [
      "11122.35330629348755\n"
     ]
    },
    {
     "name": "stderr",
     "output_type": "stream",
     "text": [
      "Ireland (en) data\n",
      "{\n",
      "  infobox: <dict(37)> name, local_name, image_name, image_caption,...\n",
      "  iwlinks: <list(6)> https://commons.wikimedia.org/wiki/Atlas_of_I...\n",
      "  pageid: 147575\n",
      "  parsetree: <str(232870)> <root><template><title>About</title><pa...\n",
      "  requests: <list(1)> parse\n",
      "  title: Ireland\n",
      "  wikibase: Q22890\n",
      "  wikidata_url: https://www.wikidata.org/wiki/Q22890\n",
      "  wikitext: <str(182919)> {{About|the island in Europe|the soverei...\n",
      "}\n",
      "en.wikipedia.org (parse) China\n"
     ]
    },
    {
     "name": "stdout",
     "output_type": "stream",
     "text": [
      "12127.18446493148804\n"
     ]
    },
    {
     "name": "stderr",
     "output_type": "stream",
     "text": [
      "China (en) data\n",
      "{\n",
      "  infobox: <dict(91)> conventional_long_name, common_name, native_...\n",
      "  iwlinks: <list(28)> https://commons.wikimedia.org/wiki/Atlas_of_...\n",
      "  pageid: 5405\n",
      "  parsetree: <str(460830)> <root><template><title>about</title><pa...\n",
      "  requests: <list(1)> parse\n",
      "  title: China\n",
      "  wikibase: Q148\n",
      "  wikidata_url: https://www.wikidata.org/wiki/Q148\n",
      "  wikitext: <str(359965)> {{about||the Republic of China|Taiwan||C...\n",
      "}\n",
      "en.wikipedia.org (parse) South Korea\n"
     ]
    },
    {
     "name": "stdout",
     "output_type": "stream",
     "text": [
      "13137.59121012687683\n"
     ]
    },
    {
     "name": "stderr",
     "output_type": "stream",
     "text": [
      "South Korea (en) data\n",
      "{\n",
      "  infobox: <dict(100)> conventional_long_name, common_name, native...\n",
      "  iwlinks: <list(21)> https://commons.wikimedia.org/wiki/Special:S...\n",
      "  pageid: 27019\n",
      "  parsetree: <str(344827)> <root><template><title>redirect</title>...\n",
      "  requests: <list(1)> parse\n",
      "  title: South Korea\n",
      "  wikibase: Q884\n",
      "  wikidata_url: https://www.wikidata.org/wiki/Q884\n",
      "  wikitext: <str(269247)> {{redirect|Republic of Korea|the Democra...\n",
      "}\n",
      "en.wikipedia.org (parse) Iran\n"
     ]
    },
    {
     "name": "stdout",
     "output_type": "stream",
     "text": [
      "14145.39568209648132\n"
     ]
    },
    {
     "name": "stderr",
     "output_type": "stream",
     "text": [
      "Iran (en) data\n",
      "{\n",
      "  infobox: <dict(89)> conventional_long_name, common_name, native_...\n",
      "  iwlinks: <list(11)> https://commons.wikimedia.org/wiki/%D8%A7%DB...\n",
      "  pageid: 14653\n",
      "  parsetree: <str(398346)> <root><template><title>pp-sock</title><...\n",
      "  requests: <list(1)> parse\n",
      "  title: Iran\n",
      "  wikibase: Q794\n",
      "  wikidata_url: https://www.wikidata.org/wiki/Q794\n",
      "  wikitext: <str(310668)> {{pp-sock|small=yes}}{{pp-move-indef}}{{...\n",
      "}\n",
      "en.wikipedia.org (parse) Luxembourg\n"
     ]
    },
    {
     "name": "stdout",
     "output_type": "stream",
     "text": [
      "15154.1123230457306\n"
     ]
    },
    {
     "name": "stderr",
     "output_type": "stream",
     "text": [
      "Luxembourg (en) data\n",
      "{\n",
      "  infobox: <dict(83)> conventional_long_name, common_name, native_...\n",
      "  iwlinks: <list(9)> https://commons.wikimedia.org/wiki/Atlas_of_L...\n",
      "  pageid: 17515\n",
      "  parsetree: <str(122920)> <root><template><title>short descriptio...\n",
      "  requests: <list(1)> parse\n",
      "  title: Luxembourg\n",
      "  wikibase: Q32\n",
      "  wikidata_url: https://www.wikidata.org/wiki/Q32\n",
      "  wikitext: <str(92505)> {{short description|Country in western Eu...\n",
      "}\n",
      "en.wikipedia.org (parse) Poland\n"
     ]
    },
    {
     "name": "stdout",
     "output_type": "stream",
     "text": [
      "16158.45912194252014\n"
     ]
    },
    {
     "name": "stderr",
     "output_type": "stream",
     "text": [
      "Poland (en) data\n",
      "{\n",
      "  infobox: <dict(87)> conventional_long_name, common_name, native_...\n",
      "  iwlinks: <list(24)> https://commons.wikimedia.org/wiki/Atlas_of_...\n",
      "  pageid: 22936\n",
      "  parsetree: <str(375043)> <root><template><title>short descriptio...\n",
      "  requests: <list(1)> parse\n",
      "  title: Poland\n",
      "  wikibase: Q36\n",
      "  wikidata_url: https://www.wikidata.org/wiki/Q36\n",
      "  wikitext: <str(292347)> {{short description|Country in Europe}}{...\n",
      "}\n",
      "en.wikipedia.org (parse) Turkey\n"
     ]
    },
    {
     "name": "stdout",
     "output_type": "stream",
     "text": [
      "17166.1485140323639\n"
     ]
    },
    {
     "name": "stderr",
     "output_type": "stream",
     "text": [
      "Turkey (en) data\n",
      "{\n",
      "  infobox: <dict(69)> conventional_long_name, common_name, native_...\n",
      "  iwlinks: <list(10)> https://commons.wikimedia.org/wiki/Atlas_of_...\n",
      "  pageid: 11125639\n",
      "  parsetree: <str(374215)> <root><template><title>about</title><pa...\n",
      "  requests: <list(1)> parse\n",
      "  title: Turkey\n",
      "  wikibase: Q43\n",
      "  wikidata_url: https://www.wikidata.org/wiki/Q43\n",
      "  wikitext: <str(299756)> {{about|the country|the bird|Turkey (bir...\n",
      "}\n",
      "en.wikipedia.org (parse) Greece\n"
     ]
    },
    {
     "name": "stdout",
     "output_type": "stream",
     "text": [
      "18174.42709827423096\n"
     ]
    },
    {
     "ename": "KeyboardInterrupt",
     "evalue": "",
     "output_type": "error",
     "traceback": [
      "\u001b[0;31m---------------------------------------------------------------------------\u001b[0m",
      "\u001b[0;31mKeyboardInterrupt\u001b[0m                         Traceback (most recent call last)",
      "\u001b[0;32m<ipython-input-22-1546dc935705>\u001b[0m in \u001b[0;36m<module>\u001b[0;34m\u001b[0m\n\u001b[1;32m     13\u001b[0m         \u001b[0;32mtry\u001b[0m\u001b[0;34m:\u001b[0m\u001b[0;34m\u001b[0m\u001b[0;34m\u001b[0m\u001b[0m\n\u001b[1;32m     14\u001b[0m             \u001b[0;31m# Query API for data of wikipedia article\u001b[0m\u001b[0;34m\u001b[0m\u001b[0;34m\u001b[0m\u001b[0;34m\u001b[0m\u001b[0m\n\u001b[0;32m---> 15\u001b[0;31m             \u001b[0marticle\u001b[0m \u001b[0;34m=\u001b[0m \u001b[0mwptools\u001b[0m\u001b[0;34m.\u001b[0m\u001b[0mpage\u001b[0m\u001b[0;34m(\u001b[0m\u001b[0mcountry\u001b[0m\u001b[0;34m)\u001b[0m\u001b[0;34m.\u001b[0m\u001b[0mget_parse\u001b[0m\u001b[0;34m(\u001b[0m\u001b[0;34m)\u001b[0m\u001b[0;34m\u001b[0m\u001b[0;34m\u001b[0m\u001b[0m\n\u001b[0m\u001b[1;32m     16\u001b[0m             \u001b[0minfobox\u001b[0m \u001b[0;34m=\u001b[0m \u001b[0marticle\u001b[0m\u001b[0;34m.\u001b[0m\u001b[0mdata\u001b[0m\u001b[0;34m[\u001b[0m\u001b[0;34m'infobox'\u001b[0m\u001b[0;34m]\u001b[0m\u001b[0;34m\u001b[0m\u001b[0;34m\u001b[0m\u001b[0m\n\u001b[1;32m     17\u001b[0m             \u001b[0;31m# Measure elapsed time\u001b[0m\u001b[0;34m\u001b[0m\u001b[0;34m\u001b[0m\u001b[0;34m\u001b[0m\u001b[0m\n",
      "\u001b[0;32m/usr/local/anaconda3/lib/python3.7/site-packages/wptools/page.py\u001b[0m in \u001b[0;36mget_parse\u001b[0;34m(self, show, proxy, timeout)\u001b[0m\n\u001b[1;32m    601\u001b[0m             \u001b[0;32mraise\u001b[0m \u001b[0mValueError\u001b[0m\u001b[0;34m(\u001b[0m\u001b[0;34m\"get_parse needs title or pageid\"\u001b[0m\u001b[0;34m)\u001b[0m\u001b[0;34m\u001b[0m\u001b[0;34m\u001b[0m\u001b[0m\n\u001b[1;32m    602\u001b[0m \u001b[0;34m\u001b[0m\u001b[0m\n\u001b[0;32m--> 603\u001b[0;31m         \u001b[0mself\u001b[0m\u001b[0;34m.\u001b[0m\u001b[0m_get\u001b[0m\u001b[0;34m(\u001b[0m\u001b[0;34m'parse'\u001b[0m\u001b[0;34m,\u001b[0m \u001b[0mshow\u001b[0m\u001b[0;34m,\u001b[0m \u001b[0mproxy\u001b[0m\u001b[0;34m,\u001b[0m \u001b[0mtimeout\u001b[0m\u001b[0;34m)\u001b[0m\u001b[0;34m\u001b[0m\u001b[0;34m\u001b[0m\u001b[0m\n\u001b[0m\u001b[1;32m    604\u001b[0m \u001b[0;34m\u001b[0m\u001b[0m\n\u001b[1;32m    605\u001b[0m         \u001b[0;32mreturn\u001b[0m \u001b[0mself\u001b[0m\u001b[0;34m\u001b[0m\u001b[0;34m\u001b[0m\u001b[0m\n",
      "\u001b[0;32m/usr/local/anaconda3/lib/python3.7/site-packages/wptools/core.py\u001b[0m in \u001b[0;36m_get\u001b[0;34m(self, action, show, proxy, timeout)\u001b[0m\n\u001b[1;32m    173\u001b[0m         \u001b[0mqstr\u001b[0m \u001b[0;34m=\u001b[0m \u001b[0mself\u001b[0m\u001b[0;34m.\u001b[0m\u001b[0m_query\u001b[0m\u001b[0;34m(\u001b[0m\u001b[0maction\u001b[0m\u001b[0;34m,\u001b[0m \u001b[0mqobj\u001b[0m\u001b[0;34m)\u001b[0m\u001b[0;34m\u001b[0m\u001b[0;34m\u001b[0m\u001b[0m\n\u001b[1;32m    174\u001b[0m         \u001b[0mreq\u001b[0m \u001b[0;34m=\u001b[0m \u001b[0mself\u001b[0m\u001b[0;34m.\u001b[0m\u001b[0m_request\u001b[0m\u001b[0;34m(\u001b[0m\u001b[0mproxy\u001b[0m\u001b[0;34m,\u001b[0m \u001b[0mtimeout\u001b[0m\u001b[0;34m)\u001b[0m\u001b[0;34m\u001b[0m\u001b[0;34m\u001b[0m\u001b[0m\n\u001b[0;32m--> 175\u001b[0;31m         \u001b[0mresponse\u001b[0m \u001b[0;34m=\u001b[0m \u001b[0mreq\u001b[0m\u001b[0;34m.\u001b[0m\u001b[0mget\u001b[0m\u001b[0;34m(\u001b[0m\u001b[0mqstr\u001b[0m\u001b[0;34m,\u001b[0m \u001b[0mqobj\u001b[0m\u001b[0;34m.\u001b[0m\u001b[0mstatus\u001b[0m\u001b[0;34m)\u001b[0m\u001b[0;34m\u001b[0m\u001b[0;34m\u001b[0m\u001b[0m\n\u001b[0m\u001b[1;32m    176\u001b[0m \u001b[0;34m\u001b[0m\u001b[0m\n\u001b[1;32m    177\u001b[0m         \u001b[0mself\u001b[0m\u001b[0;34m.\u001b[0m\u001b[0mcache\u001b[0m\u001b[0;34m[\u001b[0m\u001b[0maction\u001b[0m\u001b[0;34m]\u001b[0m\u001b[0;34m[\u001b[0m\u001b[0;34m'query'\u001b[0m\u001b[0;34m]\u001b[0m \u001b[0;34m=\u001b[0m \u001b[0mqstr\u001b[0m\u001b[0;34m\u001b[0m\u001b[0;34m\u001b[0m\u001b[0m\n",
      "\u001b[0;32m/usr/local/anaconda3/lib/python3.7/site-packages/wptools/request.py\u001b[0m in \u001b[0;36mget\u001b[0;34m(self, url, status)\u001b[0m\n\u001b[1;32m     74\u001b[0m             \u001b[0mprint\u001b[0m\u001b[0;34m(\u001b[0m\u001b[0;34m\"Requests DISABLED\"\u001b[0m\u001b[0;34m,\u001b[0m \u001b[0mfile\u001b[0m\u001b[0;34m=\u001b[0m\u001b[0msys\u001b[0m\u001b[0;34m.\u001b[0m\u001b[0mstderr\u001b[0m\u001b[0;34m)\u001b[0m\u001b[0;34m\u001b[0m\u001b[0;34m\u001b[0m\u001b[0m\n\u001b[1;32m     75\u001b[0m         \u001b[0;32melse\u001b[0m\u001b[0;34m:\u001b[0m\u001b[0;34m\u001b[0m\u001b[0;34m\u001b[0m\u001b[0m\n\u001b[0;32m---> 76\u001b[0;31m             \u001b[0;32mreturn\u001b[0m \u001b[0mself\u001b[0m\u001b[0;34m.\u001b[0m\u001b[0mcurl_perform\u001b[0m\u001b[0;34m(\u001b[0m\u001b[0mcrl\u001b[0m\u001b[0;34m)\u001b[0m\u001b[0;34m\u001b[0m\u001b[0;34m\u001b[0m\u001b[0m\n\u001b[0m\u001b[1;32m     77\u001b[0m \u001b[0;34m\u001b[0m\u001b[0m\n\u001b[1;32m     78\u001b[0m     \u001b[0;32mdef\u001b[0m \u001b[0mcurl_perform\u001b[0m\u001b[0;34m(\u001b[0m\u001b[0mself\u001b[0m\u001b[0;34m,\u001b[0m \u001b[0mcrl\u001b[0m\u001b[0;34m)\u001b[0m\u001b[0;34m:\u001b[0m\u001b[0;34m\u001b[0m\u001b[0;34m\u001b[0m\u001b[0m\n",
      "\u001b[0;32m/usr/local/anaconda3/lib/python3.7/site-packages/wptools/request.py\u001b[0m in \u001b[0;36mcurl_perform\u001b[0;34m(self, crl)\u001b[0m\n\u001b[1;32m     82\u001b[0m         \u001b[0mbfr\u001b[0m \u001b[0;34m=\u001b[0m \u001b[0mBytesIO\u001b[0m\u001b[0;34m(\u001b[0m\u001b[0;34m)\u001b[0m\u001b[0;34m\u001b[0m\u001b[0;34m\u001b[0m\u001b[0m\n\u001b[1;32m     83\u001b[0m         \u001b[0mcrl\u001b[0m\u001b[0;34m.\u001b[0m\u001b[0msetopt\u001b[0m\u001b[0;34m(\u001b[0m\u001b[0mcrl\u001b[0m\u001b[0;34m.\u001b[0m\u001b[0mWRITEFUNCTION\u001b[0m\u001b[0;34m,\u001b[0m \u001b[0mbfr\u001b[0m\u001b[0;34m.\u001b[0m\u001b[0mwrite\u001b[0m\u001b[0;34m)\u001b[0m\u001b[0;34m\u001b[0m\u001b[0;34m\u001b[0m\u001b[0m\n\u001b[0;32m---> 84\u001b[0;31m         \u001b[0mcrl\u001b[0m\u001b[0;34m.\u001b[0m\u001b[0mperform\u001b[0m\u001b[0;34m(\u001b[0m\u001b[0;34m)\u001b[0m\u001b[0;34m\u001b[0m\u001b[0;34m\u001b[0m\u001b[0m\n\u001b[0m\u001b[1;32m     85\u001b[0m         \u001b[0minfo\u001b[0m \u001b[0;34m=\u001b[0m \u001b[0mcurl_info\u001b[0m\u001b[0;34m(\u001b[0m\u001b[0mcrl\u001b[0m\u001b[0;34m)\u001b[0m\u001b[0;34m\u001b[0m\u001b[0;34m\u001b[0m\u001b[0m\n\u001b[1;32m     86\u001b[0m         \u001b[0;32mif\u001b[0m \u001b[0minfo\u001b[0m\u001b[0;34m:\u001b[0m\u001b[0;34m\u001b[0m\u001b[0;34m\u001b[0m\u001b[0m\n",
      "\u001b[0;31mKeyboardInterrupt\u001b[0m: "
     ]
    }
   ],
   "source": [
    "# Query for every tweet id in enhanced twitter archive and save tweet-information in json-format to 'tweet_json.txt'\n",
    "             \n",
    "country_jsons = {}\n",
    "county_id_errors = []\n",
    "start = time.time()\n",
    "count = 0\n",
    "\n",
    "\n",
    "with open('country_json.txt', 'w') as outfile:\n",
    "    \n",
    "    for country in df_Countries['Country/Region']:\n",
    "        count +=1\n",
    "        try:\n",
    "            # Query API for data of wikipedia article\n",
    "            article = wptools.page(country).get_parse()\n",
    "            infobox = article.data['infobox']\n",
    "            # Measure elapsed time\n",
    "            mid_s = time.time()\n",
    "            # Print id and time elapsed\n",
    "            print(str(count) + str(mid_s - start) )\n",
    "            # Write json of tweet to 'tweet_json.txt'\n",
    "            json.dump(infobox, outfile)\n",
    "            # New line\n",
    "            outfile.write(\"\\n\")\n",
    "\n",
    "        # Not best practice to catch all exceptions but fine for this short script\n",
    "        except Exception as error:\n",
    "            mid_f = time.time()\n",
    "            print(str(count) + str(mid_f - start) + str(error))\n",
    "            # Gather ids of id's without status\n",
    "            tweet_id_errors.append([count, str(tweet_id)])\n",
    "            \n",
    "    end = time.time()\n",
    "    print(end - start)"
   ]
  },
  {
   "cell_type": "code",
   "execution_count": 15,
   "metadata": {},
   "outputs": [
    {
     "name": "stderr",
     "output_type": "stream",
     "text": [
      "en.wikipedia.org (parse) Germany\n"
     ]
    },
    {
     "name": "stdout",
     "output_type": "stream",
     "text": [
      "{'conventional_long_name': 'Federal Republic of Germany', 'common_name': 'Germany', 'native_name': '{{native name|de|Bundesrepublik Deutschland|nbsp|=|omit}}', 'image_flag': 'Flag of Germany.svg', 'image_coat': 'Coat of arms of Germany.svg', 'national_anthem': '\"[[Deutschlandlied]]\" {{efn|From 1952 to 1990, the entire \"Deutschlandlied\" was the national anthem, but only the third verse was sung on official occasions. Since 1991, the third verse alone has been the national anthem.|ref| name=\"PresidentsOffice\"|{{cite web|url=http://www.bundespraesident.de/DE/Amt-und-Aufgaben/Wirken-im-Inland/Repraesentation-und-Integration/repraesentation-und-integration-node.html|title=Repräsentation und Integration|last=Bundespräsidialamt|authorlink=Bundespräsidialamt|language=de|url-status=live|archiveurl=https://web.archive.org/web/20160307221541/http://www.bundespraesident.de/DE/Amt-und-Aufgaben/Wirken-im-Inland/Repraesentation-und-Integration/repraesentation-und-integration-node.html|archivedate=7 March 2016|accessdate=8 March 2016|df=dmy-all}}|</ref>}} <br />( {{lang-en|\"Song of Germany\"}} )<br /><div style=\"display:inline-block;margin-top:0.4em;\">[[File:German national anthem performed by the US Navy Band.ogg]]</div>', 'image_map': '{{switcher|[[File:EU-Germany (orthographic projection).svg|frameless]]|Show globe|[[File:EU-Germany.svg|upright=1.15|frameless]]|Show map of Europe|default|=|1}}', 'map_caption': '{{map caption\\n| location_color           |=| dark green\\n| region                   |=| Europe\\n| region_color             |=| dark grey\\n| subregion                |=| the [[European Union]]\\n| subregion_color          |=| light green}}', 'map_width': '250px', 'capital': '[[Berlin]]<small> {{efn|[[Berlin]] is the sole constitutional capital and \\'\\'de jure\\'\\' seat of government, but the former provisional capital of the Federal Republic of Germany, [[Bonn]], has the special title of \"federal city\" (\\'\\'|lang|de|Bundesstadt|\\'\\') and is the primary seat of six ministries.|ref|{{cite web|url=https://www.deutschland.de/en/topic/politics/the-german-federal-government|website=deutschland.de|title=The german Federal Government|date=23 January 2018|accessdate=16 March 2020}}|</ref>}} </small> {{lang|de|Bundesstadt}} \\'\\') and is the primary seat of six ministries.', 'coordinates': '{{Coord|52|31|N|13|23|E|type:city}}', 'largest_city': '[[Berlin]] (city proper)<br />[[Rhine-Ruhr]] (metropolitan area)', 'languages_type': 'Official language<br /> {{nobold|and national language}}', 'languages': '[[German language|German]] {{efn|[[Danish language|Danish]], [[Low German]], [[Sorbian languages|Sorbian]], [[Romani language|Romany]], and [[Frisian languages|Frisian]] are recognised by the [[European Charter for Regional or Minority Languages]]|ref|{{cite web|url=https://blogs.loc.gov/law/2018/09/the-protection-of-minority-and-regional-languages-in-germany/|publisher=Library of Congress|last=Gesley|first=Jenny|title=The Protection of Minority and Regional Languages in Germany|date=26 September 2018}}|</ref>}}', 'demonym': '[[Germans|German]]', 'government_type': '[[Federation|Federal]] [[Parliamentary system|parliamentary]] [[republic]]', 'leader_title1': '[[President of Germany|President]]', 'leader_name1': '[[Frank-Walter Steinmeier]]', 'leader_title2': '[[Chancellor of Germany (Federal Republic of Germany)|Chancellor]]', 'leader_name2': '[[Angela Merkel]]', 'legislature': '{{sp}}', 'upper_house': '[[Bundesrat of Germany|Bundesrat]]', 'lower_house': '[[Bundestag]]', 'sovereignty_type': '[[History of Germany|Formation]]', 'established_event1': '[[German Empire]]', 'established_date1': '[[Unification of Germany|1871]]', 'established_event2': '[[Weimar Republic]]', 'established_date2': '1918', 'established_event3': '[[Nazi Germany]]', 'established_date3': '1933', 'established_event4': '[[History of Germany (1945–90)|West and East Germany]] {{efn|The [[West Germany|Federal Republic of Germany]] was proclaimed on the [[Allied-occupied Germany|British, American and French occupation zones]] on 23 May 1949 while the [[East Germany|German Democratic Republic]] was formed from the [[Soviet occupation zone]] on 7 October 1949.}}', 'established_date4': '1949', 'established_event5': '[[German reunification|Reunification]]', 'established_date5': '1990', 'area_km2': '357,022', 'area_rank': '62nd', 'area_sq_mi': '137,847', 'population_estimate': '{{increase}} 83,149,300', 'population_estimate_year': '30-09-2019', 'population_estimate_rank': '19th', 'population_density_km2': '232', 'population_density_sq_mi': '601', 'population_density_rank': '58th', 'GDP_PPP': '$4,589 trillion', 'GDP_PPP_rank': '5th', 'GDP_PPP_year': '2020', 'GDP_PPP_per_capita': '$55,306', 'GDP_PPP_per_capita_rank': '16th', 'GDP_nominal': '$3,982 trillion', 'GDP_nominal_rank': '4th', 'GDP_nominal_year': '2020', 'GDP_nominal_per_capita': '$47,992', 'GDP_nominal_per_capita_rank': '16th', 'Gini': '31.1', 'Gini_year': '2018', 'Gini_change': 'increase', 'HDI': '0.939', 'HDI_year': '2018', 'HDI_change': 'increase', 'HDI_rank': '4th', 'currency': '[[Euro]] ([[Euro sign|€]])', 'currency_code': 'EUR', 'time_zone': '[[Central European Time|CET]]', 'utc_offset': '+1', 'utc_offset_DST': '+2', 'time_zone_DST': '[[Central European Summer Time|CEST]]', 'drives_on': 'right', 'cctld': '[[.de]]'}\n"
     ]
    },
    {
     "name": "stderr",
     "output_type": "stream",
     "text": [
      "Germany (en) data\n",
      "{\n",
      "  infobox: <dict(68)> conventional_long_name, common_name, native_...\n",
      "  iwlinks: <list(13)> https://commons.wikimedia.org/wiki/Special:S...\n",
      "  pageid: 11867\n",
      "  parsetree: <str(215512)> <root><template><title>about</title><pa...\n",
      "  requests: <list(1)> parse\n",
      "  title: Germany\n",
      "  wikibase: Q183\n",
      "  wikidata_url: https://www.wikidata.org/wiki/Q183\n",
      "  wikitext: <str(170690)> {{about|the country|other uses|Germany (...\n",
      "}\n"
     ]
    }
   ],
   "source": [
    "so = wptools.page('Germany').get_parse()\n",
    "infobox = so.data['infobox']\n",
    "print(infobox)"
   ]
  },
  {
   "cell_type": "code",
   "execution_count": 14,
   "metadata": {},
   "outputs": [
    {
     "name": "stderr",
     "output_type": "stream",
     "text": [
      "en.wikipedia.org (query) Germany\n",
      "en.wikipedia.org (query) Germany (&plcontinue=11867|0|Euro)\n",
      "en.wikipedia.org (query) Germany (&plcontinue=11867|0|Mittelstand)\n",
      "en.wikipedia.org (query) Germany (&plcontinue=11867|10|Germany_topics)\n",
      "en.wikipedia.org (parse) 11867\n",
      "www.wikidata.org (wikidata) Q183\n",
      "www.wikidata.org (labels) P3006|P5658|Q182865|P832|Q878|P4725|Q10...\n",
      "www.wikidata.org (labels) P474|P31|Q805|Q1036|Q186444|Q6655|P2347...\n",
      "www.wikidata.org (labels) Q82151|Q32145|P5002|Q1246|P1296|Q567|Q1...\n",
      "www.wikidata.org (labels) P402|P2799|P2299|P6262|Q43|P4010|P1333|...\n",
      "www.wikidata.org (labels) P1151|P1890|Q27509|Q423|Q27154|P3847|Q1...\n",
      "www.wikidata.org (labels) P2503|Q291495|P1589|P2959|Q838116|Q191|...\n",
      "www.wikidata.org (labels) Q1198|Q41|Q664|P208|Q1123613|Q1005903|Q...\n",
      "www.wikidata.org (labels) Q4173137|Q208645|Q881|P35|Q1011|P4614|Q...\n",
      "www.wikidata.org (labels) Q154124|Q151991|Q41550|Q712|Q8268|Q668|...\n",
      "www.wikidata.org (labels) Q403|Q801|Q2542|Q115|Q148|Q3174312|Q566...\n",
      "www.wikidata.org (labels) P1465|P297|Q921|P1343|Q384535|Q695|Q790...\n",
      "www.wikidata.org (labels) Q750|P1464|Q514001|Q55|P6104|Q854|Q1067...\n",
      "www.wikidata.org (labels) Q574|P3271|Q9051|Q20825355|Q398|P706|Q5...\n",
      "en.wikipedia.org (restbase) /page/summary/Germany\n",
      "en.wikipedia.org (imageinfo) File:Flag of Germany.svg\n",
      "Germany (en) data\n",
      "{\n",
      "  WARNINGS: <dict(1)> extracts\n",
      "  aliases: <list(7)> FRG, BRD, Bundesrepublik Deutschland, Federal...\n",
      "  assessments: <dict(9)> Wikipedia 1.0, Lutheranism, Christianity,...\n",
      "  claims: <dict(222)> P2924, P1333, P3221, P227, P1792, P2852, P28...\n",
      "  description: Country in Central Europe\n",
      "  exhtml: <str(443)> <p><b>Germany</b>, officially the <b>Federal ...\n",
      "  exrest: <str(422)> Germany, officially the Federal Republic of G...\n",
      "  extext: <str(2695)> **Germany** (German: _Deutschland_ , German ...\n",
      "  extract: <str(2973)> <p class=\"mw-empty-elt\"></p><p><span></span...\n",
      "  image: <list(10)> {'kind': 'query-pageimage', 'file': 'File:Flag...\n",
      "  infobox: <dict(68)> conventional_long_name, common_name, native_...\n",
      "  iwlinks: <list(13)> https://commons.wikimedia.org/wiki/Special:S...\n",
      "  label: Germany\n",
      "  labels: <dict(641)> P3006, P5658, Q182865, P832, Q878, P4725, Q1...\n",
      "  length: 171,477\n",
      "  links: <list(1467)> .de, 18th-century history of Germany, 1933 G...\n",
      "  modified: <dict(2)> page, wikidata\n",
      "  pageid: 11867\n",
      "  parsetree: <str(215512)> <root><template><title>about</title><pa...\n",
      "  random: Solidago spithamaea\n",
      "  redirects: <list(29)> {'pageid': 3342, 'ns': 0, 'title': 'Bundes...\n",
      "  requests: <list(21)> query, query, query, query, parse, wikidata...\n",
      "  title: Germany\n",
      "  url: https://en.wikipedia.org/wiki/Germany\n",
      "  url_raw: https://en.wikipedia.org/wiki/Germany?action=raw\n",
      "  watchers: 1,968\n",
      "  what: sovereign state\n",
      "  wikibase: Q183\n",
      "  wikidata: <dict(221)> Great Russian Encyclopedia Online ID (P292...\n",
      "  wikidata_pageid: 322\n",
      "  wikidata_url: https://www.wikidata.org/wiki/Q183\n",
      "  wikitext: <str(170690)> {{about|the country|other uses|Germany (...\n",
      "}\n"
     ]
    },
    {
     "data": {
      "text/plain": [
       "<wptools.page.WPToolsPage at 0x1a20779dd0>"
      ]
     },
     "execution_count": 14,
     "metadata": {},
     "output_type": "execute_result"
    }
   ],
   "source": []
  },
  {
   "cell_type": "code",
   "execution_count": 2,
   "metadata": {},
   "outputs": [
    {
     "name": "stdout",
     "output_type": "stream",
     "text": [
      "Collecting package metadata (current_repodata.json): done\n",
      "Solving environment: done\n",
      "\n",
      "# All requested packages already installed.\n",
      "\n"
     ]
    }
   ],
   "source": [
    "# Install a the wikipedia conda package in the current Jupyter kernel\n",
    "import sys\n",
    "!conda install --yes --prefix {sys.prefix} -c conda-forge wikipedia"
   ]
  },
  {
   "cell_type": "code",
   "execution_count": 5,
   "metadata": {},
   "outputs": [],
   "source": [
    "import wikipedia"
   ]
  },
  {
   "cell_type": "code",
   "execution_count": 6,
   "metadata": {},
   "outputs": [
    {
     "name": "stdout",
     "output_type": "stream",
     "text": [
      "['Germany', 'Nazi Germany', 'Germans', 'East Germany', 'History of Germany', 'German language', 'German Navy', 'Western Germany', 'Alternative for Germany', 'German']\n"
     ]
    }
   ],
   "source": [
    "print(wikipedia.search(\"Germany\"))"
   ]
  },
  {
   "cell_type": "code",
   "execution_count": 8,
   "metadata": {},
   "outputs": [
    {
     "data": {
      "text/plain": [
       "'Germany (German: Deutschland, German pronunciation: [ˈdɔʏtʃlant]), officially the Federal Republic of Germany (German: Bundesrepublik Deutschland, listen ), is a country in Central and Western Europe. Covering an area of 357,022 square kilometres (137,847 sq mi), it lies between the Baltic and North seas to the north, and the Alps to the south. It borders Denmark to the north, Poland and the Czech Republic to the east, Austria and Switzerland to the south, and France, Luxembourg, Belgium, and the Netherlands to the west.\\nVarious Germanic tribes have inhabited the northern parts of modern Germany since classical antiquity. A region named Germania was documented before AD 100. Beginning in the 10th century, German territories formed a central part of the Holy Roman Empire. During the 16th century, northern German regions became the centre of the Protestant Reformation. After the collapse of the Holy Roman Empire, the German Confederation was formed in 1815. In 1871, Germany became a nation state when most of the German states unified into the Prussian-dominated German Empire. After World War I and the German Revolution of 1918–1919, the Empire was replaced by the parliamentary Weimar Republic. The Nazi seizure of power in 1933 led to the establishment of a dictatorship, World War II, and the Holocaust. After the end of World War II in Europe and a period of Allied occupation, two new German states were founded: West Germany and East Germany. The Federal Republic of Germany was a founding member of the European Economic Community and the European Union. The country was reunified on 3 October 1990.\\nToday, Germany is a federal parliamentary republic led by a chancellor. With 83 million inhabitants of its 16 constituent states, it is the second-most populous country in Europe after Russia, as well as the most populous member state of the European Union. Its capital and largest city is Berlin, and its financial centre is Frankfurt; the largest urban area is the Ruhr.\\nGermany is a great power with a strong economy; it has the largest economy in Europe, the world\\'s fourth-largest economy by nominal GDP, and the fifth-largest by PPP. As a global leader in several industrial and technological sectors, it is both the world\\'s third-largest exporter and importer of goods. A highly developed country with a very high standard of living, it offers social security and a universal health care system, environmental protections, and a tuition-free university education. Germany is also a member of the United Nations, NATO, the G7, the G20, and the OECD. Known for its long and rich cultural history, Germany has many World Heritage sites and is among the top tourism destinations in the world.\\n\\n\\n== Etymology ==\\n\\nThe English word Germany derives from the Latin Germania, which came into use after Julius Caesar adopted it for the peoples east of the Rhine. The German term Deutschland, originally diutisciu land (\"the German lands\") is derived from deutsch, descended from Old High German diutisc \"of the people\" (from diot or diota \"people\"), originally used to distinguish the language of the common people from Latin and its Romance descendants. This in turn descends from Proto-Germanic *þiudiskaz \"of the people\" (see also the Latinised form Theodiscus), derived from *þeudō, descended from Proto-Indo-European *tewtéh₂- \"people\", from which the word Teutons also originates.\\n\\n\\n== History ==\\n\\nAncient humans were present in Germany at least 600,000 years ago. The first non-modern human fossil (the Neanderthal) was discovered in the Neander Valley. Similarly dated evidence of modern humans has been found in the Swabian Jura, including 42,000-year-old flutes which are the oldest musical instruments ever found, the 40,000-year-old Lion Man, and the 35,000-year-old Venus of Hohle Fels. The Nebra sky disk, created during the European Bronze Age, is attributed to a German site.\\n\\n\\n=== Germanic tribes and Frankish Empire ===\\n\\nThe Germanic tribes are thought to date from the Nordic Bronze Age or the Pre-Roman Iron Age. From southern Scandinavia and north Germany, they expanded south, east and west, coming into contact with the Celtic, Iranian, Baltic, and Slavic tribes.\\n\\nUnder Augustus, Rome began to invade Germania. In 9 AD, three Roman legions were defeated by Arminius. By 100 AD, when Tacitus wrote Germania, Germanic tribes had settled along the Rhine and the Danube (the Limes Germanicus), occupying most of modern Germany. However, Baden Württemberg, southern Bavaria, southern Hesse and the western Rhineland had been incorporated into Roman provinces. Around 260, Germanic peoples broke into Roman-controlled lands. After the invasion of the Huns in 375, and with the decline of Rome from 395, Germanic tribes moved farther southwest: the Franks established the Frankish Kingdom and pushed east to subjugate Saxony and Bavaria, and areas of what is today eastern Germany were inhabited by Western Slavic tribes.\\n\\n\\n=== East Francia and Holy Roman Empire ===\\n\\nCharlemagne founded the Carolingian Empire in 800; it was divided in 843 and the Holy Roman Empire emerged from the eastern portion. The territory initially known as East Francia stretched from the Rhine in the west to the Elbe River in the east and from the North Sea to the Alps. The Ottonian rulers (919–1024) consolidated several major duchies. In 996 Gregory V became the first German Pope, appointed by his cousin Otto III, whom he shortly after crowned Holy Roman Emperor. The Holy Roman Empire absorbed northern Italy and Burgundy under the Salian emperors (1024–1125), although the emperors lost power through the Investiture controversy.Under the Hohenstaufen emperors (1138–1254), German princes encouraged German settlement to the south and east (Ostsiedlung). Members of the Hanseatic League, mostly north German towns, prospered in the expansion of trade. Population declined starting with the Great Famine in 1315, followed by the Black Death of 1348–50. The Golden Bull issued in 1356 provided the constitutional structure of the Empire and codified the election of the emperor by seven prince-electors.\\n\\nJohannes Gutenberg introduced moveable-type printing to Europe, laying the basis for the democratization of knowledge. In 1517, Martin Luther incited the Protestant Reformation; the 1555 Peace of Augsburg tolerated the \"Evangelical\" faith (Lutheranism), but also decreed that the faith of the prince was to be the faith of his subjects (cuius regio, eius religio). From the Cologne War through the Thirty Years\\' Wars (1618–1648), religious conflict devastated German lands and significantly reduced the population.The Peace of Westphalia ended religious warfare among the Imperial Estates; their mostly German-speaking rulers were able to choose Roman Catholicism, Lutheranism, or the Reformed faith as their official religion. The legal system initiated by a series of Imperial Reforms (approximately 1495–1555) provided for considerable local autonomy and a stronger Imperial Diet. The House of Habsburg held the imperial crown from 1438 until the death of Charles VI in 1740. Following the War of Austrian Succession and the Treaty of Aix-la-Chapelle, Charles VI\\'s daughter Maria Theresa ruled as Empress Consort when her husband, Francis I, became Emperor.From 1740, dualism between the Austrian Habsburg Monarchy and the Kingdom of Prussia dominated German history. In 1772, 1793, and 1795, Prussia and Austria, along with the Russian Empire, agreed to the Partitions of Poland. During the period of the French Revolutionary Wars, the Napoleonic era and the subsequent final meeting of the Imperial Diet, most of the Free Imperial Cities were annexed by dynastic territories; the ecclesiastical territories were secularised and annexed. In 1806 the Imperium was dissolved; France, Russia, Prussia and the Habsburgs (Austria) competed for hegemony in the German states during the Napoleonic Wars.\\n\\n\\n=== German Confederation and Empire ===\\n\\nFollowing the fall of Napoleon, the Congress of Vienna founded the German Confederation, a loose league of 39 sovereign states. The appointment of the Emperor of Austria as the permanent president reflected the Congress\\'s rejection of Prussia\\'s rising influence. Disagreement within restoration politics partly led to the rise of liberal movements, followed by new measures of repression by Austrian statesman Metternich. The Zollverein, a tariff union, furthered economic unity. In light of revolutionary movements in Europe, intellectuals and commoners started the Revolutions of 1848 in the German states. King Frederick William IV of Prussia was offered the title of Emperor, but with a loss of power; he rejected the crown and the proposed constitution, a temporary setback for the movement.King William I appointed Otto von Bismarck as the Minister President of Prussia in 1862. Bismarck successfully concluded war on Denmark; the subsequent decisive Prussian victory in the Austro-Prussian War of 1866 enabled him to create the North German Confederation which excluded Austria. After the French defeat in the Franco-Prussian War, the German princes proclaimed the founding of the German Empire in 1871. Prussia was the dominant constituent state of the new empire; the King of Prussia ruled as its Kaiser, and Berlin became its capital.In the Gründerzeit period following the unification of Germany, Bismarck\\'s foreign policy as Chancellor of Germany secured Germany\\'s position as a great nation by forging alliances and avoiding war. However, under Wilhelm II, Germany took an imperialistic course, leading to friction with neighbouring countries. A dual alliance was created with the multinational realm of Austria-Hungary; the Triple Alliance of 1882 included Italy. Britain, France and Russia also concluded alliances to protect against Habsburg interference with Russian interests in the Balkans or German interference against France. At the Berlin Conference in 1884, Germany claimed several colonies including German East Africa, German South West Africa, Togoland, and Kamerun. Later, Germany further expanded its colonial empire to include holdings in the Pacific and China. In what became known as the \"First Genocide of the Twentieth Century\", the colonial government in South West Africa (present-day Namibia) ordered the annihilation of the local Herero and Namaqua peoples, as punishment for an uprising.The assassination of Austria\\'s crown prince on 28 June 1914 provided the pretext for the Austrian Empire to attack Serbia and trigger World War I. After four years of warfare, in which approximately two million German soldiers were killed, a general armistice ended the fighting. In the German Revolution (November 1918), Emperor Wilhelm II and the ruling princes abdicated their positions and Germany was declared a federal republic. Germany\\'s new leadership signed the Treaty of Versailles in 1919, accepting defeat by the Allies. Germans perceived the treaty as humiliating, which was seen by historians as influential in the rise of Adolf Hitler. Germany lost around 13% of its European territory and ceded all of its colonial possessions in Africa and the South Sea.\\n\\n\\n=== Weimar Republic and Nazi Germany ===\\n\\nOn 11 August 1919, President Friedrich Ebert signed the democratic Weimar Constitution. In the subsequent struggle for power, Communists seized power in Bavaria, but conservative elements elsewhere attempted to overthrow the Republic in the Kapp Putsch. Street fighting in the major industrial centres, the occupation of the Ruhr by Belgian and French troops, and a period of hyperinflation followed. A debt restructuring plan and the creation of a new currency in 1924 ushered in the Golden Twenties, an era of artistic innovation and liberal cultural life.\\n\\nThe worldwide Great Depression hit Germany in 1929. Chancellor Heinrich Brüning\\'s government pursued a policy of fiscal austerity and deflation which caused unemployment of nearly 30% by 1932. The Nazi Party led by Adolf Hitler won a special election in 1932 and Hindenburg appointed Hitler as Chancellor of Germany on 30 January 1933. After the Reichstag fire, a decree abrogated basic civil rights and the first Nazi concentration camp opened. The Enabling Act gave Hitler unrestricted legislative power, overriding the constitution; his government established a centralised totalitarian state, withdrew from the League of Nations, and dramatically increased the country\\'s rearmament. A government-sponsored programme for economic renewal focused on public works, the most famous of which was the German autobahns.In 1935, the regime withdrew from the Treaty of Versailles and introduced the Nuremberg Laws which targeted Jews and other minorities. Germany also reacquired control of the Saar in 1935, remilitarised the Rhineland in 1936, annexed Austria in 1938, annexed the Sudetenland in 1938 with the Munich Agreement, and in violation of the agreement occupied Czechoslovakia in March 1939. Kristallnacht saw the burning of synagogues, the destruction of Jewish businesses, and mass arrests of Jewish people.\\n\\nIn August 1939, Hitler\\'s government negotiated the Molotov–Ribbentrop pact that divided Eastern Europe into German and Soviet spheres of influence. On 1 September 1939, Germany invaded Poland, beginning World War II in Europe; Britain and France declared war on Germany on 3 September. In the spring of 1940, Germany conquered Denmark and Norway, the Netherlands, Belgium, Luxembourg, and France, forcing the French government to sign an armistice. The British repelled German air attacks in the Battle of Britain in the same year. In 1941, German troops invaded Yugoslavia, Greece and the Soviet Union. By 1942, Germany and other Axis powers controlled most of continental Europe and North Africa, but following the Soviet victory at the Battle of Stalingrad, the allies\\' reconquest of North Africa and invasion of Italy in 1943, German forces suffered repeated military defeats. In 1944, the Soviets pushed into Eastern Europe; the Western allies landed in France and entered Germany despite a final German counteroffensive. Following Hitler\\'s suicide during the Battle of Berlin, Germany surrendered on 8 May 1945, ending World War II in Europe. After World War II, Nazi officials were tried for war crimes at the Nuremberg trials.In what later became known as the Holocaust, the German government persecuted minorities, including interning them in concentration and death camps across Europe. In total 17 million were systematically murdered, including 6 million Jews, at least 130,000 Romani, 275,000 persons with disabilities, thousands of Jehovah\\'s Witnesses, thousands of homosexuals, and hundreds of thousands of political and religious opponents. Nazi policies in German-occupied countries resulted in the deaths of 2.7 million Poles, 1.3 million Ukrainians, 1 million Belarusians and 3.5 million Soviet war prisoners. German military war casualties have been estimated at 5.3 million, and around 900,000 German civilians died. Around 12 million ethnic Germans were expelled from across Eastern Europe, and Germany lost roughly one-quarter of its pre-war territory.\\n\\n\\n=== East and West Germany ===\\n\\nAfter Nazi Germany surrendered, the Allies partitioned Berlin and Germany\\'s remaining territory into four occupation zones. The western sectors, controlled by France, the United Kingdom, and the United States, were merged on 23 May 1949 to form the Federal Republic of Germany (Bundesrepublik Deutschland (BRD)); on 7 October 1949, the Soviet Zone became the German Democratic Republic (Deutsche Demokratische Republik (DDR)). They were informally known as West Germany and East Germany. East Germany selected East Berlin as its capital, while West Germany chose Bonn as a provisional capital, to emphasise its stance that the two-state solution was temporary.West Germany was established as a federal parliamentary republic with a \"social market economy\". Starting in 1948 West Germany became a major recipient of reconstruction aid under the Marshall Plan. Konrad Adenauer was elected the first Federal Chancellor of Germany in 1949. The country enjoyed prolonged economic growth (Wirtschaftswunder) beginning in the early 1950s. West Germany joined NATO in 1955 and was a founding member of the European Economic Community.East Germany was an Eastern Bloc state under political and military control by the USSR via occupation forces and the Warsaw Pact. Although East Germany claimed to be a democracy, political power was exercised solely by leading members (Politbüro) of the communist-controlled Socialist Unity Party of Germany, supported by the Stasi, an immense secret service. While East German propaganda was based on the benefits of the GDR\\'s social programmes and the alleged threat of a West German invasion, many of its citizens looked to the West for freedom and prosperity. The Berlin Wall, built in 1961, prevented East German citizens from escaping to West Germany, becoming a symbol of the Cold War.Tensions between East and West Germany were reduced in the late 1960s by Chancellor Willy Brandt\\'s Ostpolitik. In 1989, Hungary decided to dismantle the Iron Curtain and open its border with Austria, causing the emigration of thousands of East Germans to West Germany via Hungary and Austria. This had devastating effects on the GDR, where regular mass demonstrations received increasing support. In an effort to help retain East Germany as a state, the East German authorities eased border restrictions, but this actually led to an acceleration of the Wende reform process culminating in the Two Plus Four Treaty under which Germany regained full sovereignty. This permitted German reunification on 3 October 1990, with the accession of the five re-established states of the former GDR. The fall of the Wall in 1989 became a symbol of the Fall of Communism, the Dissolution of the Soviet Union, German Reunification and Die Wende.\\n\\n\\n=== Reunified Germany and the European Union ===\\n\\nUnited Germany is considered the enlarged continuation of West Germany so retained its memberships in international organisations. Based on the Berlin/Bonn Act (1994), Berlin again became the capital of Germany, while Bonn obtained the unique status of a Bundesstadt (federal city) retaining some federal ministries. The relocation of the government was completed in 1999, and modernisation of the east German economy was scheduled to last until 2019.Since reunification, Germany has taken a more active role in the European Union, signing the Maastricht Treaty in 1992 and the Lisbon Treaty in 2007, and co-founding the Eurozone. Germany sent a peacekeeping force to secure stability in the Balkans and sent German troops to Afghanistan as part of a NATO effort to provide security in that country after the ousting of the Taliban.In the 2005 elections, Angela Merkel became the first female chancellor. In 2009 the German government approved a €50 billion stimulus plan. Among the major German political projects of the early 21st century are the advancement of European integration, the energy transition (Energiewende) for a sustainable energy supply, the \"Debt Brake\" for balanced budgets, measures to increase the fertility rate (pronatalism), and high-tech strategies for the transition of the German economy, summarised as Industry 4.0. Germany was affected by the European migrant crisis in 2015: the country took in over a million migrants and developed a quota system which redistributed migrants around its federal states.\\n\\n\\n== Geography ==\\n\\nGermany is in Western and Central Europe, bordering Denmark to the north, Poland and the Czech Republic to the east, Austria to the southeast, and Switzerland to the south-southwest. France, Luxembourg and Belgium are situated to the west, with the Netherlands to the northwest. Germany is also bordered by the North Sea and, at the north-northeast, by the Baltic Sea. German territory covers 357,022 km2 (137,847 sq mi), consisting of 348,672 km2 (134,623 sq mi) of land and 8,350 km2 (3,224 sq mi) of water. It is the seventh largest country by area in Europe and the 62nd largest in the world.Elevation ranges from the mountains of the Alps (highest point: the Zugspitze at 2,963 metres or 9,721 feet) in the south to the shores of the North Sea (Nordsee) in the northwest and the Baltic Sea (Ostsee) in the northeast. The forested uplands of central Germany and the lowlands of northern Germany (lowest point: Wilstermarsch at 3.54 metres or 11.6 feet below sea level) are traversed by such major rivers as the Rhine, Danube and Elbe. Significant natural resources include iron ore, coal, potash, timber, lignite, uranium, copper, natural gas, salt, and nickel.\\n\\n\\n=== Climate ===\\nMost of Germany has a temperate climate, ranging from oceanic in the north to continental in the east and southeast. Winters range from cold in the southern Alps to mild and are generally overcast with limited precipitation, while summers can vary from hot and dry to cool and rainy. The northern regions have prevailing westerly winds that bring in moist air from the North Sea, moderating the temperature and increasing precipitation. Conversely, the southeast regions have more extreme temperatures.From February 2019–2020, average monthly temperatures in Germany ranged from a low of 3.3 °C (37.9 °F) in January 2020 to a high of 19.8 °C (67.6 °F) in June 2019. Average monthly precipitation ranged from 30 litres per square metre in February and April 2019 to 125 litres per square metre in February 2020. Average monthly hours of sunshine ranged from 45 in November 2019 to 300 in June 2019.\\n\\n\\n=== Biodiversity ===\\n\\nThe territory of Germany can be divided into two ecoregions: European-Mediterranean montane mixed forests and Northeast-Atlantic shelf marine. As of 2016 51% of Germany\\'s land area is devoted to agriculture, while 30% is forested and 14% is covered by settlements or infrastructure.Plants and animals include those generally common to Central Europe. According to the National Forest Inventory, beeches, oaks, and other deciduous trees constitute just over 40% of the forests; roughly 60% are conifers, particularly spruce and pine. There are many species of ferns, flowers, fungi, and mosses. Wild animals include roe deer, wild boar, mouflon (a subspecies of wild sheep), fox, badger, hare, and small numbers of the Eurasian beaver. The blue cornflower was once a German national symbol.The 16 national parks in Germany include the Jasmund National Park, the Vorpommern Lagoon Area National Park, the Müritz National Park, the Wadden Sea National Parks, the Harz National Park, the Hainich National Park, the Black Forest National Park, the Saxon Switzerland National Park, the Bavarian Forest National Park and the Berchtesgaden National Park. In addition, there are 17 Biosphere Reserves and 105 nature parks. More than 400 zoos and animal parks operate in Germany. The Berlin Zoo, which opened in 1844, is the oldest in Germany, and claims the most comprehensive collection of species in the world.\\n\\n\\n== Politics ==\\n\\nGermany is a federal, parliamentary, representative democratic republic. Federal legislative power is vested in the parliament consisting of the Bundestag (Federal Diet) and Bundesrat (Federal Council), which together form the legislative body. The Bundestag is elected through direct elections: half by majority vote and half by proportional representation. The members of the Bundesrat represent and are appointed by the governments of the sixteen federated states. The German political system operates under a framework laid out in the 1949 constitution known as the Grundgesetz (Basic Law). Amendments generally require a two-thirds majority of both the Bundestag and the Bundesrat; the fundamental principles of the constitution, as expressed in the articles guaranteeing human dignity, the separation of powers, the federal structure, and the rule of law, are valid in perpetuity.The president, currently Frank-Walter Steinmeier, is the head of state and invested primarily with representative responsibilities and powers. He is elected by the Bundesversammlung (federal convention), an institution consisting of the members of the Bundestag and an equal number of state delegates. The second-highest official in the German order of precedence is the Bundestagspräsident (president of the Bundestag), who is elected by the Bundestag and responsible for overseeing the daily sessions of the body. The third-highest official and the head of government is the chancellor, who is appointed by the Bundespräsident after being elected by the party or coalition with the most seats in the Bundestag. The chancellor, currently Angela Merkel, is the head of government and exercises executive power through their Cabinet.Since 1949, the party system has been dominated by the Christian Democratic Union and the Social Democratic Party of Germany. So far every chancellor has been a member of one of these parties. However, the smaller liberal Free Democratic Party and the Alliance \\'90/The Greens have also achieved some success. Since 2007, the left-wing populist party The Left has been a staple in the German Bundestag, though they have never been part of the federal government. In the 2017 German federal election, the right-wing populist Alternative for Germany gained enough votes to attain representation in the parliament for the first time.\\n\\n\\n=== Constituent states ===\\n\\nGermany comprises sixteen federal states which are collectively referred to as Bundesländer. Each state has its own state constitution, and is largely autonomous in regard to its internal organisation. As of 2017 Germany is divided into 401 districts (Kreise) at a municipal level; these consist of 294 rural districts and 107 urban districts.\\n\\n\\n=== Law ===\\n\\nGermany has a civil law system based on Roman law with some references to Germanic law. The Bundesverfassungsgericht (Federal Constitutional Court) is the German Supreme Court responsible for constitutional matters, with power of judicial review. Germany\\'s supreme court system is specialised: for civil and criminal cases, the highest court of appeal is the inquisitorial Federal Court of Justice, and for other affairs the courts are the Federal Labour Court, the Federal Social Court, the Federal Finance Court and the Federal Administrative Court.Criminal and private laws are codified on the national level in the Strafgesetzbuch and the Bürgerliches Gesetzbuch respectively. The German penal system seeks the rehabilitation of the criminal and the protection of the public. Except for petty crimes, which are tried before a single professional judge, and serious political crimes, all charges are tried before mixed tribunals on which lay judges (Schöffen) sit side by side with professional judges.Germany has a low murder rate with 1.18 murders per 100,000 as of 2016. In 2018, the overall crime rate fell to its lowest since 1992.\\n\\n\\n=== Foreign relations ===\\n\\nGermany has a network of 227 diplomatic missions abroad and maintains relations with more than 190 countries.  Germany is a member of NATO, the OECD, the G8, the G20, the World Bank and the IMF. It has played an influential role in the European Union since its inception and has maintained a strong alliance with France and all neighbouring countries since 1990. Germany promotes the creation of a more unified European political, economic and security apparatus. The governments of Germany and the United States are close political allies. Cultural ties and economic interests have crafted a bond between the two countries resulting in Atlanticism.The development policy of Germany is an independent area of foreign policy. It is formulated by the Federal Ministry for Economic Cooperation and Development and carried out by the implementing organisations. The German government sees development policy as a joint responsibility of the international community. It was the world\\'s second biggest aid donor in 2019 after the United States.\\n\\n\\n=== Military ===\\n\\nGermany\\'s military, the Bundeswehr, is organised into Heer (Army and special forces KSK), Marine (Navy), Luftwaffe (Air Force), Bundeswehr Joint Medical Service and Streitkräftebasis (Joint Support Service) branches. In absolute terms, German military expenditure is the 8th highest in the world. In 2018, military spending was at $49.5 billion, about 1.2% of the country\\'s GDP, well below the NATO target of 2%.\\nAs of January 2020, the Bundeswehr has a strength of 184,001 active soldiers and 80,947 civilians. Reservists are available to the Armed Forces and participate in defence exercises and deployments abroad. Until 2011, military service was compulsory for men at age 18, but this has been officially suspended and replaced with a voluntary service. Since 2001 women may serve in all functions of service without restriction. According to SIPRI, Germany was the fourth largest exporter of major arms in the world from 2014 to 2018.In peacetime, the Bundeswehr is commanded by the Minister of Defence. In state of defence, the Chancellor would become commander-in-chief of the Bundeswehr. The role of the Bundeswehr is described in the Constitution of Germany as defensive only. But after a ruling of the Federal Constitutional Court in 1994 the term \"defence\" has been defined to not only include protection of the borders of Germany, but also crisis reaction and conflict prevention, or more broadly as guarding the security of Germany anywhere in the world. As of 2017, the German military has about 3,600 troops stationed in foreign countries as part of international peacekeeping forces, including about 1,200 supporting operations against Daesh, 980 in the NATO-led Resolute Support Mission in Afghanistan, and 800 in Kosovo.\\n\\n\\n== Economy ==\\n\\nGermany has a social market economy with a highly skilled labour force, a low level of corruption, and a high level of innovation. It is the world\\'s third largest exporter of goods, and has the largest national economy in Europe which is also the world\\'s fourth largest by nominal GDP and the fifth by PPP. The service sector contributes approximately 69% of the total GDP, industry 31%, and agriculture 1% as of 2017. The unemployment rate published by Eurostat amounts to 3.2% as of January 2020, which is the fourth-lowest in the EU.Germany is part of the European single market which represents more than 450 million consumers. In 2017, the country accounted for 28% of the Eurozone economy according to the International Monetary Fund. Germany introduced the common European currency, the Euro, in 2002. Its monetary policy is set by the European Central Bank, which is headquartered in Frankfurt.Being home to the modern car, the automotive industry in Germany is regarded as one of the most competitive and innovative in the world, and is the fourth largest by production. The top 10 exports of Germany are vehicles, machinery, chemical goods, electronic products, electrical equipments, pharmaceuticals, transport equipments, basic metals, food products, and rubber and plastics. Germany is one of the largest exporters globally.Of the world\\'s 500 largest stock-market-listed companies measured by revenue in 2019, the Fortune Global 500, 29 are headquartered in Germany. 30 major Germany-based companies are included in the DAX, the German stock market index which is operated by Frankfurt Stock Exchange. Well-known international brands include Mercedes-Benz, BMW, Volkswagen, Audi, Siemens, Allianz, Adidas, Porsche, Bosch and Deutsche Telekom. Berlin is a hub for startup companies and has become the leading location for venture capital funded firms in the European Union. Germany is recognised for its large portion of specialised small and medium enterprises, known as the Mittelstand model. These companies represent 48% global market leaders in their segments, labelled Hidden Champions.\\n\\n\\n=== Infrastructure ===\\n\\nWith its central position in Europe, Germany is a transport hub for the continent. Its road network is among the densest in Europe. The motorway (Autobahn) is widely known for having no federally mandated speed limit for some classes of vehicles. The InterCityExpress or ICE train network serves major German cities as well as destinations in neighbouring countries with speeds up to 300 km/h (190 mph). The largest German airports are Frankfurt Airport and Munich Airport. The Port of Hamburg is one of the top twenty largest container ports in the world.In 2015, Germany was the world\\'s seventh-largest consumer of energy. The government and the nuclear power industry agreed to phase out all nuclear power plants by 2021. It meets the country\\'s power demands using 40% renewable sources. Germany is committed to the Paris Agreement and several other treaties promoting biodiversity, low emission standards, and water management. The country\\'s household recycling rate is among the highest in the world—at around 65%. Nevertheless, the country\\'s total greenhouse gas emissions were the highest in the EU in 2017. The German energy transition (Energiewende) is the recognised move to a sustainable economy by means of energy efficiency and renewable energy.\\n\\n\\n=== Science and technology ===\\n\\nGermany is a global leader in science and technology as its achievements in the fields of science and technology have been significant. Research and development efforts form an integral part of the economy. The Nobel Prize has been awarded to 108 German laureates. It produces the second highest number of graduates in science and engineering (31%) after South Korea. Research institutions in Germany include the Max Planck Society, the Helmholtz Association, the Fraunhofer Society and the Leibniz Association. The Gottfried Wilhelm Leibniz Prize, granted to ten scientists and academics every year, is one of the highest endowed research prizes in the world.\\nNotable German physicists before the 20th century include Hermann von Helmholtz, Joseph von Fraunhofer and Gabriel Daniel Fahrenheit, among others. Albert Einstein introduced the special relativity and general relativity theories for light and gravity in 1905 and 1915 respectively. Along with Max Planck, he was instrumental in the introduction of quantum mechanics, in which Werner Heisenberg and Max Born later made major contributions. Wilhelm Röntgen discovered X-rays. Otto Hahn was a pioneer in the fields of radiochemistry and discovered nuclear fission, while Ferdinand Cohn and Robert Koch were founders of microbiology. Numerous mathematicians were born in Germany, including Carl Friedrich Gauss, David Hilbert, Bernhard Riemann, Gottfried Leibniz, Karl Weierstrass, Hermann Weyl, Felix Klein and Emmy Noether.\\nGermany has been the home of many famous inventors and engineers, including Hans Geiger, the creator of the Geiger counter; and Konrad Zuse, who built the first fully automatic digital computer. Such German inventors, engineers and industrialists as Count Ferdinand von Zeppelin, Otto Lilienthal, Gottlieb Daimler, Rudolf Diesel, Hugo Junkers and Karl Benz helped shape modern automotive and air transportation technology. German institutions like the German Aerospace Center (DLR) are the largest contributor to ESA. Aerospace engineer Wernher von Braun developed the first space rocket at Peenemünde and later on was a prominent member of NASA and developed the Saturn V Moon rocket. Heinrich Rudolf Hertz\\'s work in the domain of electromagnetic radiation was pivotal to the development of modern telecommunication.\\n\\n\\n=== Tourism ===\\n\\nGermany is the ninth most visited country in the world As of 2017, with 37.4 million visits. Berlin has become the third most visited city destination in Europe. Additionally, more than 30% of Germans spend their holiday in their own country. Domestic and international travel and tourism combined directly contribute over EUR43.2 billion to German GDP. Including indirect and induced impacts, the industry contributes 4.5% of German GDP and supports 2 million jobs (4.8% of total employment).\\nGermany\\'s most visited and popular landmarks include Neuschwanstein Castle, Cologne Cathedral, the Brandenburg Gate, the Reichstag, Hofbräuhaus Munich, Heidelberg Castle, Dresden Zwinger, Fernsehturm Berlin, the Walhalla memorial, and Aachen Cathedral. The Europa-Park near Freiburg is Europe\\'s second most popular theme park resort.\\n\\n\\n== Demographics ==\\n\\nWith a population of 80.2 million according to the 2011 census, rising to 83 million as of 2018, Germany is the most populous country in the European Union, the second most populous country in Europe after Russia, and the 19th most populous country in the world. Its population density stands at 227 inhabitants per square kilometre (588 per square mile). The overall life expectancy in Germany at birth is 80.19 years (77.93 years for males and 82.58 years for females). The fertility rate of 1.41 children born per woman (2011 estimates) is below the replacement rate of 2.1 and is one of the lowest fertility rates in the world. Since the 1970s, Germany\\'s death rate has exceeded its birth rate. However, Germany is witnessing increased birth rates and migration rates since the beginning of the 2010s, particularly a rise in the number of well-educated migrants. Germany has the third oldest population in the world, with the average age of 47.4 years.Four sizeable groups of people are referred to as \"national minorities\" because their ancestors have lived in their respective regions for centuries: There is a Danish minority in the northernmost state of Schleswig-Holstein; the Sorbs, a Slavic population, are in the Lusatia region of Saxony and Brandenburg.; the Roma and Sinti live throughout the country; and the Frisians are concentrated in Schleswig-Holstein\\'s western coast and in the north-western part of Lower Saxony.After the United States, Germany is the second most popular immigration destination in the world. The majority of migrants live in western Germany, in particular in urban areas. Of the country\\'s residents, 18.6 million people (22.5%) were of immigrant or partially immigrant descent in 2016 (including persons descending or partially descending from ethnic German repatriates). In 2015, the Population Division of the United Nations Department of Economic and Social Affairs listed Germany as host to the second-highest number of international migrants worldwide, about 5% or 12 million of all 244 million migrants. As of 2018, Germany ranks fifth amongst EU countries in terms of the percentage of migrants in the country\\'s population, at 12.9%.Germany has a number of large cities. There are 11 officially recognised metropolitan regions. The country\\'s largest city is Berlin, while its largest urban area is the Ruhr.\\n\\n\\n=== Religion ===\\n\\nThe 2011 German Census showed Christianity as the largest religion in Germany, with 66.8% identified themselves as Christian, with 3.8% of those not being church members. 31.7% declared themselves as Protestants, including members of the Evangelical Church in Germany (which encompasses Lutheran, Reformed and administrative or confessional unions of both traditions) and the free churches (German: Evangelische Freikirchen); 31.2% declared themselves as Roman Catholics, and Orthodox believers constituted 1.3%. According to data from 2016, the Catholic Church and the Evangelical Church claimed 28.5% and 27.5%, respectively, of the population. Islam is the second largest religion in the country. In the 2011 census, 1.9% of the census population (1.52 million people) gave their religion as Islam, but this figure is deemed unreliable because a disproportionate number of adherents of this religion (and other religions, such as Judaism) are likely to have made use of their right not to answer the question. Most of the Muslims are Sunnis and Alevites from Turkey, but there are a small number of Shi\\'ites, Ahmadiyyas and other denominations. Other religions comprise less than one percent of Germany\\'s population.A study in 2018 estimated that 38% of the population are not members of any religious organization or denomination, though up to a third may still consider themselves religious. Irreligion in Germany is strongest in the former East Germany, which used to be predominantly Protestant before state atheism, and in major metropolitan areas.\\n\\n\\n=== Languages ===\\n\\nGerman is the official and predominant spoken language in Germany. It is one of 24 official and working languages of the European Union, and one of the three working languages of the European Commission. German is the most widely spoken first language in the European Union, with around 100 million native speakers.\\nRecognised native minority languages in Germany are Danish, Low German, Low Rhenish, Sorbian, Romany, North Frisian and Saterland Frisian; they are officially protected by the European Charter for Regional or Minority Languages. The most used immigrant languages are Turkish, Arabic, Kurdish, Polish, the Balkan languages and Russian. Germans are typically multilingual: 67% of German citizens claim to be able to communicate in at least one foreign language and 27% in at least two.\\n\\n\\n=== Education ===\\n\\nResponsibility for educational supervision in Germany is primarily organised within the individual federal states. Optional kindergarten education is provided for all children between three and six years old, after which school attendance is compulsory for at least nine years. Primary education usually lasts for four to six years. Secondary education includes three traditional types of schools focused on different academic levels: the Gymnasium enrols the most gifted children and prepares students for university studies; the Realschule for intermediate students lasts six years and the Hauptschule prepares pupils for vocational education. The Gesamtschule unifies all secondary education.\\nA system of apprenticeship called Duale Ausbildung leads to a skilled qualification which is almost comparable to an academic degree. It allows students in vocational training to learn in a company as well as in a state-run trade school. This model is well regarded and reproduced all around the world.Most of the German universities are public institutions, and students traditionally study without fee payment. The general requirement for university is the Abitur. According to an OECD report in 2014, Germany is the world\\'s third leading destination for international study. The established universities in Germany include some of the oldest in the world, with Heidelberg University (established in 1386) being the oldest. The University of Berlin, founded in 1810 by the liberal educational reformer Wilhelm von Humboldt, became the academic model for many European and Western universities. In the contemporary era Germany has developed eleven Universities of Excellence.\\n\\n\\n=== Health ===\\n\\nGermany\\'s system of hospitals, called Krankenhäuser, dates from medieval times, and today, Germany has the world\\'s oldest universal health care system, dating from Bismarck\\'s social legislation of the 1880s. Since the 1880s, reforms and provisions have ensured a balanced health care system. The population is covered by a health insurance plan provided by statute, with criteria allowing some groups to opt for a private health insurance contract. According to the World Health Organization, Germany\\'s health care system was 77% government-funded and 23% privately funded as of 2013. In 2014, Germany spent 11.3% of its GDP on health care.Germany ranked 20th in the world in 2013 in life expectancy with 77 years for men and 82 years for women, and it had a very low infant mortality rate (4 per 1,000 live births). In 2019, the principal cause of death was cardiovascular disease, at 37%. Obesity in Germany has been increasingly cited as a major health issue. A 2014 study showed that 52 percent of the adult German population was overweight or obese.\\n\\n\\n== Culture ==\\n\\nCulture in German states has been shaped by major intellectual and popular currents in Europe, both religious and secular. Historically, Germany has been called Das Land der Dichter und Denker (\"the land of poets and thinkers\"), because of the major role its writers and philosophers have played in the development of Western thought. A global opinion poll for the BBC revealed that Germany is recognised for having the most positive influence in the world in 2013 and 2014.Germany is well known for such folk festival traditions as Oktoberfest and Christmas customs, which include Advent wreaths, Christmas pageants, Christmas trees, Stollen cakes, and other practices. As of 2016 UNESCO inscribed 41 properties in Germany on the World Heritage List. There are a number of public holidays in Germany determined by each state; 3 October has been a national day of Germany since 1990, celebrated as the Tag der Deutschen Einheit (German Unity Day).\\n\\n\\n=== Music ===\\n\\nGerman classical music includes works by some of the world\\'s most well-known composers. Dieterich Buxtehude, Johann Sebastian Bach and Georg Friedrich Händel were influential composers of the Baroque period. Ludwig van Beethoven was a crucial figure in the transition between the Classical and Romantic eras. Carl Maria von Weber, Felix Mendelssohn, Robert Schumann and Johannes Brahms were significant Romantic composers. Richard Wagner was known for his operas. Richard Strauss was a leading composer of the late Romantic and early modern eras. Karlheinz Stockhausen and Hans Zimmer are important composers of the 20th and early 21st centuries.As of 2013, Germany was the second largest music market in Europe, and fourth largest in the world. German popular music of the 20th and 21st centuries includes the movements of Neue Deutsche Welle, pop, Ostrock, heavy metal/rock, punk, pop rock, indie and schlager pop. German electronic music gained global influence, with Kraftwerk and Tangerine Dream pioneering in this genre. DJs and artists of the techno and house music scenes of Germany have become well known (e.g. Paul van Dyk, Paul Kalkbrenner, and Scooter).\\n\\n\\n=== Art and design ===\\n\\nGerman painters have influenced western art. Albrecht Dürer, Hans Holbein the Younger, Matthias Grünewald and Lucas Cranach the Elder were important German artists of the Renaissance, Peter Paul Rubens and Johann Baptist Zimmermann of the Baroque, Caspar David Friedrich and Carl Spitzweg of Romanticism, Max Liebermann of Impressionism and Max Ernst of Surrealism. Several German art groups formed in the 20th century; Die Brücke (The Bridge) and Der Blaue Reiter (The Blue Rider) influenced the development of expressionism in Munich and Berlin. The New Objectivity arose in response to expressionism during the Weimar Republic. After World War II, broad trends in German art include neo-expressionism, performance art and conceptual art.\\n\\nArchitectural contributions from Germany include the Carolingian and Ottonian styles, which were precursors of Romanesque. Brick Gothic is a distinctive medieval style that evolved in Germany. Also in Renaissance and Baroque art, regional and typically German elements evolved (e.g. Weser Renaissance and Dresden Baroque). The Wessobrunner School exerted a decisive influence on, and at times even dominated, the art of stucco in southern Germany in the 18th century. Vernacular architecture in Germany is often identified by its timber framing (Fachwerk) traditions and varies across regions, and among carpentry styles. When industrialisation spread across Europe, Classicism and a distinctive style of historism developed in Germany, sometimes referred to as Gründerzeit style. Regional historicist styles include the Hanover School, Nuremberg Style and Dresden\\'s Semper-Nicolai School. Among the most famous of German buildings, the Schloss Neuschwanstein represents Romanesque Revival. Notable sub-styles that evolved since the 18th century are the German spa and seaside resort architecture. German artists, writers and gallerists like Siegfried Bing, Georg Hirth and Bruno Möhring also contributed to the development of Art Nouveau at the turn of the 20th century, known as Jugendstil in German.\\nExpressionist architecture developed in the 1910s in Germany and influenced Art Deco and other modern styles. Germany was particularly important in the early modernist movement: it is the home of Werkbund initiated by Hermann Muthesius (New Objectivity), and of the Bauhaus movement founded by Walter Gropius. Consequently, Germany is often considered the cradle of modern architecture and design. Ludwig Mies van der Rohe became one of the world\\'s most renowned architects in the second half of the 20th century; he conceived of the glass façade skyscraper. Renowned contemporary architects and offices include Pritzker Prize winners Gottfried Böhm and Frei Otto.German designers became early leaders of modern product design. The Berlin Fashion Week and the fashion trade fair Bread & Butter are held twice a year. Munich, Hamburg, Cologne and Düsseldorf are also important design, production and trade hubs of the domestic fashion industry.\\n\\n\\n=== Literature and philosophy ===\\n\\nGerman literature can be traced back to the Middle Ages and the works of writers such as Walther von der Vogelweide and Wolfram von Eschenbach. Well-known German authors include Johann Wolfgang von Goethe, Friedrich Schiller, Gotthold Ephraim Lessing and Theodor Fontane. The collections of folk tales published by the Brothers Grimm popularised German folklore on an international level. The Grimms also gathered and codified regional variants of the German language, grounding their work in historical principles; their Deutsches Wörterbuch, or German Dictionary, sometimes called the Grimm dictionary, was begun in 1838 and the first volumes published in 1854.Influential authors of the 20th century include Gerhart Hauptmann, Thomas Mann, Hermann Hesse, Heinrich Böll and Günter Grass. The German book market is the third largest in the world, after the United States and China. The Frankfurt Book Fair is the most important in the world for international deals and trading, with a tradition spanning over 500 years. The Leipzig Book Fair also retains a major position in Europe.German philosophy is historically significant: Gottfried Leibniz\\'s contributions to rationalism; the enlightenment philosophy by Immanuel Kant; the establishment of classical German idealism by Johann Gottlieb Fichte, Georg Wilhelm Friedrich Hegel and Friedrich Wilhelm Joseph Schelling; Arthur Schopenhauer\\'s composition of metaphysical pessimism; the formulation of communist theory by Karl Marx and Friedrich Engels; Friedrich Nietzsche\\'s development of perspectivism; Gottlob Frege\\'s contributions to the dawn of analytic philosophy; Martin Heidegger\\'s works on Being; Oswald Spengler\\'s historical philosophy; the development of the Frankfurt School has been particularly influential.\\n\\n\\n=== Media ===\\n\\nThe largest internationally operating media companies in Germany are the Bertelsmann enterprise, Axel Springer SE and ProSiebenSat.1 Media. Germany\\'s television market is the largest in Europe, with some 38 million TV households. Around 90% of German households have cable or satellite TV, with a variety of free-to-view public and commercial channels. There are more than 300 public and private radio stations in Germany; Germany\\'s national radio network is the Deutschlandradio and the public Deutsche Welle is the main German radio and television broadcaster in foreign languages.  Germany\\'s print market of newspapers and magazines is the largest in Europe. The papers with the highest circulation are Bild, Süddeutsche Zeitung, Frankfurter Allgemeine Zeitung and Die Welt. The largest magazines include ADAC Motorwelt and Der Spiegel. Germany has a large video gaming market, with over 34 million players nationwide.\\n\\nGerman cinema has made major technical and artistic contributions to film. The first works of the Skladanowsky Brothers were shown to an audience in 1895. The renowned Babelsberg Studio in Potsdam was established in 1912, thus being the first large-scale film studio in the world. Early German cinema was particularly influential with German expressionists such as Robert Wiene and Friedrich Wilhelm Murnau. Director Fritz Lang\\'s Metropolis (1927) is referred to as the first major science-fiction film. After 1945, many of the films of the immediate post-war period can be characterised as Trümmerfilm (rubble film). East German film was dominated by state-owned film studio DEFA, while the dominant genre in West Germany was the Heimatfilm (\"homeland film\"). During the 1970s and 1980s, New German Cinema directors such as Volker Schlöndorff, Werner Herzog, Wim Wenders, and Rainer Werner Fassbinder brought West German auteur cinema to critical acclaim.\\nThe Academy Award for Best Foreign Language Film (\"Oscar\") went to the German production Die Blechtrommel (The Tin Drum) in 1979, to Nirgendwo in Afrika (Nowhere in Africa) in 2002, and to Das Leben der Anderen (The Lives of Others) in 2007. Various Germans won an Oscar for their performances in other films. The annual European Film Awards ceremony is held every other year in Berlin, home of the European Film Academy. The Berlin International Film Festival, known as \"Berlinale\", awarding the \"Golden Bear\" and held annually since 1951, is one of the world\\'s leading film festivals. The \"Lolas\" are annually awarded in Berlin, at the German Film Awards.\\n\\n\\n=== Cuisine ===\\n\\nGerman cuisine varies from region to region and often neighbouring regions share some culinary similarities (e.g. the southern regions of Bavaria and Swabia share some traditions with Switzerland and Austria). International varieties such as pizza, sushi, Chinese food, Greek food, Indian cuisine and doner kebab are also popular.\\nBread is a significant part of German cuisine and German bakeries produce about 600 main types of bread and 1,200 types of pastries and rolls (Brötchen). German cheeses account for about 22% of all cheese produced in Europe. In 2012 over 99% of all meat produced in Germany was either pork, chicken or beef. Germans produce their ubiquitous sausages in almost 1,500 varieties, including Bratwursts and Weisswursts. Although wine is becoming more popular in many parts of Germany, especially close to German wine regions, the national alcoholic drink is beer. German beer consumption per person stands at 110 litres (24 imp gal; 29 US gal) in 2013 and remains among the highest in the world. German beer purity regulations date back to the 16th century.The 2018 Michelin Guide awarded eleven restaurants in Germany three stars, giving the country a cumulative total of 300 stars.\\n\\n\\n=== Sports ===\\n\\nAssociation football is the most popular sport in Germany. With more than 7 million official members, the German Football Association (Deutscher Fußball-Bund) is the largest single-sport organisation worldwide, and the German top league, the Bundesliga, attracts the second highest average attendance of all professional sports leagues in the world. The German men\\'s national football team won the FIFA World Cup in 1954, 1974, 1990, and 2014, the UEFA European Championship in 1972, 1980 and 1996, and the FIFA Confederations Cup in 2017.Germany is one of the leading motor sports countries in the world. Constructors like BMW and Mercedes are prominent manufacturers in motor sport. Porsche has won the 24 Hours of Le Mans race 19 times, and Audi 13 times (as of 2017). The driver Michael Schumacher has set many motor sport records during his career, having won seven Formula One World Drivers\\' Championships. Sebastian Vettel is also among the top five most successful Formula One drivers of all time.Historically, German athletes have been successful contenders in the Olympic Games, ranking third in an all-time Olympic Games medal count (when combining East and West German medals). Germany was the last country to host both the summer and winter games in the same year, in 1936: the Berlin Summer Games and the Winter Games in Garmisch-Partenkirchen. Munich hosted the Summer Games of 1972.\\n\\n\\n== See also ==\\n\\nIndex of Germany-related articles\\nOutline of Germany\\n\\n\\n== Notes ==\\n\\n\\n== References ==\\n\\n\\n== Sources ==\\nFulbrook, Mary (1991). A Concise History of Germany. Cambridge University Press. ISBN 978-0-521-36836-0.CS1 maint: ref=harv (link)\\nLarge, David Clay (2007). Nazi Games: The Olympics of 1936. W. W. Norton & Company. ISBN 9780393058840.CS1 maint: ref=harv (link)\\n\\n\\n== External links ==\\n\\nOfficial site of the Federal Government\\nOfficial Germany Tourism website\\nGermany from the BBC News\\n\"Germany\". The World Factbook. Central Intelligence Agency.\\nGermany from the OECD\\nGermany at the EU\\n Geographic data related to Germany at OpenStreetMap'"
      ]
     },
     "execution_count": 8,
     "metadata": {},
     "output_type": "execute_result"
    }
   ],
   "source": [
    "wikipedia.page('Germany').content"
   ]
  },
  {
   "cell_type": "code",
   "execution_count": 9,
   "metadata": {},
   "outputs": [
    {
     "name": "stdout",
     "output_type": "stream",
     "text": [
      "Germany (German: Deutschland, German pronunciation: [ˈdɔʏtʃlant]), officially the Federal Republic of Germany (German: Bundesrepublik Deutschland, listen ), is a country in Central and Western Europe. Covering an area of 357,022 square kilometres (137,847 sq mi), it lies between the Baltic and North seas to the north, and the Alps to the south. It borders Denmark to the north, Poland and the Czech Republic to the east, Austria and Switzerland to the south, and France, Luxembourg, Belgium, and the Netherlands to the west.\n",
      "Various Germanic tribes have inhabited the northern parts of modern Germany since classical antiquity. A region named Germania was documented before AD 100. Beginning in the 10th century, German territories formed a central part of the Holy Roman Empire. During the 16th century, northern German regions became the centre of the Protestant Reformation. After the collapse of the Holy Roman Empire, the German Confederation was formed in 1815. In 1871, Germany became a nation state when most of the German states unified into the Prussian-dominated German Empire. After World War I and the German Revolution of 1918–1919, the Empire was replaced by the parliamentary Weimar Republic. The Nazi seizure of power in 1933 led to the establishment of a dictatorship, World War II, and the Holocaust. After the end of World War II in Europe and a period of Allied occupation, two new German states were founded: West Germany and East Germany. The Federal Republic of Germany was a founding member of the European Economic Community and the European Union. The country was reunified on 3 October 1990.\n",
      "Today, Germany is a federal parliamentary republic led by a chancellor. With 83 million inhabitants of its 16 constituent states, it is the second-most populous country in Europe after Russia, as well as the most populous member state of the European Union. Its capital and largest city is Berlin, and its financial centre is Frankfurt; the largest urban area is the Ruhr.\n",
      "Germany is a great power with a strong economy; it has the largest economy in Europe, the world's fourth-largest economy by nominal GDP, and the fifth-largest by PPP. As a global leader in several industrial and technological sectors, it is both the world's third-largest exporter and importer of goods. A highly developed country with a very high standard of living, it offers social security and a universal health care system, environmental protections, and a tuition-free university education. Germany is also a member of the United Nations, NATO, the G7, the G20, and the OECD. Known for its long and rich cultural history, Germany has many World Heritage sites and is among the top tourism destinations in the world.\n"
     ]
    }
   ],
   "source": [
    "print(wikipedia.summary(\"Germany\"))"
   ]
  },
  {
   "cell_type": "markdown",
   "metadata": {},
   "source": [
    "Questions:\n",
    "Duration of inclination\n",
    "Steepness of "
   ]
  },
  {
   "cell_type": "markdown",
   "metadata": {},
   "source": [
    "Additional Information\n",
    "- Leader Gender\n",
    "- Ideology of Leading Party\n",
    "- Amount of Intensive Care Beds\n",
    "- Gross domestic product per capita\n",
    "- Human Development Index"
   ]
  },
  {
   "cell_type": "code",
   "execution_count": 848,
   "metadata": {},
   "outputs": [],
   "source": []
  },
  {
   "cell_type": "markdown",
   "metadata": {},
   "source": [
    "<a id='intro'></a>\n",
    "## 1. Gather data"
   ]
  },
  {
   "cell_type": "markdown",
   "metadata": {},
   "source": [
    "####  Data is gathered from three different sources of data as described in steps below:\n",
    "\n",
    "1. Fatality, confirmed cases, recovered cases and data by country is retrieved via programmatically downloaded csv-files from the GitHub repository [Covid-19](https://github.com/CSSEGISandData/COVID-19)\n",
    "2. ..."
   ]
  },
  {
   "cell_type": "markdown",
   "metadata": {},
   "source": [
    "### a. Read data from programmatically download csv-file"
   ]
  },
  {
   "cell_type": "code",
   "execution_count": 20,
   "metadata": {},
   "outputs": [],
   "source": [
    "# Gather data from GitHub \n",
    "df_Fatality = pd.read_csv('https://raw.githubusercontent.com/CSSEGISandData/COVID-19/master/csse_covid_19_data/csse_covid_19_time_series/time_series_covid19_deaths_global.csv')\n",
    "df_Confirmed = pd.read_csv('https://raw.githubusercontent.com/CSSEGISandData/COVID-19/master/csse_covid_19_data/csse_covid_19_time_series/time_series_covid19_confirmed_global.csv')\n",
    "df_Recovered = pd.read_csv('https://raw.githubusercontent.com/CSSEGISandData/COVID-19/master/csse_covid_19_data/csse_covid_19_time_series/time_series_covid19_recovered_global.csv')\n",
    "df_Countries = pd.read_csv('https://raw.githubusercontent.com/RRighart/covid-19/master/countries.csv')"
   ]
  },
  {
   "cell_type": "markdown",
   "metadata": {},
   "source": [
    "### b. Query additional information for countries via wikipedia API"
   ]
  },
  {
   "cell_type": "code",
   "execution_count": 491,
   "metadata": {},
   "outputs": [],
   "source": [
    "# Create request-object with url of file\n",
    "#url = 'https://d17h27t6h515a5.cloudfront.net/topher/2017/August/599fd2ad_image-predictions/image-predictions.tsv'\n",
    "#response = requests.get(url)"
   ]
  },
  {
   "cell_type": "code",
   "execution_count": 492,
   "metadata": {},
   "outputs": [],
   "source": [
    "# Create file with content of response-object\n",
    "#with open(url.split('/')[-1], mode='wb') as file: \n",
    "#    file.write(response.content)"
   ]
  },
  {
   "cell_type": "code",
   "execution_count": 493,
   "metadata": {},
   "outputs": [],
   "source": [
    "# Read tweet image predictions from tsv\n",
    "#df_image_predictions = pd.read_csv(url.split('/')[-1], sep='\\t')"
   ]
  },
  {
   "cell_type": "code",
   "execution_count": 494,
   "metadata": {},
   "outputs": [],
   "source": []
  },
  {
   "cell_type": "code",
   "execution_count": 495,
   "metadata": {},
   "outputs": [],
   "source": []
  },
  {
   "cell_type": "code",
   "execution_count": 497,
   "metadata": {},
   "outputs": [],
   "source": []
  },
  {
   "cell_type": "code",
   "execution_count": 498,
   "metadata": {},
   "outputs": [],
   "source": []
  },
  {
   "cell_type": "markdown",
   "metadata": {},
   "source": [
    "<a id='assess'></a>\n",
    "## 2. Assess data"
   ]
  },
  {
   "cell_type": "markdown",
   "metadata": {},
   "source": [
    "After gathering each of the above pieces of data, they are assessed visually and programmatically for quality and tidiness issues. Requirements to be met:\n",
    "\n",
    "- Quality requirements:\n",
    "    - Completeness: All necessary records in dataframes, no specific rows, columns or cells missing.\n",
    "    - Validity: No records available, that do not conform schema.\n",
    "    - Accuracy: No wrong data, that is valid.\n",
    "    - Consistency: No data, that is valid and accurate, but referred to in multiple correct ways.\n",
    "- Tidiniss requirements (as defined by Hadley Wickham):\n",
    "    - each variable is a column\n",
    "    - each observation is a row\n",
    "    - each type of observational unit is a table."
   ]
  },
  {
   "cell_type": "markdown",
   "metadata": {},
   "source": [
    "### a. Visual assessment"
   ]
  },
  {
   "cell_type": "code",
   "execution_count": null,
   "metadata": {},
   "outputs": [],
   "source": [
    "# Assess df_twitter_archive_enhanced visually\n",
    "# .sample(n=5)"
   ]
  },
  {
   "cell_type": "code",
   "execution_count": 4,
   "metadata": {},
   "outputs": [
    {
     "data": {
      "text/html": [
       "<div>\n",
       "<style scoped>\n",
       "    .dataframe tbody tr th:only-of-type {\n",
       "        vertical-align: middle;\n",
       "    }\n",
       "\n",
       "    .dataframe tbody tr th {\n",
       "        vertical-align: top;\n",
       "    }\n",
       "\n",
       "    .dataframe thead th {\n",
       "        text-align: right;\n",
       "    }\n",
       "</style>\n",
       "<table border=\"1\" class=\"dataframe\">\n",
       "  <thead>\n",
       "    <tr style=\"text-align: right;\">\n",
       "      <th></th>\n",
       "      <th>Unnamed: 0</th>\n",
       "      <th>Country/Region</th>\n",
       "      <th>inhabitants</th>\n",
       "      <th>area</th>\n",
       "    </tr>\n",
       "  </thead>\n",
       "  <tbody>\n",
       "    <tr>\n",
       "      <th>0</th>\n",
       "      <td>0</td>\n",
       "      <td>US</td>\n",
       "      <td>325386357</td>\n",
       "      <td>9833520</td>\n",
       "    </tr>\n",
       "    <tr>\n",
       "      <th>1</th>\n",
       "      <td>1</td>\n",
       "      <td>Germany</td>\n",
       "      <td>83792987</td>\n",
       "      <td>357386</td>\n",
       "    </tr>\n",
       "    <tr>\n",
       "      <th>2</th>\n",
       "      <td>2</td>\n",
       "      <td>France</td>\n",
       "      <td>65227357</td>\n",
       "      <td>551695</td>\n",
       "    </tr>\n",
       "    <tr>\n",
       "      <th>3</th>\n",
       "      <td>3</td>\n",
       "      <td>Belgium</td>\n",
       "      <td>11579502</td>\n",
       "      <td>30510</td>\n",
       "    </tr>\n",
       "    <tr>\n",
       "      <th>4</th>\n",
       "      <td>4</td>\n",
       "      <td>Netherlands</td>\n",
       "      <td>17123478</td>\n",
       "      <td>41198</td>\n",
       "    </tr>\n",
       "  </tbody>\n",
       "</table>\n",
       "</div>"
      ],
      "text/plain": [
       "   Unnamed: 0 Country/Region  inhabitants     area\n",
       "0           0             US    325386357  9833520\n",
       "1           1        Germany     83792987   357386\n",
       "2           2         France     65227357   551695\n",
       "3           3        Belgium     11579502    30510\n",
       "4           4    Netherlands     17123478    41198"
      ]
     },
     "execution_count": 4,
     "metadata": {},
     "output_type": "execute_result"
    }
   ],
   "source": [
    "df_Countries.head()"
   ]
  },
  {
   "cell_type": "code",
   "execution_count": 5,
   "metadata": {},
   "outputs": [
    {
     "data": {
      "text/html": [
       "<div>\n",
       "<style scoped>\n",
       "    .dataframe tbody tr th:only-of-type {\n",
       "        vertical-align: middle;\n",
       "    }\n",
       "\n",
       "    .dataframe tbody tr th {\n",
       "        vertical-align: top;\n",
       "    }\n",
       "\n",
       "    .dataframe thead th {\n",
       "        text-align: right;\n",
       "    }\n",
       "</style>\n",
       "<table border=\"1\" class=\"dataframe\">\n",
       "  <thead>\n",
       "    <tr style=\"text-align: right;\">\n",
       "      <th></th>\n",
       "      <th>Province/State</th>\n",
       "      <th>Country/Region</th>\n",
       "      <th>Lat</th>\n",
       "      <th>Long</th>\n",
       "      <th>1/22/20</th>\n",
       "      <th>1/23/20</th>\n",
       "      <th>1/24/20</th>\n",
       "      <th>1/25/20</th>\n",
       "      <th>1/26/20</th>\n",
       "      <th>1/27/20</th>\n",
       "      <th>...</th>\n",
       "      <th>4/30/20</th>\n",
       "      <th>5/1/20</th>\n",
       "      <th>5/2/20</th>\n",
       "      <th>5/3/20</th>\n",
       "      <th>5/4/20</th>\n",
       "      <th>5/5/20</th>\n",
       "      <th>5/6/20</th>\n",
       "      <th>5/7/20</th>\n",
       "      <th>5/8/20</th>\n",
       "      <th>5/9/20</th>\n",
       "    </tr>\n",
       "  </thead>\n",
       "  <tbody>\n",
       "    <tr>\n",
       "      <th>0</th>\n",
       "      <td>NaN</td>\n",
       "      <td>Afghanistan</td>\n",
       "      <td>33.0000</td>\n",
       "      <td>65.0000</td>\n",
       "      <td>0</td>\n",
       "      <td>0</td>\n",
       "      <td>0</td>\n",
       "      <td>0</td>\n",
       "      <td>0</td>\n",
       "      <td>0</td>\n",
       "      <td>...</td>\n",
       "      <td>64</td>\n",
       "      <td>68</td>\n",
       "      <td>72</td>\n",
       "      <td>85</td>\n",
       "      <td>90</td>\n",
       "      <td>95</td>\n",
       "      <td>104</td>\n",
       "      <td>106</td>\n",
       "      <td>109</td>\n",
       "      <td>115</td>\n",
       "    </tr>\n",
       "    <tr>\n",
       "      <th>1</th>\n",
       "      <td>NaN</td>\n",
       "      <td>Albania</td>\n",
       "      <td>41.1533</td>\n",
       "      <td>20.1683</td>\n",
       "      <td>0</td>\n",
       "      <td>0</td>\n",
       "      <td>0</td>\n",
       "      <td>0</td>\n",
       "      <td>0</td>\n",
       "      <td>0</td>\n",
       "      <td>...</td>\n",
       "      <td>31</td>\n",
       "      <td>31</td>\n",
       "      <td>31</td>\n",
       "      <td>31</td>\n",
       "      <td>31</td>\n",
       "      <td>31</td>\n",
       "      <td>31</td>\n",
       "      <td>31</td>\n",
       "      <td>31</td>\n",
       "      <td>31</td>\n",
       "    </tr>\n",
       "    <tr>\n",
       "      <th>2</th>\n",
       "      <td>NaN</td>\n",
       "      <td>Algeria</td>\n",
       "      <td>28.0339</td>\n",
       "      <td>1.6596</td>\n",
       "      <td>0</td>\n",
       "      <td>0</td>\n",
       "      <td>0</td>\n",
       "      <td>0</td>\n",
       "      <td>0</td>\n",
       "      <td>0</td>\n",
       "      <td>...</td>\n",
       "      <td>450</td>\n",
       "      <td>453</td>\n",
       "      <td>459</td>\n",
       "      <td>463</td>\n",
       "      <td>465</td>\n",
       "      <td>470</td>\n",
       "      <td>476</td>\n",
       "      <td>483</td>\n",
       "      <td>488</td>\n",
       "      <td>494</td>\n",
       "    </tr>\n",
       "    <tr>\n",
       "      <th>3</th>\n",
       "      <td>NaN</td>\n",
       "      <td>Andorra</td>\n",
       "      <td>42.5063</td>\n",
       "      <td>1.5218</td>\n",
       "      <td>0</td>\n",
       "      <td>0</td>\n",
       "      <td>0</td>\n",
       "      <td>0</td>\n",
       "      <td>0</td>\n",
       "      <td>0</td>\n",
       "      <td>...</td>\n",
       "      <td>42</td>\n",
       "      <td>43</td>\n",
       "      <td>44</td>\n",
       "      <td>45</td>\n",
       "      <td>45</td>\n",
       "      <td>46</td>\n",
       "      <td>46</td>\n",
       "      <td>47</td>\n",
       "      <td>47</td>\n",
       "      <td>48</td>\n",
       "    </tr>\n",
       "    <tr>\n",
       "      <th>4</th>\n",
       "      <td>NaN</td>\n",
       "      <td>Angola</td>\n",
       "      <td>-11.2027</td>\n",
       "      <td>17.8739</td>\n",
       "      <td>0</td>\n",
       "      <td>0</td>\n",
       "      <td>0</td>\n",
       "      <td>0</td>\n",
       "      <td>0</td>\n",
       "      <td>0</td>\n",
       "      <td>...</td>\n",
       "      <td>2</td>\n",
       "      <td>2</td>\n",
       "      <td>2</td>\n",
       "      <td>2</td>\n",
       "      <td>2</td>\n",
       "      <td>2</td>\n",
       "      <td>2</td>\n",
       "      <td>2</td>\n",
       "      <td>2</td>\n",
       "      <td>2</td>\n",
       "    </tr>\n",
       "  </tbody>\n",
       "</table>\n",
       "<p>5 rows × 113 columns</p>\n",
       "</div>"
      ],
      "text/plain": [
       "  Province/State Country/Region      Lat     Long  1/22/20  1/23/20  1/24/20  \\\n",
       "0            NaN    Afghanistan  33.0000  65.0000        0        0        0   \n",
       "1            NaN        Albania  41.1533  20.1683        0        0        0   \n",
       "2            NaN        Algeria  28.0339   1.6596        0        0        0   \n",
       "3            NaN        Andorra  42.5063   1.5218        0        0        0   \n",
       "4            NaN         Angola -11.2027  17.8739        0        0        0   \n",
       "\n",
       "   1/25/20  1/26/20  1/27/20  ...  4/30/20  5/1/20  5/2/20  5/3/20  5/4/20  \\\n",
       "0        0        0        0  ...       64      68      72      85      90   \n",
       "1        0        0        0  ...       31      31      31      31      31   \n",
       "2        0        0        0  ...      450     453     459     463     465   \n",
       "3        0        0        0  ...       42      43      44      45      45   \n",
       "4        0        0        0  ...        2       2       2       2       2   \n",
       "\n",
       "   5/5/20  5/6/20  5/7/20  5/8/20  5/9/20  \n",
       "0      95     104     106     109     115  \n",
       "1      31      31      31      31      31  \n",
       "2     470     476     483     488     494  \n",
       "3      46      46      47      47      48  \n",
       "4       2       2       2       2       2  \n",
       "\n",
       "[5 rows x 113 columns]"
      ]
     },
     "execution_count": 5,
     "metadata": {},
     "output_type": "execute_result"
    }
   ],
   "source": [
    "df_Fatality.head()"
   ]
  },
  {
   "cell_type": "code",
   "execution_count": 6,
   "metadata": {},
   "outputs": [
    {
     "data": {
      "text/html": [
       "<div>\n",
       "<style scoped>\n",
       "    .dataframe tbody tr th:only-of-type {\n",
       "        vertical-align: middle;\n",
       "    }\n",
       "\n",
       "    .dataframe tbody tr th {\n",
       "        vertical-align: top;\n",
       "    }\n",
       "\n",
       "    .dataframe thead th {\n",
       "        text-align: right;\n",
       "    }\n",
       "</style>\n",
       "<table border=\"1\" class=\"dataframe\">\n",
       "  <thead>\n",
       "    <tr style=\"text-align: right;\">\n",
       "      <th></th>\n",
       "      <th>Province/State</th>\n",
       "      <th>Country/Region</th>\n",
       "      <th>Lat</th>\n",
       "      <th>Long</th>\n",
       "      <th>1/22/20</th>\n",
       "      <th>1/23/20</th>\n",
       "      <th>1/24/20</th>\n",
       "      <th>1/25/20</th>\n",
       "      <th>1/26/20</th>\n",
       "      <th>1/27/20</th>\n",
       "      <th>...</th>\n",
       "      <th>4/30/20</th>\n",
       "      <th>5/1/20</th>\n",
       "      <th>5/2/20</th>\n",
       "      <th>5/3/20</th>\n",
       "      <th>5/4/20</th>\n",
       "      <th>5/5/20</th>\n",
       "      <th>5/6/20</th>\n",
       "      <th>5/7/20</th>\n",
       "      <th>5/8/20</th>\n",
       "      <th>5/9/20</th>\n",
       "    </tr>\n",
       "  </thead>\n",
       "  <tbody>\n",
       "    <tr>\n",
       "      <th>0</th>\n",
       "      <td>NaN</td>\n",
       "      <td>Afghanistan</td>\n",
       "      <td>33.0000</td>\n",
       "      <td>65.0000</td>\n",
       "      <td>0</td>\n",
       "      <td>0</td>\n",
       "      <td>0</td>\n",
       "      <td>0</td>\n",
       "      <td>0</td>\n",
       "      <td>0</td>\n",
       "      <td>...</td>\n",
       "      <td>2171</td>\n",
       "      <td>2335</td>\n",
       "      <td>2469</td>\n",
       "      <td>2704</td>\n",
       "      <td>2894</td>\n",
       "      <td>3224</td>\n",
       "      <td>3392</td>\n",
       "      <td>3563</td>\n",
       "      <td>3778</td>\n",
       "      <td>4033</td>\n",
       "    </tr>\n",
       "    <tr>\n",
       "      <th>1</th>\n",
       "      <td>NaN</td>\n",
       "      <td>Albania</td>\n",
       "      <td>41.1533</td>\n",
       "      <td>20.1683</td>\n",
       "      <td>0</td>\n",
       "      <td>0</td>\n",
       "      <td>0</td>\n",
       "      <td>0</td>\n",
       "      <td>0</td>\n",
       "      <td>0</td>\n",
       "      <td>...</td>\n",
       "      <td>773</td>\n",
       "      <td>782</td>\n",
       "      <td>789</td>\n",
       "      <td>795</td>\n",
       "      <td>803</td>\n",
       "      <td>820</td>\n",
       "      <td>832</td>\n",
       "      <td>842</td>\n",
       "      <td>850</td>\n",
       "      <td>856</td>\n",
       "    </tr>\n",
       "    <tr>\n",
       "      <th>2</th>\n",
       "      <td>NaN</td>\n",
       "      <td>Algeria</td>\n",
       "      <td>28.0339</td>\n",
       "      <td>1.6596</td>\n",
       "      <td>0</td>\n",
       "      <td>0</td>\n",
       "      <td>0</td>\n",
       "      <td>0</td>\n",
       "      <td>0</td>\n",
       "      <td>0</td>\n",
       "      <td>...</td>\n",
       "      <td>4006</td>\n",
       "      <td>4154</td>\n",
       "      <td>4295</td>\n",
       "      <td>4474</td>\n",
       "      <td>4648</td>\n",
       "      <td>4838</td>\n",
       "      <td>4997</td>\n",
       "      <td>5182</td>\n",
       "      <td>5369</td>\n",
       "      <td>5558</td>\n",
       "    </tr>\n",
       "    <tr>\n",
       "      <th>3</th>\n",
       "      <td>NaN</td>\n",
       "      <td>Andorra</td>\n",
       "      <td>42.5063</td>\n",
       "      <td>1.5218</td>\n",
       "      <td>0</td>\n",
       "      <td>0</td>\n",
       "      <td>0</td>\n",
       "      <td>0</td>\n",
       "      <td>0</td>\n",
       "      <td>0</td>\n",
       "      <td>...</td>\n",
       "      <td>745</td>\n",
       "      <td>745</td>\n",
       "      <td>747</td>\n",
       "      <td>748</td>\n",
       "      <td>750</td>\n",
       "      <td>751</td>\n",
       "      <td>751</td>\n",
       "      <td>752</td>\n",
       "      <td>752</td>\n",
       "      <td>754</td>\n",
       "    </tr>\n",
       "    <tr>\n",
       "      <th>4</th>\n",
       "      <td>NaN</td>\n",
       "      <td>Angola</td>\n",
       "      <td>-11.2027</td>\n",
       "      <td>17.8739</td>\n",
       "      <td>0</td>\n",
       "      <td>0</td>\n",
       "      <td>0</td>\n",
       "      <td>0</td>\n",
       "      <td>0</td>\n",
       "      <td>0</td>\n",
       "      <td>...</td>\n",
       "      <td>27</td>\n",
       "      <td>30</td>\n",
       "      <td>35</td>\n",
       "      <td>35</td>\n",
       "      <td>35</td>\n",
       "      <td>36</td>\n",
       "      <td>36</td>\n",
       "      <td>36</td>\n",
       "      <td>43</td>\n",
       "      <td>43</td>\n",
       "    </tr>\n",
       "  </tbody>\n",
       "</table>\n",
       "<p>5 rows × 113 columns</p>\n",
       "</div>"
      ],
      "text/plain": [
       "  Province/State Country/Region      Lat     Long  1/22/20  1/23/20  1/24/20  \\\n",
       "0            NaN    Afghanistan  33.0000  65.0000        0        0        0   \n",
       "1            NaN        Albania  41.1533  20.1683        0        0        0   \n",
       "2            NaN        Algeria  28.0339   1.6596        0        0        0   \n",
       "3            NaN        Andorra  42.5063   1.5218        0        0        0   \n",
       "4            NaN         Angola -11.2027  17.8739        0        0        0   \n",
       "\n",
       "   1/25/20  1/26/20  1/27/20  ...  4/30/20  5/1/20  5/2/20  5/3/20  5/4/20  \\\n",
       "0        0        0        0  ...     2171    2335    2469    2704    2894   \n",
       "1        0        0        0  ...      773     782     789     795     803   \n",
       "2        0        0        0  ...     4006    4154    4295    4474    4648   \n",
       "3        0        0        0  ...      745     745     747     748     750   \n",
       "4        0        0        0  ...       27      30      35      35      35   \n",
       "\n",
       "   5/5/20  5/6/20  5/7/20  5/8/20  5/9/20  \n",
       "0    3224    3392    3563    3778    4033  \n",
       "1     820     832     842     850     856  \n",
       "2    4838    4997    5182    5369    5558  \n",
       "3     751     751     752     752     754  \n",
       "4      36      36      36      43      43  \n",
       "\n",
       "[5 rows x 113 columns]"
      ]
     },
     "execution_count": 6,
     "metadata": {},
     "output_type": "execute_result"
    }
   ],
   "source": [
    "df_Confirmed.head()"
   ]
  },
  {
   "cell_type": "code",
   "execution_count": 7,
   "metadata": {},
   "outputs": [
    {
     "data": {
      "text/html": [
       "<div>\n",
       "<style scoped>\n",
       "    .dataframe tbody tr th:only-of-type {\n",
       "        vertical-align: middle;\n",
       "    }\n",
       "\n",
       "    .dataframe tbody tr th {\n",
       "        vertical-align: top;\n",
       "    }\n",
       "\n",
       "    .dataframe thead th {\n",
       "        text-align: right;\n",
       "    }\n",
       "</style>\n",
       "<table border=\"1\" class=\"dataframe\">\n",
       "  <thead>\n",
       "    <tr style=\"text-align: right;\">\n",
       "      <th></th>\n",
       "      <th>Province/State</th>\n",
       "      <th>Country/Region</th>\n",
       "      <th>Lat</th>\n",
       "      <th>Long</th>\n",
       "      <th>1/22/20</th>\n",
       "      <th>1/23/20</th>\n",
       "      <th>1/24/20</th>\n",
       "      <th>1/25/20</th>\n",
       "      <th>1/26/20</th>\n",
       "      <th>1/27/20</th>\n",
       "      <th>...</th>\n",
       "      <th>4/30/20</th>\n",
       "      <th>5/1/20</th>\n",
       "      <th>5/2/20</th>\n",
       "      <th>5/3/20</th>\n",
       "      <th>5/4/20</th>\n",
       "      <th>5/5/20</th>\n",
       "      <th>5/6/20</th>\n",
       "      <th>5/7/20</th>\n",
       "      <th>5/8/20</th>\n",
       "      <th>5/9/20</th>\n",
       "    </tr>\n",
       "  </thead>\n",
       "  <tbody>\n",
       "    <tr>\n",
       "      <th>0</th>\n",
       "      <td>NaN</td>\n",
       "      <td>Afghanistan</td>\n",
       "      <td>33.0000</td>\n",
       "      <td>65.0000</td>\n",
       "      <td>0</td>\n",
       "      <td>0</td>\n",
       "      <td>0</td>\n",
       "      <td>0</td>\n",
       "      <td>0</td>\n",
       "      <td>0</td>\n",
       "      <td>...</td>\n",
       "      <td>260</td>\n",
       "      <td>310</td>\n",
       "      <td>331</td>\n",
       "      <td>345</td>\n",
       "      <td>397</td>\n",
       "      <td>421</td>\n",
       "      <td>458</td>\n",
       "      <td>468</td>\n",
       "      <td>472</td>\n",
       "      <td>502</td>\n",
       "    </tr>\n",
       "    <tr>\n",
       "      <th>1</th>\n",
       "      <td>NaN</td>\n",
       "      <td>Albania</td>\n",
       "      <td>41.1533</td>\n",
       "      <td>20.1683</td>\n",
       "      <td>0</td>\n",
       "      <td>0</td>\n",
       "      <td>0</td>\n",
       "      <td>0</td>\n",
       "      <td>0</td>\n",
       "      <td>0</td>\n",
       "      <td>...</td>\n",
       "      <td>470</td>\n",
       "      <td>488</td>\n",
       "      <td>519</td>\n",
       "      <td>531</td>\n",
       "      <td>543</td>\n",
       "      <td>570</td>\n",
       "      <td>595</td>\n",
       "      <td>605</td>\n",
       "      <td>620</td>\n",
       "      <td>627</td>\n",
       "    </tr>\n",
       "    <tr>\n",
       "      <th>2</th>\n",
       "      <td>NaN</td>\n",
       "      <td>Algeria</td>\n",
       "      <td>28.0339</td>\n",
       "      <td>1.6596</td>\n",
       "      <td>0</td>\n",
       "      <td>0</td>\n",
       "      <td>0</td>\n",
       "      <td>0</td>\n",
       "      <td>0</td>\n",
       "      <td>0</td>\n",
       "      <td>...</td>\n",
       "      <td>1779</td>\n",
       "      <td>1821</td>\n",
       "      <td>1872</td>\n",
       "      <td>1936</td>\n",
       "      <td>1998</td>\n",
       "      <td>2067</td>\n",
       "      <td>2197</td>\n",
       "      <td>2323</td>\n",
       "      <td>2467</td>\n",
       "      <td>2546</td>\n",
       "    </tr>\n",
       "    <tr>\n",
       "      <th>3</th>\n",
       "      <td>NaN</td>\n",
       "      <td>Andorra</td>\n",
       "      <td>42.5063</td>\n",
       "      <td>1.5218</td>\n",
       "      <td>0</td>\n",
       "      <td>0</td>\n",
       "      <td>0</td>\n",
       "      <td>0</td>\n",
       "      <td>0</td>\n",
       "      <td>0</td>\n",
       "      <td>...</td>\n",
       "      <td>468</td>\n",
       "      <td>468</td>\n",
       "      <td>472</td>\n",
       "      <td>493</td>\n",
       "      <td>499</td>\n",
       "      <td>514</td>\n",
       "      <td>521</td>\n",
       "      <td>526</td>\n",
       "      <td>537</td>\n",
       "      <td>545</td>\n",
       "    </tr>\n",
       "    <tr>\n",
       "      <th>4</th>\n",
       "      <td>NaN</td>\n",
       "      <td>Angola</td>\n",
       "      <td>-11.2027</td>\n",
       "      <td>17.8739</td>\n",
       "      <td>0</td>\n",
       "      <td>0</td>\n",
       "      <td>0</td>\n",
       "      <td>0</td>\n",
       "      <td>0</td>\n",
       "      <td>0</td>\n",
       "      <td>...</td>\n",
       "      <td>7</td>\n",
       "      <td>11</td>\n",
       "      <td>11</td>\n",
       "      <td>11</td>\n",
       "      <td>11</td>\n",
       "      <td>11</td>\n",
       "      <td>11</td>\n",
       "      <td>11</td>\n",
       "      <td>11</td>\n",
       "      <td>13</td>\n",
       "    </tr>\n",
       "  </tbody>\n",
       "</table>\n",
       "<p>5 rows × 113 columns</p>\n",
       "</div>"
      ],
      "text/plain": [
       "  Province/State Country/Region      Lat     Long  1/22/20  1/23/20  1/24/20  \\\n",
       "0            NaN    Afghanistan  33.0000  65.0000        0        0        0   \n",
       "1            NaN        Albania  41.1533  20.1683        0        0        0   \n",
       "2            NaN        Algeria  28.0339   1.6596        0        0        0   \n",
       "3            NaN        Andorra  42.5063   1.5218        0        0        0   \n",
       "4            NaN         Angola -11.2027  17.8739        0        0        0   \n",
       "\n",
       "   1/25/20  1/26/20  1/27/20  ...  4/30/20  5/1/20  5/2/20  5/3/20  5/4/20  \\\n",
       "0        0        0        0  ...      260     310     331     345     397   \n",
       "1        0        0        0  ...      470     488     519     531     543   \n",
       "2        0        0        0  ...     1779    1821    1872    1936    1998   \n",
       "3        0        0        0  ...      468     468     472     493     499   \n",
       "4        0        0        0  ...        7      11      11      11      11   \n",
       "\n",
       "   5/5/20  5/6/20  5/7/20  5/8/20  5/9/20  \n",
       "0     421     458     468     472     502  \n",
       "1     570     595     605     620     627  \n",
       "2    2067    2197    2323    2467    2546  \n",
       "3     514     521     526     537     545  \n",
       "4      11      11      11      11      13  \n",
       "\n",
       "[5 rows x 113 columns]"
      ]
     },
     "execution_count": 7,
     "metadata": {},
     "output_type": "execute_result"
    }
   ],
   "source": [
    "df_Recovered.head()"
   ]
  },
  {
   "cell_type": "code",
   "execution_count": null,
   "metadata": {},
   "outputs": [],
   "source": []
  },
  {
   "cell_type": "code",
   "execution_count": null,
   "metadata": {},
   "outputs": [],
   "source": []
  },
  {
   "cell_type": "code",
   "execution_count": null,
   "metadata": {},
   "outputs": [],
   "source": []
  },
  {
   "cell_type": "markdown",
   "metadata": {},
   "source": [
    "### b. Programmatic assessment"
   ]
  },
  {
   "cell_type": "code",
   "execution_count": 1,
   "metadata": {},
   "outputs": [],
   "source": [
    "# Check datatypes and non-null count of columns in df_twitter_archive_enhanced\n",
    "# .info()"
   ]
  },
  {
   "cell_type": "code",
   "execution_count": 2,
   "metadata": {},
   "outputs": [],
   "source": [
    "# Check if column rating_denominator of df_twitter_archive_enhanced only consists of value 10\n",
    "# .value_counts()"
   ]
  },
  {
   "cell_type": "code",
   "execution_count": null,
   "metadata": {},
   "outputs": [],
   "source": []
  },
  {
   "cell_type": "code",
   "execution_count": null,
   "metadata": {},
   "outputs": [],
   "source": []
  },
  {
   "cell_type": "code",
   "execution_count": 3,
   "metadata": {},
   "outputs": [],
   "source": [
    "# cited from: https://www.rrighart.com/blog-covid19/a-jupyter-notebook-for-visualizing-the-covid-19-pandemic\n",
    "\n",
    "def data_visualization(filename, countries, pop, number, date1, date2):\n",
    "    \"\"\"filename= 'Confirmed' or 'Fatality'\n",
    "    countries=country_list,\n",
    "    pop= 'absolute', 'inhabitants', 'area'\n",
    "    number= 1000000 inhabitants or 10000 km2 area\n",
    "    date1= start date\n",
    "    date2= end date\n",
    "    \"\"\"    \n",
    "\n",
    "    # Checking input argument filename\n",
    "    if filename == 'Fatality': fn='time_series_covid19_deaths_global.csv'\n",
    "    elif filename == 'Confirmed': fn='time_series_covid19_confirmed_global.csv'\n",
    "    elif filename == 'Recovered': fn='time_series_covid19_recovered_global.csv'\n",
    "    else: print('Wrong input for filename')\n",
    "\n",
    "    # Checking input argument pop\n",
    "    if pop == 'area': per, ent='per','km2'\n",
    "    elif pop == 'inhabitants': per,ent='per','persons'\n",
    "    elif pop == 'normal': number, per, ent='','',''\n",
    "    else: ent='persons', print('Wrong input for pop')\n",
    "    \n",
    "    title=str(filename)+' cases'+' '+str(per)+' '+str(number)+' '+str(ent)\n",
    "        \n",
    "    dat1 = pd.read_csv('https://raw.githubusercontent.com/CSSEGISandData/COVID-19/master/csse_covid_19_data/csse_covid_19_time_series/'+fn)\n",
    "    dat2 = pd.read_csv('https://raw.githubusercontent.com/RRighart/covid-19/master/countries.csv')\n",
    "      \n",
    "    dat1 = dat1[(dat1['Country/Region'].isin(countries)) & (dat1['Province/State'].isin([np.nan*len(country_list)]))]\n",
    "    dat1 = pd.melt(dat1.drop(['Lat', 'Long', 'Province/State'], axis=1), id_vars = ['Country/Region'])\n",
    "    dat1 = dat1.rename({'variable':'date', 'value':'metric'}, axis=1)\n",
    "    dat1['date']=pd.to_datetime(dat1['date'])\n",
    "    dat = pd.merge(dat1, dat2, on=['Country/Region'])\n",
    "    dat = dat.sort_values(by='date', ascending=True)\n",
    "    \n",
    "    if pop == 'area' or pop == 'inhabitants': \n",
    "        dat[pop] = dat[pop].div(number)\n",
    "        dat['yvalue'] = dat['metric'].div(dat[pop])\n",
    "    else: dat['yvalue'] = dat['metric'].copy() \n",
    "    \n",
    "    dat = dat[(dat['date']>=date1) & (dat['date']<=date2)]\n",
    "    colors = mpl.cm.tab20(np.linspace(0,1,len(countries)))\n",
    "    plt.figure(figsize = (16, 8))\n",
    "\n",
    "    countries = list(dat.loc[(dat['Country/Region'].isin(countries)) & (dat['date']==dat['date'].max()), ['Country/Region', 'yvalue']].sort_values(by='yvalue', ascending=False)['Country/Region'])\n",
    "    \n",
    "    for i,j in zip(countries, np.arange(0,len(countries))):\n",
    "        plt.plot(dat[dat['Country/Region'] == i]['date'], dat[dat['Country/Region'] == i]['yvalue'], label=i, marker='o', color=colors[j])\n",
    "    plt.xticks(rotation='vertical')\n",
    "    plt.ylabel('Number of '+filename+' Cases')\n",
    "    plt.title(title, fontsize=16)\n",
    "   \n",
    "    plt.legend()\n",
    "    plt.savefig('covid.png')"
   ]
  },
  {
   "cell_type": "code",
   "execution_count": null,
   "metadata": {},
   "outputs": [],
   "source": []
  },
  {
   "cell_type": "code",
   "execution_count": null,
   "metadata": {},
   "outputs": [],
   "source": []
  },
  {
   "cell_type": "code",
   "execution_count": null,
   "metadata": {},
   "outputs": [],
   "source": []
  },
  {
   "cell_type": "markdown",
   "metadata": {},
   "source": [
    "Countries of interest:\n",
    "- Germany\n",
    "- Italy \n",
    "- Spain\n",
    "- Sweden\n",
    "- USA\n",
    "- Brazil\n",
    "- Netherlands\n",
    "- Russia\n"
   ]
  },
  {
   "cell_type": "code",
   "execution_count": 3,
   "metadata": {},
   "outputs": [],
   "source": [
    "# Check for percentiles and standard deviation of image prediction confidence\n",
    "# .describe()"
   ]
  },
  {
   "cell_type": "code",
   "execution_count": null,
   "metadata": {},
   "outputs": [],
   "source": []
  },
  {
   "cell_type": "code",
   "execution_count": null,
   "metadata": {},
   "outputs": [],
   "source": []
  },
  {
   "cell_type": "code",
   "execution_count": null,
   "metadata": {},
   "outputs": [],
   "source": []
  },
  {
   "cell_type": "code",
   "execution_count": 5,
   "metadata": {},
   "outputs": [],
   "source": [
    "# Check for duplicate column names across three dataframes\n",
    "#all_columns = pd.Series(list(df_twitter_archive_enhanced) + list(df_image_predictions) + list(df_tweet_api_info))\n",
    "#all_columns[all_columns.duplicated()]"
   ]
  },
  {
   "cell_type": "code",
   "execution_count": null,
   "metadata": {},
   "outputs": [],
   "source": []
  },
  {
   "cell_type": "markdown",
   "metadata": {},
   "source": [
    "### Findings, which contradict requirements:\n",
    "\n",
    "#### Quality Observations:\n",
    "- ...\n",
    "\n",
    "#### Tidiness Observations:\n",
    "- ..\n",
    "- ..."
   ]
  },
  {
   "cell_type": "markdown",
   "metadata": {},
   "source": [
    "<a id='clean'></a>\n",
    "## 3. Clean data"
   ]
  },
  {
   "cell_type": "code",
   "execution_count": 6,
   "metadata": {},
   "outputs": [],
   "source": [
    "# Create copies for cleaning process to preserve original dataframes\n",
    "# .copy()"
   ]
  },
  {
   "cell_type": "markdown",
   "metadata": {},
   "source": [
    "### Issue 1:\n",
    "#### Observe:\n",
    "- Validity: ..."
   ]
  },
  {
   "cell_type": "markdown",
   "metadata": {},
   "source": [
    "#### Define:\n",
    "- Drop "
   ]
  },
  {
   "cell_type": "markdown",
   "metadata": {},
   "source": [
    "#### Code:"
   ]
  },
  {
   "cell_type": "code",
   "execution_count": 1684,
   "metadata": {},
   "outputs": [],
   "source": [
    "# Keep only rows without values in 'retweeted_status_id'\n",
    "# df_twitter_archive_enhanced_clean = df_twitter_archive_enhanced_clean[\n",
    "#     df_twitter_archive_enhanced_clean['retweeted_status_id'].isnull()]\n",
    "\n",
    "# Drop variables which are only necessary for retweets\n",
    "# df_twitter_archive_enhanced_clean.drop(['retweeted_status_id', 'retweeted_status_user_id', \n",
    "#                                         'retweeted_status_timestamp'], axis=1, inplace=True)"
   ]
  },
  {
   "cell_type": "markdown",
   "metadata": {},
   "source": [
    "#### Test:"
   ]
  },
  {
   "cell_type": "code",
   "execution_count": 1685,
   "metadata": {},
   "outputs": [],
   "source": [
    "# Check if amount twitter ids reduced as expected\n",
    "# assert len(df_twitter_archive_enhanced_clean) == len(df_twitter_archive_enhanced)-181"
   ]
  },
  {
   "cell_type": "code",
   "execution_count": 7,
   "metadata": {},
   "outputs": [],
   "source": [
    "# Check if columnns `in_reply_to_status_id`, `in_reply_to_user_id` and `retweeted_status_timestamp` dropped\n",
    "# list(df_twitter_archive_enhanced)"
   ]
  },
  {
   "cell_type": "markdown",
   "metadata": {},
   "source": [
    "### Issue 2:\n",
    "#### Observe:\n",
    "- Validity: .."
   ]
  },
  {
   "cell_type": "markdown",
   "metadata": {},
   "source": [
    "#### Define:\n",
    "- .."
   ]
  },
  {
   "cell_type": "markdown",
   "metadata": {},
   "source": [
    "#### Code:"
   ]
  },
  {
   "cell_type": "code",
   "execution_count": null,
   "metadata": {},
   "outputs": [],
   "source": []
  },
  {
   "cell_type": "markdown",
   "metadata": {},
   "source": [
    "#### Test:"
   ]
  },
  {
   "cell_type": "code",
   "execution_count": null,
   "metadata": {},
   "outputs": [],
   "source": []
  },
  {
   "cell_type": "code",
   "execution_count": null,
   "metadata": {},
   "outputs": [],
   "source": []
  },
  {
   "cell_type": "code",
   "execution_count": 8,
   "metadata": {},
   "outputs": [],
   "source": [
    "# Check if any row left without value in rating_numerator column\n",
    "# assert len(df_twitter_archive_enhanced_clean[df_twitter_archive_enhanced_clean['rating_numerator'].isnull()]) == 0"
   ]
  },
  {
   "cell_type": "markdown",
   "metadata": {},
   "source": [
    "### Issue 3:\n",
    "#### Observe:\n",
    "- Validity: "
   ]
  },
  {
   "cell_type": "markdown",
   "metadata": {},
   "source": [
    "#### Define\n",
    "- Extract ... using regular expressions and pandas' str.extract method. "
   ]
  },
  {
   "cell_type": "markdown",
   "metadata": {},
   "source": [
    "#### Code:"
   ]
  },
  {
   "cell_type": "code",
   "execution_count": 9,
   "metadata": {},
   "outputs": [],
   "source": [
    "# Extract rating_numerator/rating_denominator via regex\n",
    "#df_twitter_archive_enhanced_clean['rating'] = df_twitter_archive_enhanced_clean.text.str.extract(\n",
    "#    '(\\d{1,2}\\.?\\d{1,2}?\\/10)', expand=True)\n",
    "\n",
    "# Split the values in 'rating' column to columns 'rating_numerator' and 'rating_denominator'\n",
    "#df_twitter_archive_enhanced_clean['rating_numerator_text'], df_twitter_archive_enhanced_clean[\n",
    "#    'rating_denominator_text'] = df_twitter_archive_enhanced_clean['rating'].str.split('/', 1).str\n"
   ]
  },
  {
   "cell_type": "code",
   "execution_count": 10,
   "metadata": {},
   "outputs": [],
   "source": [
    "# NaN is not comparable, therfore replace all NaN with 'None'\n",
    "#df_twitter_archive_enhanced_clean['rating_numerator_text'] = df_twitter_archive_enhanced_clean['rating_numerator_text'].replace(np.nan, 'None')\n",
    "\n",
    "# Function to apply, which goes through 3 available guesses and picks the one with highest confidence beeing dog\n",
    "#def fill_missing_numerators(tweet):\n",
    "#    if tweet['rating_numerator_text'] == 'None':\n",
    "#        rating_numerator = tweet['rating_numerator']\n",
    "#        return rating_numerator\n",
    "#    else:\n",
    "#        rating_numerator = tweet['rating_numerator_text']\n",
    "#        return rating_numerator\n",
    "\n",
    "# Apply function to dataframe    \n",
    "#df_twitter_archive_enhanced_clean['rating_numerator_merge'] = df_twitter_archive_enhanced_clean.apply(fill_missing_numerators, axis=1)\n",
    "\n",
    "\n",
    "#df_twitter_archive_enhanced_clean['rating_numerator'] = df_twitter_archive_enhanced_clean['rating_numerator_merge']\n",
    "\n",
    "# Note: axis=1 denotes that referring to a column, not a row\n",
    "#df_twitter_archive_enhanced_clean.drop(['rating_numerator_merge', 'rating_numerator_text'], axis=1, inplace=True)\n"
   ]
  },
  {
   "cell_type": "code",
   "execution_count": 1693,
   "metadata": {},
   "outputs": [],
   "source": [
    "# Drop rows which do not conform the (\\d{1,2}\\/10) format for ratings\n",
    "#df_twitter_archive_enhanced_clean = df_twitter_archive_enhanced_clean[df_twitter_archive_enhanced_clean.rating_numerator.notnull()]\n",
    "#df_twitter_archive_enhanced_clean = df_twitter_archive_enhanced_clean[df_twitter_archive_enhanced_clean.rating_denominator.notnull()]\n",
    "\n",
    "# Convert columns to int\n",
    "#df_twitter_archive_enhanced_clean.rating_numerator = pd.to_numeric(df_twitter_archive_enhanced_clean.rating_numerator)\n",
    "#df_twitter_archive_enhanced_clean.rating_denominator = pd.to_numeric(df_twitter_archive_enhanced_clean.rating_denominator)\n",
    "\n",
    "# Note: axis=1 denotes that referring to a column, not a row\n",
    "#df_twitter_archive_enhanced_clean.drop('rating', axis=1, inplace=True)"
   ]
  },
  {
   "cell_type": "code",
   "execution_count": 1694,
   "metadata": {},
   "outputs": [],
   "source": []
  },
  {
   "cell_type": "markdown",
   "metadata": {},
   "source": [
    "#### Test:"
   ]
  },
  {
   "cell_type": "code",
   "execution_count": null,
   "metadata": {},
   "outputs": [],
   "source": []
  },
  {
   "cell_type": "code",
   "execution_count": null,
   "metadata": {},
   "outputs": [],
   "source": []
  },
  {
   "cell_type": "code",
   "execution_count": 1697,
   "metadata": {},
   "outputs": [],
   "source": [
    "# Check for values in rating_numerator\n",
    "# assert np.mean(df_twitter_archive_enhanced_clean.rating_denominator == 10) == 1.0"
   ]
  },
  {
   "cell_type": "markdown",
   "metadata": {},
   "source": [
    "### Issue 4:\n",
    "#### Observe:\n",
    "- Completeness: "
   ]
  },
  {
   "cell_type": "markdown",
   "metadata": {},
   "source": [
    "#### Define: \n",
    "- ..."
   ]
  },
  {
   "cell_type": "markdown",
   "metadata": {},
   "source": [
    "#### Code:"
   ]
  },
  {
   "cell_type": "code",
   "execution_count": 1698,
   "metadata": {},
   "outputs": [],
   "source": [
    "# Extract stage via regex from column 'text'\n",
    "#df_twitter_archive_enhanced_clean['stage_text'] = df_twitter_archive_enhanced_clean.text.str.extract(\n",
    "#    '(puppo|pupper|floofer|doggo)', expand=True)"
   ]
  },
  {
   "cell_type": "code",
   "execution_count": null,
   "metadata": {},
   "outputs": [],
   "source": []
  },
  {
   "cell_type": "code",
   "execution_count": null,
   "metadata": {},
   "outputs": [],
   "source": []
  },
  {
   "cell_type": "code",
   "execution_count": null,
   "metadata": {},
   "outputs": [],
   "source": []
  },
  {
   "cell_type": "code",
   "execution_count": null,
   "metadata": {},
   "outputs": [],
   "source": []
  },
  {
   "cell_type": "code",
   "execution_count": null,
   "metadata": {},
   "outputs": [],
   "source": []
  },
  {
   "cell_type": "markdown",
   "metadata": {},
   "source": [
    "#### Test:"
   ]
  },
  {
   "cell_type": "code",
   "execution_count": null,
   "metadata": {},
   "outputs": [],
   "source": []
  },
  {
   "cell_type": "code",
   "execution_count": null,
   "metadata": {},
   "outputs": [],
   "source": []
  },
  {
   "cell_type": "markdown",
   "metadata": {},
   "source": [
    "### Issue 5:\n",
    "#### Observe:\n",
    "- Completeness: "
   ]
  },
  {
   "cell_type": "markdown",
   "metadata": {},
   "source": [
    "#### Define:\n",
    "- .."
   ]
  },
  {
   "cell_type": "markdown",
   "metadata": {},
   "source": [
    "#### Code:"
   ]
  },
  {
   "cell_type": "code",
   "execution_count": null,
   "metadata": {},
   "outputs": [],
   "source": []
  },
  {
   "cell_type": "code",
   "execution_count": 11,
   "metadata": {},
   "outputs": [],
   "source": [
    "# Search for most common patterns of sentences containing dog name\n",
    "#df_twitter_archive_enhanced_clean['name_text'] = df_twitter_archive_enhanced_clean.text.str.extract(\n",
    "#    '([Tt]his is (\\w+))|(name is (\\w+))|(named (\\w+))', expand=True)[1]\n",
    "\n",
    "#df_twitter_archive_enhanced_clean['name_text'] = df_twitter_archive_enhanced_clean['name_text'].replace(np.nan, 'None')\n",
    "\n",
    "\n",
    "\n",
    "# Function to apply, which replaces missing values\n",
    "#def fill_missing_names(tweet):\n",
    "#    if tweet['name'] == 'None':\n",
    "#        name = tweet['name_text']\n",
    "#        return name\n",
    "#    else:\n",
    "#        name = tweet['name']\n",
    "#        return name\n",
    "\n",
    "# Apply function to dataframe    \n",
    "#df_twitter_archive_enhanced_clean['name'] = df_twitter_archive_enhanced_clean.apply(fill_missing_names, axis=1)\n",
    "\n",
    "# Drop variables 'name_text'\n",
    "#df_twitter_archive_enhanced_clean.drop('name_text', axis=1, inplace=True)"
   ]
  },
  {
   "cell_type": "code",
   "execution_count": null,
   "metadata": {},
   "outputs": [],
   "source": []
  },
  {
   "cell_type": "code",
   "execution_count": 12,
   "metadata": {},
   "outputs": [],
   "source": [
    "\n",
    "# Function to delete entries which do not start with capital letter\n",
    "#def delete_false_names(tweet):\n",
    "#    name = tweet['name']\n",
    "#    if name.istitle() is True:\n",
    "#        name = tweet['name']\n",
    "#        return name\n",
    "#    else:\n",
    "#        name = 'None'\n",
    "#        return name\n",
    "    \n",
    "# Apply function to dataframe    \n",
    "#df_twitter_archive_enhanced_clean['name'] = df_twitter_archive_enhanced_clean.apply(delete_false_names, axis=1)\n",
    "\n",
    "#df_twitter_archive_enhanced_clean['name'] = df_twitter_archive_enhanced_clean['name'].replace('None', np.nan)\n"
   ]
  },
  {
   "cell_type": "markdown",
   "metadata": {},
   "source": [
    "#### Test:"
   ]
  },
  {
   "cell_type": "code",
   "execution_count": null,
   "metadata": {},
   "outputs": [],
   "source": []
  },
  {
   "cell_type": "code",
   "execution_count": null,
   "metadata": {},
   "outputs": [],
   "source": []
  },
  {
   "cell_type": "code",
   "execution_count": null,
   "metadata": {},
   "outputs": [],
   "source": []
  },
  {
   "cell_type": "markdown",
   "metadata": {},
   "source": [
    "### Issue 6:\n",
    "#### Observe:\n",
    "- Consistency: "
   ]
  },
  {
   "cell_type": "markdown",
   "metadata": {},
   "source": [
    "#### Define:\n",
    "- ..."
   ]
  },
  {
   "cell_type": "markdown",
   "metadata": {},
   "source": [
    "#### Code"
   ]
  },
  {
   "cell_type": "code",
   "execution_count": null,
   "metadata": {},
   "outputs": [],
   "source": []
  },
  {
   "cell_type": "markdown",
   "metadata": {},
   "source": [
    "#### Test:"
   ]
  },
  {
   "cell_type": "code",
   "execution_count": null,
   "metadata": {},
   "outputs": [],
   "source": []
  },
  {
   "cell_type": "code",
   "execution_count": null,
   "metadata": {},
   "outputs": [],
   "source": []
  },
  {
   "cell_type": "markdown",
   "metadata": {},
   "source": [
    "### Issue 7:\n",
    "#### Observe: \n",
    "- Accuracy:"
   ]
  },
  {
   "cell_type": "markdown",
   "metadata": {},
   "source": [
    "#### Define:\n",
    "- Concvert `timestamp` to type datetime"
   ]
  },
  {
   "cell_type": "markdown",
   "metadata": {},
   "source": [
    "#### Code:"
   ]
  },
  {
   "cell_type": "code",
   "execution_count": null,
   "metadata": {},
   "outputs": [],
   "source": []
  },
  {
   "cell_type": "markdown",
   "metadata": {},
   "source": [
    "#### Test:"
   ]
  },
  {
   "cell_type": "code",
   "execution_count": null,
   "metadata": {},
   "outputs": [],
   "source": []
  },
  {
   "cell_type": "markdown",
   "metadata": {},
   "source": [
    "### Issue 8:\n",
    "#### Observe: \n",
    "- Tidiness: .."
   ]
  },
  {
   "cell_type": "markdown",
   "metadata": {},
   "source": [
    "#### Define:\n",
    "- .."
   ]
  },
  {
   "cell_type": "markdown",
   "metadata": {},
   "source": [
    "#### Code:"
   ]
  },
  {
   "cell_type": "code",
   "execution_count": null,
   "metadata": {},
   "outputs": [],
   "source": []
  },
  {
   "cell_type": "code",
   "execution_count": null,
   "metadata": {},
   "outputs": [],
   "source": []
  },
  {
   "cell_type": "code",
   "execution_count": null,
   "metadata": {},
   "outputs": [],
   "source": []
  },
  {
   "cell_type": "markdown",
   "metadata": {},
   "source": [
    "#### Test:"
   ]
  },
  {
   "cell_type": "code",
   "execution_count": null,
   "metadata": {},
   "outputs": [],
   "source": []
  },
  {
   "cell_type": "markdown",
   "metadata": {},
   "source": [
    "### Issue 9:\n",
    "#### Observe: \n",
    "- Accuracy: .."
   ]
  },
  {
   "cell_type": "markdown",
   "metadata": {},
   "source": [
    "#### Define\n",
    "- Convert.."
   ]
  },
  {
   "cell_type": "markdown",
   "metadata": {},
   "source": [
    "#### Code:"
   ]
  },
  {
   "cell_type": "code",
   "execution_count": 1722,
   "metadata": {},
   "outputs": [],
   "source": [
    "# df_tweet_api_info_clean.retweet_count = df_tweet_api_info_clean.retweet_count.astype(int)"
   ]
  },
  {
   "cell_type": "code",
   "execution_count": null,
   "metadata": {},
   "outputs": [],
   "source": []
  },
  {
   "cell_type": "markdown",
   "metadata": {},
   "source": [
    "#### Test:"
   ]
  },
  {
   "cell_type": "code",
   "execution_count": null,
   "metadata": {},
   "outputs": [],
   "source": []
  },
  {
   "cell_type": "markdown",
   "metadata": {},
   "source": [
    "### Issue 10:\n",
    "#### Observe:\n",
    "\n",
    "- Tidiness: .."
   ]
  },
  {
   "cell_type": "markdown",
   "metadata": {},
   "source": [
    "#### Define\n",
    "- Merge .."
   ]
  },
  {
   "cell_type": "markdown",
   "metadata": {},
   "source": [
    "#### Code:"
   ]
  },
  {
   "cell_type": "code",
   "execution_count": 14,
   "metadata": {},
   "outputs": [],
   "source": [
    "# Merge the two dataframes on columns 'given_name', 'surname'\n",
    "#df_twitter_archive_enhanced_clean = pd.merge(df_twitter_archive_enhanced_clean, df_image_predictions_clean, \n",
    "#                            on='tweet_id', how='left')"
   ]
  },
  {
   "cell_type": "markdown",
   "metadata": {},
   "source": [
    "#### Test:"
   ]
  },
  {
   "cell_type": "code",
   "execution_count": null,
   "metadata": {},
   "outputs": [],
   "source": []
  },
  {
   "cell_type": "code",
   "execution_count": null,
   "metadata": {},
   "outputs": [],
   "source": []
  },
  {
   "cell_type": "markdown",
   "metadata": {},
   "source": [
    "### Store clean data:"
   ]
  },
  {
   "cell_type": "code",
   "execution_count": 1728,
   "metadata": {},
   "outputs": [],
   "source": [
    "# Store cleaned dataset to csv\n",
    "# twitter_archive_master.to_csv('twitter_archive_master.csv', encoding='utf-8')"
   ]
  },
  {
   "cell_type": "markdown",
   "metadata": {},
   "source": [
    "Store date to twitter_archive_master.csv"
   ]
  },
  {
   "cell_type": "markdown",
   "metadata": {},
   "source": [
    "<a id='analysis'></a>\n",
    "## 4. Analysis & Visualization"
   ]
  },
  {
   "cell_type": "code",
   "execution_count": 1729,
   "metadata": {},
   "outputs": [],
   "source": [
    "# Import libraries for visualization\n",
    "import numpy as np\n",
    "import seaborn as sns\n",
    "import matplotlib.pyplot as plt\n",
    "%matplotlib inline"
   ]
  },
  {
   "cell_type": "markdown",
   "metadata": {},
   "source": [
    "##### A. Mean stage rating:\n",
    "Is there a difference in mean rating between the different dog stages `doggo`, `floofer`, `pupper`and `puppo`? The rating is an evaluation of the dog photo given by the owners of the twitter account WeRateDogs."
   ]
  },
  {
   "cell_type": "code",
   "execution_count": 15,
   "metadata": {},
   "outputs": [],
   "source": [
    "# Set up the matplotlib figure\n",
    "#fig = plt.figure(figsize=(15,8));\n",
    "#ax = fig.add_axes([0,0,1,1]);\n",
    "#stages = ['doggo', 'floofer', 'pupper', 'puppo'];\n",
    "#mean_stage_rating = twitter_archive_master.groupby('stage').mean()['rating'];\n",
    "#ax.bar(stages,mean_stage_rating);\n",
    "\n",
    "#ax.set_ylim([1.05,1.25]);\n",
    "#ax.grid();\n",
    "#plt.xlabel('Dog Stages');\n",
    "#plt.ylabel('Mean WeRateDogs Rating');\n",
    "#plt.title('Mean WeRateDogs Rating per Dog Stage');\n",
    "#plt.show();\n",
    "\n",
    "#fig.savefig('A_MeanWeRateDogsRatingDogStage.png', bbox_inches='tight');\n"
   ]
  },
  {
   "cell_type": "code",
   "execution_count": null,
   "metadata": {},
   "outputs": [],
   "source": []
  },
  {
   "cell_type": "markdown",
   "metadata": {},
   "source": [
    "##### bla"
   ]
  },
  {
   "cell_type": "markdown",
   "metadata": {},
   "source": [
    "##### B. bla"
   ]
  },
  {
   "cell_type": "code",
   "execution_count": null,
   "metadata": {},
   "outputs": [],
   "source": []
  },
  {
   "cell_type": "markdown",
   "metadata": {},
   "source": []
  },
  {
   "cell_type": "markdown",
   "metadata": {},
   "source": []
  },
  {
   "cell_type": "code",
   "execution_count": null,
   "metadata": {},
   "outputs": [],
   "source": []
  },
  {
   "cell_type": "markdown",
   "metadata": {},
   "source": [
    "#####  Mean Stage Retweet Count Conclusion:\n",
    "In all three indicators, mean stage rating, mean stage favorite count and mean stage retweet count, the stage `puppo`performs best and the stage `pupper`performs worst."
   ]
  },
  {
   "cell_type": "markdown",
   "metadata": {},
   "source": [
    "##### D. Mean Rating Conclusion per Dog Race:\n",
    "Do certain dog races get rated higher than others?"
   ]
  },
  {
   "cell_type": "code",
   "execution_count": 1734,
   "metadata": {},
   "outputs": [],
   "source": [
    "# Only use observations with race prediction confidence higher than 85%\n",
    "#dog_races = twitter_archive_master.query('race_prediction_conf > 0.85')"
   ]
  },
  {
   "cell_type": "code",
   "execution_count": 1735,
   "metadata": {},
   "outputs": [],
   "source": [
    "# Only pick races with more than 5 observations\n",
    "#races = dog_races.race_prediction.value_counts().index[0:10]\n",
    "#drop_races = dog_races.race_prediction.value_counts().index[10:]"
   ]
  },
  {
   "cell_type": "code",
   "execution_count": 1736,
   "metadata": {},
   "outputs": [],
   "source": [
    "# Create mean rating per dog race\n",
    "#mean_race_rating = dog_races.groupby('race_prediction').mean()['rating']\n",
    "\n",
    "# Drop races with less than 5 observations\n",
    "#mean_race_rating.drop(drop_races, inplace=True)"
   ]
  },
  {
   "cell_type": "code",
   "execution_count": 1737,
   "metadata": {},
   "outputs": [
    {
     "data": {
      "image/png": "[encoded data removed]",
      "text/plain": [
       "<Figure size 1080x576 with 1 Axes>"
      ]
     },
     "metadata": {
      "needs_background": "light"
     },
     "output_type": "display_data"
    }
   ],
   "source": [
    "# Set up the matplotlib figure\n",
    "#fig = plt.figure(figsize=(15,8))\n",
    "\n",
    "#ax = fig.add_axes([0,0,1,1])\n",
    "\n",
    "#ax.bar(races,mean_race_rating)\n",
    "#degrees = 45\n",
    "#plt.xticks(rotation=degrees)\n",
    "\n",
    "#ax.set_ylim([1.05,1.25])\n",
    "#ax.grid()\n",
    "#plt.xlabel('Dog Race');\n",
    "#plt.ylabel('Mean WeRateDogs Rating');\n",
    "#plt.title('Mean WeRateDogs Rating per Dog Race');\n",
    "#plt.show()\n",
    "\n",
    "#fig.savefig('D_MeanWeRateDogsRatingDogRace.png', bbox_inches='tight')\n"
   ]
  }
 ],
 "metadata": {
  "kernelspec": {
   "display_name": "Python 3",
   "language": "python",
   "name": "python3"
  },
  "language_info": {
   "codemirror_mode": {
    "name": "ipython",
    "version": 3
   },
   "file_extension": ".py",
   "mimetype": "text/x-python",
   "name": "python",
   "nbconvert_exporter": "python",
   "pygments_lexer": "ipython3",
   "version": "3.7.7"
  }
 },
 "nbformat": 4,
 "nbformat_minor": 2
}
