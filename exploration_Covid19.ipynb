{
 "cells": [
  {
   "cell_type": "markdown",
   "metadata": {},
   "source": [
    "# Data exploration regarding strategies to deal with the Covid-19 outbreak\n",
    "## by Leopold Walther\n",
    "\n",
    "## Preliminary Wrangling\n",
    "\n",
    "> The main question which made me start the analysis is: What is the best strategy for a state to battle the Covid-19 outbreak. There are several debates on how to act on overcoming this global pandemic. There are goverments that want to prevent overburdening of the health system through the lockdown like the spanish or german, while other countries rely on the responsibility of the individual without major restrictions, namely the swedish. Futhermore, there are governments that do not see any danger through the virus for their population or at least evaluate the economic damage through a lockdown more dramatically than the effects of the virus itself. Data was gathered from Wikipedia, Gapminder and the John Hopkins University. The amount of confirmed cases of Covid-19, deaths and recovered of the John Hopkins Data paired with information like intensive care beds retrieved from wikipedia ist the basis of this analysis. With this data the outbreaks timelines of different countries can be compared in the context of their strategies."
   ]
  },
  {
   "cell_type": "code",
   "execution_count": 39,
   "metadata": {},
   "outputs": [],
   "source": [
    "# One dimensional\n",
    "    #Countries with highest death rates (bar chart) --> what is real death rate?\n",
    "    #\n",
    "\n",
    "# Two dimensional\n",
    "    # Corona Virus Cases overt time per country line? (umeric discrecte vs numeric continouos) --> zoom in on not extreme countries\n",
    "    # R-factor of countries over time\n",
    "    # monthly/weekly deaths compared to \"normal years\" --> Sweden compared to other nordic countries\n",
    "\n",
    "# Multi dimensional\n",
    "    # comparison of share of single person households, share of population over 65, \n",
    "        #population per sqm, percentage living in cities, diabetes\n",
    "        # Heatmap Countries cases?? https://medium.com/@tomaspueyo/coronavirus-learning-how-to-dance-b8420170203e\n",
    "        \n",
    "# other constructions\n",
    "    # How long would it last to make 2/3 immun without vaccine? -->\n",
    "    # Minimum Deaths when all infected and no vaccine, but enough medical care vs maximum death when hospitals overhelmed\n",
    "\n"
   ]
  },
  {
   "cell_type": "code",
   "execution_count": 40,
   "metadata": {},
   "outputs": [],
   "source": [
    "# import all packages and set plots to be embedded inline\n",
    "import numpy as np\n",
    "import pandas as pd\n",
    "from datetime import date\n",
    "from datetime import timedelta\n",
    "import matplotlib as mpl\n",
    "import matplotlib.pyplot as plt\n",
    "import matplotlib.patches as mpatches\n",
    "%matplotlib inline\n",
    "import seaborn as sb"
   ]
  },
  {
   "cell_type": "markdown",
   "metadata": {},
   "source": [
    "> Load in your dataset and describe its properties through the questions below.\n",
    "Try and motivate your exploration goals through this section."
   ]
  },
  {
   "cell_type": "code",
   "execution_count": 41,
   "metadata": {},
   "outputs": [],
   "source": [
    "# Read Covid-19 data from csv\n",
    "df_covidCases_Timeline = pd.read_csv('outputData/df_covidCases_Timeline.csv')\n",
    "df_covidTests_Snapshot = pd.read_csv('outputData/df_covidTests_Snapshot.csv')\n",
    "df_countryMetrics_Snapshot = pd.read_csv('outputData/df_countryMetrics_Snapshot.csv')\n",
    "df_householdsEU_Timeline = pd.read_csv('outputData/df_householdsEU_Timeline.csv')\n",
    "df_hospitals_Snapshot = pd.read_csv('outputData/df_hospitals_Snapshot.csv')\n",
    "df_populationDelta_Timeline = pd.read_csv('outputData/df_populationDelta_Timeline.csv')"
   ]
  },
  {
   "cell_type": "code",
   "execution_count": 42,
   "metadata": {},
   "outputs": [],
   "source": [
    "# Datatype datetime gets lost with write & read csv\n",
    "df_covidCases_Timeline.date=pd.to_datetime(df_covidCases_Timeline.date)"
   ]
  },
  {
   "cell_type": "code",
   "execution_count": 43,
   "metadata": {},
   "outputs": [
    {
     "data": {
      "text/plain": [
       "Unnamed: 0             int64\n",
       "country               object\n",
       "date          datetime64[ns]\n",
       "fatal                  int64\n",
       "confirmed              int64\n",
       "recovered              int64\n",
       "iso_code              object\n",
       "dtype: object"
      ]
     },
     "execution_count": 43,
     "metadata": {},
     "output_type": "execute_result"
    }
   ],
   "source": [
    "# Check if datatype of date now correct\n",
    "df_covidCases_Timeline.dtypes"
   ]
  },
  {
   "cell_type": "code",
   "execution_count": 44,
   "metadata": {},
   "outputs": [],
   "source": [
    "# Get dates of today and yesterday depending on day script is run\n",
    "today = pd.to_datetime(date.today())\n",
    "yesterday = pd.to_datetime(date.today() - timedelta(days=1))"
   ]
  },
  {
   "cell_type": "code",
   "execution_count": 63,
   "metadata": {},
   "outputs": [
    {
     "data": {
      "text/plain": [
       "207"
      ]
     },
     "execution_count": 63,
     "metadata": {},
     "output_type": "execute_result"
    }
   ],
   "source": [
    "len(df_countryMetrics_Snapshot.country)"
   ]
  },
  {
   "cell_type": "markdown",
   "metadata": {},
   "source": [
    "### Structure of your datasets\n",
    "\n",
    "There are six datasets in this analysis. \n",
    "Base of this analysis is the dataset 'df_covidCases_Timeline' containing the data related to the spread of Covid-19 over time. Each row holds the following variables for one country on one date: accumulated confirmed cases of Covid-19, accumulated fatal cases related to Covid-19 and cases recovered from Covid-19. There are 20,475 observations in this dataset on May 18th 2020. This data is gathered by the [John Hopkins University](https://hub.jhu.edu/novel-coronavirus-information/) and daily updated with new observations. All variables but country names are of numeric nature.\n",
    "This dataset is complemented by another dataset df_covidTests_Snapshot by the [Unitversity of Oxford](https://ourworldindata.org/about) tracking tests perfomed by countries. The dataset df_covidTests_Snapshot only contains the most recent values available for 92 countries.\n",
    "Further numeric statistics like population size or area of 207 countries is part of the dataframe df_countryMetrics_Snapshot.\n",
    "The dataframe df_householdsEU_Timeline holds ordinal categorical data regarding the distribution of the population among household sizes. Household sizes, 1 person, 2 persons, 3 persons, 4 persons, 5 persons, 6 persons or more.\n",
    "\n",
    "\n",
    "\n",
    "\n",
    "\n",
    "\n",
    "\n",
    "df_hospitals_Snapshot\n",
    "df_populationDelta_Timeline\n",
    "\n",
    "> There are 53,940 diamonds in the dataset with 10 features (carat, cut, color, clarity, depth, table, price, x, y, and z). Most variables are numeric in nature, but the variables cut, color, and clarity are ordered factor variables with the following levels.\n",
    "(worst) ——> (best) \n",
    "cut: Fair, Good, Very Good, Premium, Ideal \n",
    "color: J, I, H, G, F, E, D \n",
    "clarity: I1, SI2, SI1, VS2, VS1, VVS2, VVS1, IF\n",
    "### What is/are the main feature(s) of interest in your dataset?\n",
    "\n",
    "> I'm most interested in figuring out what features are best for predicting the price of the diamonds in the dataset.\n",
    "\n",
    "### What features in the dataset do you think will help support your investigation into your feature(s) of interest?\n",
    "\n",
    "> I expect that carat will have the strongest effect on each diamond's price: the larger the diamond, the higher the price. I also think that the other big \"C\"s of diamonds: cut, color, and clarity, will have effects on the price, though to a much smaller degree than the main effect of carat. "
   ]
  },
  {
   "cell_type": "markdown",
   "metadata": {},
   "source": [
    "## Univariate Exploration\n",
    "\n",
    "> I'll start by looking at the distribution of the main variable of interest: price.\n",
    "\n",
    ">In this section, investigate distributions of individual variables. If\n",
    "you see unusual points or outliers, take a deeper look to clean things up\n",
    "and prepare yourself to look at relationships between variables."
   ]
  },
  {
   "cell_type": "markdown",
   "metadata": {},
   "source": [
    "The novel Sars-CoV-2 virus spread all over the world in only a few months. It is still not clear what the exact mortality rate of Covid-19 is. Covid-19 is the loung desease caused by the Sars-CoV-2 virus. We will use the data collected by John Hopkins University on confirmed cases and deaths of Covid-19. Dividing the fatal cases of a country for the most recent available date by the confirmed cases of the same country and date gives a mortality rate. This rate may be far from reality, as the confirmed cases of Covid-19 may not necessarily correspond to the actual number of cases. This also applies to the number of deaths caused by Covid-19. Different countries and regions have different rules as to when a death is included in the statistics of deaths caused by Covid-19. Furhermore, the number of known Covid-19 infections for a country depends on the number of tests performed. The more a country tests, the closer the number of confirmed infections should be to the actual number of infections present. When the decentrally collected figures are combined, delays or individual errors may introduce further uncertainties into the statistics. In the following graphic the mortality rate of Covid-19 is depicted for the 10 countries with the highest amount of infections based on data gathered by the John Hopkins University."
   ]
  },
  {
   "cell_type": "code",
   "execution_count": null,
   "metadata": {},
   "outputs": [],
   "source": [
    "# Add all data up to one dataframe\n",
    "\n",
    "# Get current data of Covid cases without history\n",
    "df_covidCases_today = df_covidCases_Timeline.query('date >= @yesterday')\n",
    "\n",
    "# Merge addtional info\n",
    "df_countryMetrics_Snapshot.drop(['Unnamed: 0', 'iso_code'], axis=1, inplace=True)\n",
    "df_covidCases_today = pd.merge(df_covidCases_today, df_countryMetrics_Snapshot, on=['country'])\n",
    "\n",
    "df_covidTests_Snapshot.drop(['Unnamed: 0', 'ISO code', 'date'], axis=1, inplace=True)\n",
    "df_covidCases_today = pd.merge(df_covidCases_today, df_covidTests_Snapshot, on=['country'])\n",
    "\n",
    "df_hospitals_Snapshot.drop(['Unnamed: 0', 'continent'], axis=1, inplace=True)\n",
    "df_covidCases_today = pd.merge(df_covidCases_today, df_hospitals_Snapshot, on=['country'])\n",
    "\n",
    "df_covidCases_today.drop(['Unnamed: 0'], axis=1, inplace=True)"
   ]
  },
  {
   "cell_type": "code",
   "execution_count": 53,
   "metadata": {},
   "outputs": [],
   "source": [
    "# Feature Engineering\n",
    "\n",
    "# Create column fatal per confirmed\n",
    "df_covidCases_today['fatalPerConfirmed'] = df_covidCases_today.fatal / df_covidCases_today.confirmed\n",
    "\n",
    "# Create column deaths per 10,000 population\n",
    "df_covidCases_today['fatalPerPopulation'] = df_covidCases_today.fatal * () / df_covidCases_today.population\n"
   ]
  },
  {
   "cell_type": "code",
   "execution_count": 48,
   "metadata": {},
   "outputs": [],
   "source": [
    "# Set color palette to just one\n",
    "base_color = sb.color_palette()[0]"
   ]
  },
  {
   "cell_type": "code",
   "execution_count": 54,
   "metadata": {},
   "outputs": [
    {
     "data": {
      "text/html": [
       "<div>\n",
       "<style scoped>\n",
       "    .dataframe tbody tr th:only-of-type {\n",
       "        vertical-align: middle;\n",
       "    }\n",
       "\n",
       "    .dataframe tbody tr th {\n",
       "        vertical-align: top;\n",
       "    }\n",
       "\n",
       "    .dataframe thead th {\n",
       "        text-align: right;\n",
       "    }\n",
       "</style>\n",
       "<table border=\"1\" class=\"dataframe\">\n",
       "  <thead>\n",
       "    <tr style=\"text-align: right;\">\n",
       "      <th></th>\n",
       "      <th>country</th>\n",
       "      <th>date</th>\n",
       "      <th>fatal</th>\n",
       "      <th>confirmed</th>\n",
       "      <th>recovered</th>\n",
       "      <th>iso_code</th>\n",
       "      <th>continent</th>\n",
       "      <th>population</th>\n",
       "      <th>population_density</th>\n",
       "      <th>median_age</th>\n",
       "      <th>...</th>\n",
       "      <th>male_smokers</th>\n",
       "      <th>hospital_beds_per_100k</th>\n",
       "      <th>Cumulative total</th>\n",
       "      <th>Cumulative total per thousand</th>\n",
       "      <th>hospital_beds_per_1000_people</th>\n",
       "      <th>occupancy</th>\n",
       "      <th>ICU-CCB_beds_per_1000_people</th>\n",
       "      <th>ventilators</th>\n",
       "      <th>fatalPerConfirmed</th>\n",
       "      <th>fatalPerPopulation</th>\n",
       "    </tr>\n",
       "  </thead>\n",
       "  <tbody>\n",
       "    <tr>\n",
       "      <th>0</th>\n",
       "      <td>Netherlands</td>\n",
       "      <td>2020-05-17</td>\n",
       "      <td>5699</td>\n",
       "      <td>44195</td>\n",
       "      <td>167</td>\n",
       "      <td>NLD</td>\n",
       "      <td>Europe</td>\n",
       "      <td>17134873</td>\n",
       "      <td>508.544</td>\n",
       "      <td>43.2</td>\n",
       "      <td>...</td>\n",
       "      <td>27.3</td>\n",
       "      <td>3.32</td>\n",
       "      <td>287943</td>\n",
       "      <td>16.805</td>\n",
       "      <td>3.32</td>\n",
       "      <td>65.4</td>\n",
       "      <td>6.4</td>\n",
       "      <td>NaN</td>\n",
       "      <td>0.128951</td>\n",
       "      <td>0.000333</td>\n",
       "    </tr>\n",
       "    <tr>\n",
       "      <th>1</th>\n",
       "      <td>New Zealand</td>\n",
       "      <td>2020-05-17</td>\n",
       "      <td>21</td>\n",
       "      <td>1499</td>\n",
       "      <td>1433</td>\n",
       "      <td>NZL</td>\n",
       "      <td>Oceania</td>\n",
       "      <td>4822233</td>\n",
       "      <td>18.206</td>\n",
       "      <td>37.9</td>\n",
       "      <td>...</td>\n",
       "      <td>17.2</td>\n",
       "      <td>2.61</td>\n",
       "      <td>223937</td>\n",
       "      <td>46.438</td>\n",
       "      <td>2.71</td>\n",
       "      <td>NaN</td>\n",
       "      <td>4.6</td>\n",
       "      <td>334.0</td>\n",
       "      <td>0.014009</td>\n",
       "      <td>0.000004</td>\n",
       "    </tr>\n",
       "    <tr>\n",
       "      <th>2</th>\n",
       "      <td>Norway</td>\n",
       "      <td>2020-05-17</td>\n",
       "      <td>232</td>\n",
       "      <td>8249</td>\n",
       "      <td>32</td>\n",
       "      <td>NOR</td>\n",
       "      <td>Europe</td>\n",
       "      <td>5421242</td>\n",
       "      <td>14.462</td>\n",
       "      <td>39.7</td>\n",
       "      <td>...</td>\n",
       "      <td>20.7</td>\n",
       "      <td>3.60</td>\n",
       "      <td>216350</td>\n",
       "      <td>39.908</td>\n",
       "      <td>3.60</td>\n",
       "      <td>80.7</td>\n",
       "      <td>8.0</td>\n",
       "      <td>800.0</td>\n",
       "      <td>0.028125</td>\n",
       "      <td>0.000043</td>\n",
       "    </tr>\n",
       "    <tr>\n",
       "      <th>3</th>\n",
       "      <td>Poland</td>\n",
       "      <td>2020-05-17</td>\n",
       "      <td>925</td>\n",
       "      <td>18529</td>\n",
       "      <td>7451</td>\n",
       "      <td>POL</td>\n",
       "      <td>Europe</td>\n",
       "      <td>37846605</td>\n",
       "      <td>124.027</td>\n",
       "      <td>41.8</td>\n",
       "      <td>...</td>\n",
       "      <td>33.1</td>\n",
       "      <td>6.62</td>\n",
       "      <td>576276</td>\n",
       "      <td>15.227</td>\n",
       "      <td>6.62</td>\n",
       "      <td>NaN</td>\n",
       "      <td>6.9</td>\n",
       "      <td>10100.0</td>\n",
       "      <td>0.049922</td>\n",
       "      <td>0.000024</td>\n",
       "    </tr>\n",
       "    <tr>\n",
       "      <th>4</th>\n",
       "      <td>Portugal</td>\n",
       "      <td>2020-05-17</td>\n",
       "      <td>1218</td>\n",
       "      <td>29036</td>\n",
       "      <td>4636</td>\n",
       "      <td>PRT</td>\n",
       "      <td>Europe</td>\n",
       "      <td>10196707</td>\n",
       "      <td>112.371</td>\n",
       "      <td>46.2</td>\n",
       "      <td>...</td>\n",
       "      <td>30.0</td>\n",
       "      <td>3.39</td>\n",
       "      <td>600061</td>\n",
       "      <td>58.849</td>\n",
       "      <td>3.39</td>\n",
       "      <td>66.8</td>\n",
       "      <td>4.2</td>\n",
       "      <td>1400.0</td>\n",
       "      <td>0.041948</td>\n",
       "      <td>0.000119</td>\n",
       "    </tr>\n",
       "    <tr>\n",
       "      <th>5</th>\n",
       "      <td>Latvia</td>\n",
       "      <td>2020-05-17</td>\n",
       "      <td>19</td>\n",
       "      <td>1008</td>\n",
       "      <td>662</td>\n",
       "      <td>LVA</td>\n",
       "      <td>Europe</td>\n",
       "      <td>1886202</td>\n",
       "      <td>31.212</td>\n",
       "      <td>43.9</td>\n",
       "      <td>...</td>\n",
       "      <td>51.0</td>\n",
       "      <td>5.57</td>\n",
       "      <td>87377</td>\n",
       "      <td>46.324</td>\n",
       "      <td>5.57</td>\n",
       "      <td>71.1</td>\n",
       "      <td>9.7</td>\n",
       "      <td>NaN</td>\n",
       "      <td>0.018849</td>\n",
       "      <td>0.000010</td>\n",
       "    </tr>\n",
       "    <tr>\n",
       "      <th>6</th>\n",
       "      <td>Lithuania</td>\n",
       "      <td>2020-05-17</td>\n",
       "      <td>56</td>\n",
       "      <td>1541</td>\n",
       "      <td>997</td>\n",
       "      <td>LTU</td>\n",
       "      <td>Europe</td>\n",
       "      <td>2722291</td>\n",
       "      <td>45.135</td>\n",
       "      <td>43.5</td>\n",
       "      <td>...</td>\n",
       "      <td>38.0</td>\n",
       "      <td>6.56</td>\n",
       "      <td>224040</td>\n",
       "      <td>82.298</td>\n",
       "      <td>6.56</td>\n",
       "      <td>73.2</td>\n",
       "      <td>15.5</td>\n",
       "      <td>1000.0</td>\n",
       "      <td>0.036340</td>\n",
       "      <td>0.000021</td>\n",
       "    </tr>\n",
       "    <tr>\n",
       "      <th>7</th>\n",
       "      <td>Luxembourg</td>\n",
       "      <td>2020-05-17</td>\n",
       "      <td>107</td>\n",
       "      <td>3945</td>\n",
       "      <td>3702</td>\n",
       "      <td>LUX</td>\n",
       "      <td>Europe</td>\n",
       "      <td>625976</td>\n",
       "      <td>231.447</td>\n",
       "      <td>39.7</td>\n",
       "      <td>...</td>\n",
       "      <td>26.0</td>\n",
       "      <td>4.51</td>\n",
       "      <td>60246</td>\n",
       "      <td>96.243</td>\n",
       "      <td>4.66</td>\n",
       "      <td>70.7</td>\n",
       "      <td>24.8</td>\n",
       "      <td>NaN</td>\n",
       "      <td>0.027123</td>\n",
       "      <td>0.000171</td>\n",
       "    </tr>\n",
       "    <tr>\n",
       "      <th>8</th>\n",
       "      <td>Mexico</td>\n",
       "      <td>2020-05-17</td>\n",
       "      <td>5177</td>\n",
       "      <td>49219</td>\n",
       "      <td>33329</td>\n",
       "      <td>MEX</td>\n",
       "      <td>North America</td>\n",
       "      <td>128932753</td>\n",
       "      <td>66.444</td>\n",
       "      <td>29.3</td>\n",
       "      <td>...</td>\n",
       "      <td>21.4</td>\n",
       "      <td>1.38</td>\n",
       "      <td>134663</td>\n",
       "      <td>1.044</td>\n",
       "      <td>1.38</td>\n",
       "      <td>74.0</td>\n",
       "      <td>1.2</td>\n",
       "      <td>2050.0</td>\n",
       "      <td>0.105183</td>\n",
       "      <td>0.000040</td>\n",
       "    </tr>\n",
       "    <tr>\n",
       "      <th>9</th>\n",
       "      <td>Turkey</td>\n",
       "      <td>2020-05-17</td>\n",
       "      <td>4140</td>\n",
       "      <td>149435</td>\n",
       "      <td>109962</td>\n",
       "      <td>TUR</td>\n",
       "      <td>Asia</td>\n",
       "      <td>84339067</td>\n",
       "      <td>104.914</td>\n",
       "      <td>31.6</td>\n",
       "      <td>...</td>\n",
       "      <td>41.1</td>\n",
       "      <td>2.81</td>\n",
       "      <td>1589625</td>\n",
       "      <td>18.848</td>\n",
       "      <td>2.81</td>\n",
       "      <td>68.0</td>\n",
       "      <td>46.5</td>\n",
       "      <td>17000.0</td>\n",
       "      <td>0.027704</td>\n",
       "      <td>0.000049</td>\n",
       "    </tr>\n",
       "  </tbody>\n",
       "</table>\n",
       "<p>10 rows × 25 columns</p>\n",
       "</div>"
      ],
      "text/plain": [
       "       country       date  fatal  confirmed  recovered iso_code  \\\n",
       "0  Netherlands 2020-05-17   5699      44195        167      NLD   \n",
       "1  New Zealand 2020-05-17     21       1499       1433      NZL   \n",
       "2       Norway 2020-05-17    232       8249         32      NOR   \n",
       "3       Poland 2020-05-17    925      18529       7451      POL   \n",
       "4     Portugal 2020-05-17   1218      29036       4636      PRT   \n",
       "5       Latvia 2020-05-17     19       1008        662      LVA   \n",
       "6    Lithuania 2020-05-17     56       1541        997      LTU   \n",
       "7   Luxembourg 2020-05-17    107       3945       3702      LUX   \n",
       "8       Mexico 2020-05-17   5177      49219      33329      MEX   \n",
       "9       Turkey 2020-05-17   4140     149435     109962      TUR   \n",
       "\n",
       "       continent  population  population_density  median_age  ...  \\\n",
       "0         Europe    17134873             508.544        43.2  ...   \n",
       "1        Oceania     4822233              18.206        37.9  ...   \n",
       "2         Europe     5421242              14.462        39.7  ...   \n",
       "3         Europe    37846605             124.027        41.8  ...   \n",
       "4         Europe    10196707             112.371        46.2  ...   \n",
       "5         Europe     1886202              31.212        43.9  ...   \n",
       "6         Europe     2722291              45.135        43.5  ...   \n",
       "7         Europe      625976             231.447        39.7  ...   \n",
       "8  North America   128932753              66.444        29.3  ...   \n",
       "9           Asia    84339067             104.914        31.6  ...   \n",
       "\n",
       "   male_smokers  hospital_beds_per_100k  Cumulative total  \\\n",
       "0          27.3                    3.32            287943   \n",
       "1          17.2                    2.61            223937   \n",
       "2          20.7                    3.60            216350   \n",
       "3          33.1                    6.62            576276   \n",
       "4          30.0                    3.39            600061   \n",
       "5          51.0                    5.57             87377   \n",
       "6          38.0                    6.56            224040   \n",
       "7          26.0                    4.51             60246   \n",
       "8          21.4                    1.38            134663   \n",
       "9          41.1                    2.81           1589625   \n",
       "\n",
       "   Cumulative total per thousand  hospital_beds_per_1000_people  occupancy  \\\n",
       "0                         16.805                           3.32       65.4   \n",
       "1                         46.438                           2.71        NaN   \n",
       "2                         39.908                           3.60       80.7   \n",
       "3                         15.227                           6.62        NaN   \n",
       "4                         58.849                           3.39       66.8   \n",
       "5                         46.324                           5.57       71.1   \n",
       "6                         82.298                           6.56       73.2   \n",
       "7                         96.243                           4.66       70.7   \n",
       "8                          1.044                           1.38       74.0   \n",
       "9                         18.848                           2.81       68.0   \n",
       "\n",
       "   ICU-CCB_beds_per_1000_people  ventilators  fatalPerConfirmed  \\\n",
       "0                           6.4          NaN           0.128951   \n",
       "1                           4.6        334.0           0.014009   \n",
       "2                           8.0        800.0           0.028125   \n",
       "3                           6.9      10100.0           0.049922   \n",
       "4                           4.2       1400.0           0.041948   \n",
       "5                           9.7          NaN           0.018849   \n",
       "6                          15.5       1000.0           0.036340   \n",
       "7                          24.8          NaN           0.027123   \n",
       "8                           1.2       2050.0           0.105183   \n",
       "9                          46.5      17000.0           0.027704   \n",
       "\n",
       "   fatalPerPopulation  \n",
       "0            0.000333  \n",
       "1            0.000004  \n",
       "2            0.000043  \n",
       "3            0.000024  \n",
       "4            0.000119  \n",
       "5            0.000010  \n",
       "6            0.000021  \n",
       "7            0.000171  \n",
       "8            0.000040  \n",
       "9            0.000049  \n",
       "\n",
       "[10 rows x 25 columns]"
      ]
     },
     "execution_count": 54,
     "metadata": {},
     "output_type": "execute_result"
    }
   ],
   "source": [
    "df_covidCases_today.head(10)"
   ]
  },
  {
   "cell_type": "code",
   "execution_count": 49,
   "metadata": {},
   "outputs": [
    {
     "data": {
      "image/png": "[encoded data removed]",
      "text/plain": [
       "<Figure size 864x432 with 1 Axes>"
      ]
     },
     "metadata": {
      "needs_background": "light"
     },
     "output_type": "display_data"
    }
   ],
   "source": [
    "# Define figure size\n",
    "plt.figure(figsize=[12,6])\n",
    "\n",
    "# Plot barplot with 10 countries of most cases \n",
    "sb.barplot(data=df_covidCases_today.sort_values('confirmed', ascending=False).head(10), \n",
    "           x='confirmed', y='country', color = base_color )\n",
    "\n",
    "# Set grid for better comparibility\n",
    "sb.set(style=\"whitegrid\")\n",
    "\n",
    "# Write lables and header\n",
    "plt.xlabel('Fatal cases per confirmed cases')\n",
    "plt.ylabel('Country');\n",
    "plt.title('Confirmed cases of Covid-19')  # <-- how can I put variable 'today' hier?\n",
    "\n",
    "#axes = plt.gca()\n",
    "#axes.set_xlim([0,160])\n",
    "#axes.set_ylim([0,160])\n",
    "\n",
    "plt.show()"
   ]
  },
  {
   "cell_type": "code",
   "execution_count": 58,
   "metadata": {},
   "outputs": [
    {
     "data": {
      "image/png": "[encoded data removed]",
      "text/plain": [
       "<Figure size 864x432 with 1 Axes>"
      ]
     },
     "metadata": {},
     "output_type": "display_data"
    }
   ],
   "source": [
    "# Define figure size\n",
    "plt.figure(figsize=[12,6])\n",
    "\n",
    "# Plot barplot with 10 countries of most cases \n",
    "sb.barplot(data=df_covidCases_today.sort_values('confirmed', ascending=False).head(10), \n",
    "           x='fatalPerPopulation', y='country', color = base_color )\n",
    "\n",
    "# Set grid for better comparibility\n",
    "sb.set(style=\"whitegrid\")\n",
    "\n",
    "# Write lables and header\n",
    "plt.xlabel('Fatal cases per population size')\n",
    "plt.ylabel('Country');\n",
    "plt.title('Fatals related to Covid-19 per population')\n",
    "\n",
    "#axes = plt.gca()\n",
    "#axes.set_xlim([0,160])\n",
    "#axes.set_ylim([0,160])\n",
    "\n",
    "plt.show()"
   ]
  },
  {
   "cell_type": "code",
   "execution_count": 59,
   "metadata": {},
   "outputs": [
    {
     "data": {
      "image/png": "[encoded data removed]",
      "text/plain": [
       "<Figure size 864x432 with 1 Axes>"
      ]
     },
     "metadata": {},
     "output_type": "display_data"
    }
   ],
   "source": [
    "# Define figure size\n",
    "plt.figure(figsize=[12,6])\n",
    "\n",
    "# Plot barplot with 10 countries of most cases \n",
    "sb.barplot(data=df_covidCases_today.sort_values('confirmed', ascending=False).head(10), \n",
    "           x='fatalPerConfirmed', y='country', color = base_color )\n",
    "\n",
    "# Set grid for better comparibility\n",
    "sb.set(style=\"whitegrid\")\n",
    "\n",
    "# Write lables and header\n",
    "plt.xlabel('Fatal cases per confirmed cases')\n",
    "plt.ylabel('Country');\n",
    "plt.title('Mortality rate per country')\n",
    "\n",
    "#axes = plt.gca()\n",
    "#axes.set_xlim([0,160])\n",
    "#axes.set_ylim([0,160])\n",
    "\n",
    "plt.show()\n"
   ]
  },
  {
   "cell_type": "markdown",
   "metadata": {},
   "source": [
    "The mortality rate depends on a lot of different factors like age, healthcare system of the country, \n",
    "\n"
   ]
  },
  {
   "cell_type": "code",
   "execution_count": null,
   "metadata": {},
   "outputs": [],
   "source": [
    "\n",
    "\n",
    "\n"
   ]
  },
  {
   "cell_type": "code",
   "execution_count": 51,
   "metadata": {},
   "outputs": [],
   "source": [
    "# covid deaths per x inhabitants\n",
    "# death rates\n"
   ]
  },
  {
   "cell_type": "markdown",
   "metadata": {},
   "source": [
    "> Make sure that, after every plot or related series of plots, that you\n",
    "include a Markdown cell with comments about what you observed, and what\n",
    "you plan on investigating next.\n",
    "\n",
    "> Price has a long-tailed distribution, with a lot of diamonds on the low price end, and few on the high price end. When plotted on a log-scale, the price distribution looks roughly bimodal, with one peak between 500 and 1000, and a second peak a little below 5000. Interestingly, there's a steep jump in frequency right before 2000, rather than a smooth ramp up.\n",
    "Next up, the first predictor variable of interest: carat."
   ]
  },
  {
   "cell_type": "markdown",
   "metadata": {},
   "source": [
    "> The cut quality of the diamonds in the dataset is generally quite good, with most of them in the Premium or Ideal level. Most of the diamonds are also of color quality G or better. Clarity, shows a trend opposite from the other two features, with most of the diamonds on the lower end of the scale, at VS2 or worse. Clarity grades become rarer as steps are taken up the scale.\n",
    "I'll now look at the other features in the data to see if any of them hold interesting properties.\n",
    "\n",
    "> The initial plot of the x, y, and z features show some immediate points of attention. On the y and z plots, most of the data is set to the far left of their axes, suggesting some strong outliers on the right. The left limits of all three plots also suggest that there are some points that take unusually small values. It's worth taking a bit of time to identify these outliers and see if they need to be filtered out of the data."
   ]
  },
  {
   "cell_type": "markdown",
   "metadata": {},
   "source": [
    "### Discuss the distribution(s) of your variable(s) of interest. Were there any unusual points? Did you need to perform any transformations?\n",
    "\n",
    "> The price variable took on a large range of values, so I looked at the data using a log transform. Under the transformation, the data looked bimodal, with one peak between $500 and $1000, and another just below $5000.\n",
    "\n",
    "### Of the features you investigated, were there any unusual distributions? Did you perform any operations on the data to tidy, adjust, or change the form of the data? If so, why did you do this?\n",
    "\n",
    "> When investigating the x, y, and z size variables, a number of outlier points were identified. Overall, these points can be characterized by an inconsistency between the recorded value of depth, and the value that would be derived from using x, y, and z. For safety, all of these points were removed from the dataset to move forwards."
   ]
  },
  {
   "cell_type": "markdown",
   "metadata": {},
   "source": [
    "## Bivariate Exploration\n",
    "\n",
    "> In this section, investigate relationships between pairs of variables in your\n",
    "data. Make sure the variables that you cover here have been introduced in some\n",
    "fashion in the previous section (univariate exploration).\n",
    "\n",
    "> To start off with, I want to look at the pairwise correlations present between features in the data."
   ]
  },
  {
   "cell_type": "code",
   "execution_count": null,
   "metadata": {},
   "outputs": [],
   "source": []
  },
  {
   "cell_type": "markdown",
   "metadata": {},
   "source": [
    "> As expected, the 'x', 'y', and 'z' dimensions are all highly correlated with one another, and all of them are also highly correlated with carat. Since carat is a measure of diamond size, it's not too surprising that the overall trend between carat and the three individual dimensions appears polynomial. In addition, since all the diamonds are round-cut, it makes sense that the 'x', 'y', and 'z' sizes would all move proportionally together.\n",
    "Surprisingly, the correlation coefficient between price and carat is very high, despite the fact that price has such a large range of values. This will be worth extra exploration in this section. Depth and table don't have strong correlations with any other numeric variables in the dataset, and we see the moderate negative correlation hypothesized in the previous section. I won't perform any further analyses with these variables since they don't look like they'll be of much further interest.\n",
    "Let's move on to looking at how price and carat weight correlate with the categorical variables.\n",
    "\n",
    "> Interestingly, it appears that there are some negative relationships between the categorical variables and the two numeric variables of interest. The diamonds with the best features (Ideal cut, color D, clarity IF) seem to get the lowest prices, but also tend to be smaller on average. This will be worth investigating more later on, using the full data.\n",
    "Finally, let's look at relationships between the three categorical features.\n",
    "\n",
    "> There doesn't seem to be that much interaction between diamond color and cut, though proportionally it seems like there might be more \"Very Good\" and \"Premium\" diamonds on the better color grades (F, E, and D). There are slightly larger interactions on the clarity grades, especially the lower levels of SI2, SI1, and VS2. It looks like there are more Very Good and Premium cut diamonds and more G, F, and E color diamonds compared to higher clarity grades.\n",
    "With the preliminary look at bivariate relationships out of the way, I want to dig into some of the relationships more. First, I want to see how price and carat are related to one another for all of the data, and to plot price on a log scale.\n",
    "\n"
   ]
  },
  {
   "cell_type": "markdown",
   "metadata": {},
   "source": [
    "### Talk about some of the relationships you observed in this part of the investigation. How did the feature(s) of interest vary with other features in the dataset?\n",
    "\n",
    "> Price had a surprisingly high amount of correlation with the diamond size, even before transforming the features. An approximately linear relationship was observed when price was plotted on a log scale and carat was plotted with a cube-root transform. The scatterplot that came out of this also suggested that there was an upper bound on the diamond prices available in the dataset, since the range of prices for the largest diamonds was much narrower than would have been expected, based on the price ranges of smaller diamonds.\n",
    "There was also an interesting relationship observed between price and the categorical features. For all of cut, color, and clarity, lower prices were associated with increasing quality. One of the potentially major interacting factors is the fact that improved quality levels were also associated with smaller diamonds. This will have to be explored further in the next section.\n",
    "\n",
    "### Did you observe any interesting relationships between the other features (not the main feature(s) of interest)?\n",
    "\n",
    "> Expected relationships were found in the association between the 'x', 'y', and 'z' measurements of diamonds to the other linear dimensions as well as to the 'carat' variable. A small negative correlation was observed between table size and depth, but neither of these variables show a strong correlation with price, so they won't be explored further. There was also a small interaction in the categorical quality features. Diamonds of lower clarity appear to have slightly better cut and color grades."
   ]
  },
  {
   "cell_type": "markdown",
   "metadata": {},
   "source": [
    "## Multivariate Exploration\n",
    "\n",
    "> Create plots of three or more variables to investigate your data even\n",
    "further. Make sure that your investigations are justified, and follow from\n",
    "your work in the previous sections.\n",
    "\n",
    "> The main thing I want to explore in this part of the analysis is how the three categorical measures of quality play into the relationship between price and carat."
   ]
  },
  {
   "cell_type": "code",
   "execution_count": 52,
   "metadata": {},
   "outputs": [
    {
     "ename": "SyntaxError",
     "evalue": "invalid syntax (<ipython-input-52-a6c5526cc9de>, line 2)",
     "output_type": "error",
     "traceback": [
      "\u001b[0;36m  File \u001b[0;32m\"<ipython-input-52-a6c5526cc9de>\"\u001b[0;36m, line \u001b[0;32m2\u001b[0m\n\u001b[0;31m    sb.countplot(data=df_countryMetrics_Snapshot, x=)\u001b[0m\n\u001b[0m                                                    ^\u001b[0m\n\u001b[0;31mSyntaxError\u001b[0m\u001b[0;31m:\u001b[0m invalid syntax\n"
     ]
    }
   ],
   "source": [
    "# households for each nordic country\n",
    "#sb.countplot(data=df_countryMetrics_Snapshot, x=)\n",
    "\n"
   ]
  },
  {
   "cell_type": "markdown",
   "metadata": {},
   "source": [
    "### Talk about some of the relationships you observed in this part of the investigation. Were there features that strengthened each other in terms of looking at your feature(s) of interest?\n",
    "\n",
    "> I extended my investigation of price against diamond size in this section by looking at the impact of the three categorical quality features. The multivariate exploration here showed that there indeed is a positive effect of increased quality grade on diamond price, but in the dataset, this is initially hidden by the fact that higher grades were more prevalent in smaller diamonds, which fetch lower prices overall. Controlling for the carat weight of a diamond shows the effect of the other C's of diamonds more clearly. This effect was clearest for the color and clarity variables, with less systematic trends for cut.\n",
    "\n",
    "### Were there any interesting or surprising interactions between features?\n",
    "\n",
    "> Looking back on the point plots, it doesn't seem like there's a systematic interaction effect between the three categorical features. However, the features also aren't fully independent. But it is interesting in something like the 1-carat plot for prices against cut and clarity, the shape of the 'cut' dots is fairly similar for the SI2 through VVS2 clarity levels."
   ]
  },
  {
   "cell_type": "markdown",
   "metadata": {},
   "source": [
    "> At the end of your report, make sure that you export the notebook as an\n",
    "html file from the `File > Download as... > HTML` menu. Make sure you keep\n",
    "track of where the exported file goes, so you can put it in the same folder\n",
    "as this notebook for project submission. Also, make sure you remove all of\n",
    "the quote-formatted guide notes like this one before you finish your report!"
   ]
  },
  {
   "cell_type": "code",
   "execution_count": null,
   "metadata": {},
   "outputs": [],
   "source": []
  },
  {
   "cell_type": "code",
   "execution_count": null,
   "metadata": {},
   "outputs": [],
   "source": [
    "# cited from: https://www.rrighart.com/blog-covid19/a-jupyter-notebook-for-visualizing-the-covid-19-pandemic\n",
    "\n",
    "    \n",
    "    if pop == 'area' or pop == 'inhabitants': \n",
    "        dat[pop] = dat[pop].div(number)\n",
    "        dat['yvalue'] = dat['metric'].div(dat[pop])\n",
    "    else: dat['yvalue'] = dat['metric'].copy() \n",
    "    \n",
    "    dat = dat[(dat['date']>=date1) & (dat['date']<=date2)]\n",
    "    colors = mpl.cm.tab20(np.linspace(0,1,len(countries)))\n",
    "    plt.figure(figsize = (16, 8))\n",
    "\n",
    "    countries = list(dat.loc[(dat['Country/Region'].isin(countries)) & (dat['date']==dat['date'].max()), ['Country/Region', 'yvalue']].sort_values(by='yvalue', ascending=False)['Country/Region'])\n",
    "    \n",
    "    for i,j in zip(countries, np.arange(0,len(countries))):\n",
    "        plt.plot(dat[dat['Country/Region'] == i]['date'], dat[dat['Country/Region'] == i]['yvalue'], label=i, marker='o', color=colors[j])\n",
    "    plt.xticks(rotation='vertical')\n",
    "    plt.ylabel('Number of '+filename+' Cases')\n",
    "    plt.title(title, fontsize=16)\n",
    "   \n",
    "    plt.legend()\n",
    "    plt.savefig('covid.png')"
   ]
  }
 ],
 "metadata": {
  "kernelspec": {
   "display_name": "Python 3",
   "language": "python",
   "name": "python3"
  },
  "language_info": {
   "codemirror_mode": {
    "name": "ipython",
    "version": 3
   },
   "file_extension": ".py",
   "mimetype": "text/x-python",
   "name": "python",
   "nbconvert_exporter": "python",
   "pygments_lexer": "ipython3",
   "version": "3.7.7"
  }
 },
 "nbformat": 4,
 "nbformat_minor": 2
}
