{
 "cells": [
  {
   "cell_type": "markdown",
   "metadata": {},
   "source": [
    "# Data exploration regarding strategies to deal with the Covid-19 outbreak\n",
    "## by Leopold Walther\n",
    "\n",
    "## Preliminary Wrangling\n",
    "\n",
    "The main question which made me start the analysis is: What is the best strategy for a state to battle the Covid-19 outbreak. There are several debates on how to act on overcoming this global pandemic. \n",
    "There is broad agreement that the spread of the virus can only be contained in the long term by functioning vaccines. We do not know today how long it will take until a vaccine is available sufficient amount. Nor do we know whether this vaccine, which was developed based on viruses isolated today, will cover all future mutations of the virus. So how do we deal with the virus while there is no vaccine yet? Are we going to stop the population from being infected with the virus by taking tough measures to prevent the number of serious cases of disease, deaths and the collapse of the health system? Measures such as shutdowns, however, in turn have a strong impact on the economy. Another approach is to achieve herd immunity without a vaccine. There are first indications that people who have survived the disease develop immunity. If 66% of the population develops such immunity, the spread of Covid-19 can be contained. But here again, the probability of the virus mutating increases with the number of people infected. People who were immune to an older version of the disease may reinfect themselves with a sufficiently mutated version. \n",
    "There are goverments that want to prevent overburdening of the health system through the lockdown like the spanish or german, while other countries rely on the responsibility of the individual without major restrictions, namely the swedish. Futhermore, there are governments that evaluate the economic damage through a lockdown more dramatically than the effects of the virus itself. Data was gathered from Wikipedia, Gapminder and the John Hopkins University. The amount of confirmed cases of Covid-19, deaths and recovered of the John Hopkins Data paired with information like intensive care beds retrieved from wikipedia ist the basis of this analysis. With this data the outbreaks timelines of different countries can be compared in the context of their strategies."
   ]
  },
  {
   "cell_type": "code",
   "execution_count": 1,
   "metadata": {},
   "outputs": [],
   "source": [
    "# One dimensional\n",
    "    #Countries with highest death rates (bar chart) --> what is real death rate?\n",
    "    #\n",
    "\n",
    "# Two dimensional\n",
    "    # Corona Virus Cases overt time per country line? (umeric discrecte vs numeric continouos) --> zoom in on not extreme countries\n",
    "    # R-factor of countries over time\n",
    "    # monthly/weekly deaths compared to \"normal years\" --> Sweden compared to other nordic countries\n",
    "\n",
    "# Multi dimensional\n",
    "    # comparison of share of single person households, share of population over 65, \n",
    "        #population per sqm, percentage living in cities, diabetes\n",
    "        # Heatmap Countries cases?? https://medium.com/@tomaspueyo/coronavirus-learning-how-to-dance-b8420170203e\n",
    "        \n",
    "# other constructions\n",
    "    # How long would it last to make 2/3 immun without vaccine? -->\n",
    "    # Minimum Deaths when all infected and no vaccine, but enough medical care vs maximum death when hospitals overhelmed\n",
    "\n"
   ]
  },
  {
   "cell_type": "markdown",
   "metadata": {},
   "source": [
    "Import Packages for visual exploration:"
   ]
  },
  {
   "cell_type": "code",
   "execution_count": 2,
   "metadata": {},
   "outputs": [],
   "source": [
    "# import all packages and set plots to be embedded inline\n",
    "import numpy as np\n",
    "import pandas as pd\n",
    "from datetime import date\n",
    "from datetime import timedelta\n",
    "import matplotlib as mpl\n",
    "import matplotlib.pyplot as plt\n",
    "import matplotlib.patches as mpatches\n",
    "%matplotlib inline\n",
    "import seaborn as sb"
   ]
  },
  {
   "cell_type": "markdown",
   "metadata": {},
   "source": [
    "Load dataset, prepared in gather_clean_Covid19:"
   ]
  },
  {
   "cell_type": "code",
   "execution_count": 3,
   "metadata": {},
   "outputs": [],
   "source": [
    "# Read Covid-19 data from csv\n",
    "df_covidCases_Timeline = pd.read_csv('outputData/df_covidCases_Timeline.csv')\n",
    "df_covidTests_Snapshot = pd.read_csv('outputData/df_covidTests_Snapshot.csv')\n",
    "df_countryMetrics_Snapshot = pd.read_csv('outputData/df_countryMetrics_Snapshot.csv')\n",
    "df_householdsEU_Timeline = pd.read_csv('outputData/df_householdsEU_Timeline.csv')\n",
    "df_hospitals_Snapshot = pd.read_csv('outputData/df_hospitals_Snapshot.csv')\n",
    "df_populationDelta_Timeline = pd.read_csv('outputData/df_populationDelta_Timeline.csv')"
   ]
  },
  {
   "cell_type": "code",
   "execution_count": 4,
   "metadata": {},
   "outputs": [],
   "source": [
    "# Datatype datetime gets lost with write & read csv\n",
    "df_covidCases_Timeline.date=pd.to_datetime(df_covidCases_Timeline.date)"
   ]
  },
  {
   "cell_type": "code",
   "execution_count": 5,
   "metadata": {},
   "outputs": [
    {
     "data": {
      "text/plain": [
       "Unnamed: 0             int64\n",
       "country               object\n",
       "date          datetime64[ns]\n",
       "fatal                  int64\n",
       "confirmed              int64\n",
       "recovered              int64\n",
       "iso_code              object\n",
       "dtype: object"
      ]
     },
     "execution_count": 5,
     "metadata": {},
     "output_type": "execute_result"
    }
   ],
   "source": [
    "# Check if datatype of date now correct\n",
    "df_covidCases_Timeline.dtypes"
   ]
  },
  {
   "cell_type": "code",
   "execution_count": 6,
   "metadata": {},
   "outputs": [],
   "source": [
    "# Get dates of today and yesterday depending on day script is run\n",
    "\n",
    "#today = pd.to_datetime(date.today())\n",
    "#yesterday = pd.to_datetime(date.today() - timedelta(days=3))\n",
    "\n",
    "# To not have changing graphs every day I will take May 18th as date\n",
    "dateSnapshot = pd.to_datetime('2020-05-17')\n"
   ]
  },
  {
   "cell_type": "markdown",
   "metadata": {},
   "source": [
    "### Structure of your datasets\n",
    "\n",
    "There are six datasets in this analysis. \n",
    "Base of this analysis is the dataset df_covidCases_Timeline containing the data related to the spread of Covid-19 over time. Each row holds the following variables for one country on one date: accumulated confirmed cases of Covid-19, accumulated fatal cases related to Covid-19 and cases recovered from Covid-19. There are 20,475 observations in this dataset on May 18th 2020. This data is gathered by the [John Hopkins University](https://hub.jhu.edu/novel-coronavirus-information/) and daily updated with new observations. All variables but country names are of numeric nature.\n",
    "This dataset is complemented by another dataset df_covidTests_Snapshot by the [Unitversity of Oxford](https://ourworldindata.org/about) tracking tests perfomed by countries. The dataset df_covidTests_Snapshot only contains the most recent values available for 92 countries.\n",
    "Further numeric statistics like population size or area of 207 countries is part of the dataframe df_countryMetrics_Snapshot.\n",
    "The dataframe df_householdsEU_Timeline holds ordinal categorical data regarding the distribution of the population among household sizes. Household sizes, 1 person, 2 persons, 3 persons, 4 persons, 5 persons, 6 persons or more.\n",
    "Further information in numeric form about hospital beds, for example existing intensive care units per countries are in the dataframe df_hospitals_Snapshot.\n",
    "Reference data regarding birth and death rates of countries month wise over the past years is available in df_populationDelta_Timeline. With this data it will be possible to determine the mortality displacement for the year 2020, probably caused by Covid-19 or secondary effects of the pandemic.\n",
    "\n",
    "\n",
    "### What is/are the main feature(s) of interest in your dataset?\n",
    "\n",
    "I'm most interested in figuring out the differences in the spread of Covid-19 among the northern european countries and Germany. These countries have similar cultures, weather and household situations. Therefore I see them fit for a comparison of strategies. How did Sweden perform as a country with very soft measures regarding lockdown against the Covid-19 pandmic compared to the other nordic countries and Germany.\n",
    "\n",
    "### What features in the dataset do you think will help support your investigation into your feature(s) of interest?\n",
    "\n",
    "I expect to see a lower mortality rate among the countries with soon implemented strong measures. The sooner and firmer measures were taken I expect to see a stronger decrease in new cases.\n"
   ]
  },
  {
   "cell_type": "markdown",
   "metadata": {},
   "source": [
    "First of all, what country did take what measure when:\n",
    "\n",
    "- Denmark: \n",
    "    - political measures: since 14 March 2020, ban on meetings for more than ten people.\n",
    "    - school closing: since 14 March 2020 Schools, kindergartens closed.\n",
    "    - further measures: since 14 March 2020 Restaurants, cafés and leisure facilities.\n",
    "    \n",
    "- Germany:\n",
    "    - school closing: since 16 March 2020 Schools, day care centres.\n",
    "    - further measures: since 13 March 2020 major events are forbidden, since 23 March 2020 comprehensive ban on contact, catering businesses (except take-away food and beverages), service companies in the personal hygiene sector (e.g. hairdressers).\n",
    "   \n",
    "- France:\n",
    "    - school closing: since 16 March 2020 schools, universities and day care centres.\n",
    "    - further measures: facilities open to the public were closed down (shops, restaurants, etc.) since 16 March 2020.\n",
    "    \n",
    "- Italy: \n",
    "    - political measures: on 22 February 2020 Friuli-Venezia Giulia was the first Italian region to declare a state of emergency.\n",
    "    - school closing: since 10 March 2020 nationwide schools and universities.\n",
    "    - further measures: on 22 February 2020 the carnival in Venice was prematurely terminated, since 9 March 2020 movement restrictions throughout Italy, since 12 March 2020 closure of all Catholic churches in Rome (Vatican decree).\n",
    "    \n",
    "- Norway:\n",
    "    - school closing: since 13 March 2020 Kindergartens, schools and universities.\n",
    "    \n",
    "- Spain:\n",
    "    - political measures: since 16 March 2020 Emergency. \n",
    "    - further measures: since 16 March 2020, all establishments open to the public (shops, restaurants), except grocery stores and pharmacies.\n",
    "\n",
    "[Wikipedia](https://de.wikipedia.org/wiki/COVID-19-Pandemie#Maßnahmen_in_der_EU)\n",
    "    "
   ]
  },
  {
   "cell_type": "markdown",
   "metadata": {},
   "source": [
    "In the following graphic countries in dark blue have issued a nationwide lockdown, light blue issued decentralistic lockdowns and grey stayed without lockdown (by May 18th 2020)."
   ]
  },
  {
   "cell_type": "markdown",
   "metadata": {},
   "source": [
    "<img src=\"img/COVID-19_Outbreak_lockdowns.svg\"> [Wikipedia](https://de.wikipedia.org/wiki/COVID-19-Pandemie#/media/Datei:COVID-19_Outbreak_lockdowns.svg)"
   ]
  },
  {
   "cell_type": "markdown",
   "metadata": {},
   "source": [
    "In this analysis I will concentrate on comparing nordic countries, as the housing situation (see visualization at end of this document) here favors lockdowns. These countries are the ones with the highest percentage of one-person households. Meaning, if there is a person with Covid-19 in lockdown, there is no room mate or family to infect. But more to that later."
   ]
  },
  {
   "cell_type": "code",
   "execution_count": 7,
   "metadata": {},
   "outputs": [],
   "source": [
    "# Get current data of Covid cases without history\n",
    "df_covidCases_today = df_covidCases_Timeline.query('date == @dateSnapshot')"
   ]
  },
  {
   "cell_type": "code",
   "execution_count": 8,
   "metadata": {},
   "outputs": [],
   "source": [
    "# Merge addtional info\n",
    "df_countryMetrics_Snapshot.drop(['Unnamed: 0', 'iso_code'], axis=1, inplace=True)\n",
    "df_covidCases_today = pd.merge(df_covidCases_today, df_countryMetrics_Snapshot, on=['country'])\n",
    "\n",
    "df_covidTests_Snapshot.drop(['Unnamed: 0', 'ISO code', 'date'], axis=1, inplace=True)\n",
    "df_covidCases_today = pd.merge(df_covidCases_today, df_covidTests_Snapshot, on=['country'])\n",
    "\n",
    "df_hospitals_Snapshot.drop(['Unnamed: 0', 'continent'], axis=1, inplace=True)\n",
    "df_covidCases_today = pd.merge(df_covidCases_today, df_hospitals_Snapshot, on=['country'])\n",
    "\n",
    "df_covidCases_today.drop(['Unnamed: 0'], axis=1, inplace=True)"
   ]
  },
  {
   "cell_type": "code",
   "execution_count": 9,
   "metadata": {},
   "outputs": [],
   "source": [
    "# Countries of interest (European countries with more than 40% 1-person households)\n",
    "\n",
    "northern_european = ['Norway', 'Denmark', 'Finland', 'Germany', 'Sweden']"
   ]
  },
  {
   "cell_type": "markdown",
   "metadata": {},
   "source": [
    "## Univariate Exploration\n",
    "\n",
    "I will start by looking into the most recent available numbers of confirmed Covid-19 cases per country and different approaches to measure the mortality.\n",
    "The novel Sars-CoV-2 virus spread all over the world in only a few months. It is still not clear what the mortality rate of Covid-19 is, furhermore this rate may vary depending on the country. Covid-19 is the loung desease caused by the Sars-CoV-2 virus. I will use the data collected by John Hopkins University on confirmed cases and fatal cases of Covid-19 to compare how hard countries are hit by the spread of the virus and the consequences. "
   ]
  },
  {
   "cell_type": "code",
   "execution_count": 10,
   "metadata": {},
   "outputs": [],
   "source": [
    "# Drop all countries which are not of interest in this analysis\n",
    "\n",
    "df_covidCases_today = df_covidCases_today[df_covidCases_today['country'].isin(northern_european)]"
   ]
  },
  {
   "cell_type": "code",
   "execution_count": 11,
   "metadata": {},
   "outputs": [],
   "source": [
    "# Set color palette to just one\n",
    "base_color = sb.color_palette()[0]"
   ]
  },
  {
   "cell_type": "markdown",
   "metadata": {},
   "source": [
    "#### Confirmed cases of Covid-19 per country"
   ]
  },
  {
   "cell_type": "code",
   "execution_count": 12,
   "metadata": {},
   "outputs": [
    {
     "data": {
      "text/plain": [
       "country\n",
       "Norway     8249\n",
       "Norway     8249\n",
       "Norway     8249\n",
       "Norway     8249\n",
       "Norway     8249\n",
       "           ... \n",
       "Finland    6347\n",
       "Finland    6347\n",
       "Finland    6347\n",
       "Finland    6347\n",
       "Finland    6347\n",
       "Name: confirmed, Length: 374, dtype: int64"
      ]
     },
     "execution_count": 12,
     "metadata": {},
     "output_type": "execute_result"
    }
   ],
   "source": [
    "df_covidCases_today.set_index('country', inplace=False).confirmed"
   ]
  },
  {
   "cell_type": "code",
   "execution_count": 13,
   "metadata": {},
   "outputs": [
    {
     "data": {
      "image/png": "[encoded data removed]",
      "text/plain": [
       "<Figure size 864x432 with 1 Axes>"
      ]
     },
     "metadata": {
      "needs_background": "light"
     },
     "output_type": "display_data"
    }
   ],
   "source": [
    "# Define figure size\n",
    "plt.figure(figsize=[12,6])\n",
    "\n",
    "# Plot barplot with 10 countries of most cases \n",
    "sb.barplot(data=df_covidCases_today.sort_values('confirmed', ascending=False), \n",
    "           x='confirmed', y='country', color = base_color )\n",
    "\n",
    "# Set grid for better comparibility\n",
    "sb.set(style=\"whitegrid\")\n",
    "\n",
    "# Write lables and header\n",
    "plt.xlabel('Confirmed cases of Covid-19 per country')\n",
    "plt.ylabel('Country');\n",
    "plt.title('Confirmed cases of Covid-19')  # <-- how can I put variable 'today' hier?\n",
    "\n",
    "#axes = plt.gca()\n",
    "#axes.set_xlim([0,160])\n",
    "#axes.set_ylim([0,160])\n",
    "\n",
    "plt.show()"
   ]
  },
  {
   "cell_type": "markdown",
   "metadata": {},
   "source": [
    "In this comparison of confirmed cases per country, a snapshot of the data at may 17th 2020, we see that Germany has clearly the most confirmed cases with few more than 175000. Next among the countries visualized in this graphic is Sweden with more than 30000 cases of confirmed Covid-19 infections. Denmark, Norway and Finland report each less than 12000 cases.\n",
    "This is metric does not give a good insight on how hard a country is hit by a pandemic, as countries with big populations can have more infected people. So insted of looking at the absolute value of infected people, let's compare the same countries with the number of confirmed Covid-19 infections normalized on one million people. "
   ]
  },
  {
   "cell_type": "markdown",
   "metadata": {},
   "source": [
    "#### Confirmed cases of Covid-19 per 1 million population in northern european countries"
   ]
  },
  {
   "cell_type": "code",
   "execution_count": 14,
   "metadata": {},
   "outputs": [],
   "source": [
    "# Feature Engineering\n",
    "\n",
    "# Create column fatal per confirmed\n",
    "df_covidCases_today['confirmedPer1MPopulation'] = df_covidCases_today.fatal * 1000000 / df_covidCases_today.population"
   ]
  },
  {
   "cell_type": "code",
   "execution_count": 15,
   "metadata": {},
   "outputs": [
    {
     "data": {
      "text/plain": [
       "135     42.794622\n",
       "136     42.794622\n",
       "137     42.794622\n",
       "138     42.794622\n",
       "139     42.794622\n",
       "          ...    \n",
       "3440    53.783643\n",
       "3441    53.783643\n",
       "3442    53.783643\n",
       "3443    53.783643\n",
       "3444    53.783643\n",
       "Name: confirmedPer1MPopulation, Length: 374, dtype: float64"
      ]
     },
     "execution_count": 15,
     "metadata": {},
     "output_type": "execute_result"
    }
   ],
   "source": [
    "df_covidCases_today.confirmedPer1MPopulation"
   ]
  },
  {
   "cell_type": "code",
   "execution_count": 16,
   "metadata": {},
   "outputs": [
    {
     "data": {
      "image/png": "[encoded data removed]",
      "text/plain": [
       "<Figure size 864x432 with 1 Axes>"
      ]
     },
     "metadata": {},
     "output_type": "display_data"
    }
   ],
   "source": [
    "# Define figure size\n",
    "plt.figure(figsize=[12,6])\n",
    "\n",
    "# Plot barplot with 10 countries of most cases \n",
    "sb.barplot(data=df_covidCases_today.sort_values('confirmedPer1MPopulation', ascending=False), \n",
    "           x='confirmedPer1MPopulation', y='country', color = base_color )\n",
    "\n",
    "# Set grid for better comparibility\n",
    "sb.set(style=\"whitegrid\")\n",
    "\n",
    "# Write lables and header\n",
    "plt.xlabel('Confirmed cases of Covid-19 per 1 million population in northern european countries')\n",
    "plt.ylabel('Country');\n",
    "plt.title('Confirmed cases of Covid-19 per 1 million polulation')  # <-- how can I put variable 'today' hier?\n",
    "\n",
    "#axes = plt.gca()\n",
    "#axes.set_xlim([0,160])\n",
    "#axes.set_ylim([0,160])\n",
    "\n",
    "plt.show()"
   ]
  },
  {
   "cell_type": "markdown",
   "metadata": {},
   "source": [
    "The graphic above shows the confirmed cases of each country per one million inhabitants. Here we can see a different ranking compared to the graphic with absolute amount of confirmed Covid-19 cases. Sweden with 364 cases per one million inhabitants has by far the highest rate. Next with roughly 95 cases per one million inhabitants are Germany and Denmark. Finland with 54 and Norway with 43 have the lowest rate of the countries shown in this graphic. Infections are not necessarily dangerous, still some of those infected have to seek medical treatment and are at risk of long-term damage or even death. \n",
    "This rate may be far from reality, as the confirmed cases of Covid-19 may not necessarily correspond to the actual number of cases. The number of known Covid-19 infections for a country depends on the number of tests performed. The more a country tests, the closer the number of confirmed infections should be to the actual number of infections present. When the decentrally collected figures are combined, delays or individual errors may introduce further uncertainties into the statistics. \n",
    "Let's look into the amount of tests performed by the countries examined."
   ]
  },
  {
   "cell_type": "code",
   "execution_count": 17,
   "metadata": {},
   "outputs": [],
   "source": [
    " # Drop all countries which are not of interest in this analysis\n",
    "\n",
    "df_covidTests_Snapshot_NC = df_covidTests_Snapshot[df_covidTests_Snapshot['country'].isin(northern_european)]"
   ]
  },
  {
   "cell_type": "code",
   "execution_count": 18,
   "metadata": {},
   "outputs": [
    {
     "data": {
      "text/html": [
       "<div>\n",
       "<style scoped>\n",
       "    .dataframe tbody tr th:only-of-type {\n",
       "        vertical-align: middle;\n",
       "    }\n",
       "\n",
       "    .dataframe tbody tr th {\n",
       "        vertical-align: top;\n",
       "    }\n",
       "\n",
       "    .dataframe thead th {\n",
       "        text-align: right;\n",
       "    }\n",
       "</style>\n",
       "<table border=\"1\" class=\"dataframe\">\n",
       "  <thead>\n",
       "    <tr style=\"text-align: right;\">\n",
       "      <th></th>\n",
       "      <th>Entity</th>\n",
       "      <th>Cumulative total</th>\n",
       "      <th>Cumulative total per thousand</th>\n",
       "      <th>country</th>\n",
       "    </tr>\n",
       "  </thead>\n",
       "  <tbody>\n",
       "    <tr>\n",
       "      <th>17</th>\n",
       "      <td>Denmark - people tested</td>\n",
       "      <td>412051</td>\n",
       "      <td>71.139</td>\n",
       "      <td>Denmark</td>\n",
       "    </tr>\n",
       "    <tr>\n",
       "      <th>22</th>\n",
       "      <td>Finland - samples tested</td>\n",
       "      <td>156206</td>\n",
       "      <td>28.192</td>\n",
       "      <td>Finland</td>\n",
       "    </tr>\n",
       "    <tr>\n",
       "      <th>24</th>\n",
       "      <td>Germany - tests performed</td>\n",
       "      <td>3147771</td>\n",
       "      <td>37.570</td>\n",
       "      <td>Germany</td>\n",
       "    </tr>\n",
       "    <tr>\n",
       "      <th>55</th>\n",
       "      <td>Norway - people tested</td>\n",
       "      <td>223045</td>\n",
       "      <td>41.143</td>\n",
       "      <td>Norway</td>\n",
       "    </tr>\n",
       "    <tr>\n",
       "      <th>77</th>\n",
       "      <td>Sweden - people tested</td>\n",
       "      <td>209900</td>\n",
       "      <td>20.784</td>\n",
       "      <td>Sweden</td>\n",
       "    </tr>\n",
       "  </tbody>\n",
       "</table>\n",
       "</div>"
      ],
      "text/plain": [
       "                       Entity  Cumulative total  \\\n",
       "17    Denmark - people tested            412051   \n",
       "22   Finland - samples tested            156206   \n",
       "24  Germany - tests performed           3147771   \n",
       "55     Norway - people tested            223045   \n",
       "77     Sweden - people tested            209900   \n",
       "\n",
       "    Cumulative total per thousand  country  \n",
       "17                         71.139  Denmark  \n",
       "22                         28.192  Finland  \n",
       "24                         37.570  Germany  \n",
       "55                         41.143   Norway  \n",
       "77                         20.784   Sweden  "
      ]
     },
     "execution_count": 18,
     "metadata": {},
     "output_type": "execute_result"
    }
   ],
   "source": [
    "df_covidTests_Snapshot_NC.head()"
   ]
  },
  {
   "cell_type": "code",
   "execution_count": 19,
   "metadata": {},
   "outputs": [
    {
     "data": {
      "image/png": "[encoded data removed]",
      "text/plain": [
       "<Figure size 864x432 with 1 Axes>"
      ]
     },
     "metadata": {},
     "output_type": "display_data"
    }
   ],
   "source": [
    "# Define figure size\n",
    "plt.figure(figsize=[12,6])\n",
    "\n",
    "# Plot barplot with 10 countries of most cases \n",
    "sb.barplot(data=df_covidTests_Snapshot_NC.sort_values('Cumulative total per thousand', ascending=False), \n",
    "           x='Cumulative total per thousand', y='country', color = base_color )\n",
    "\n",
    "# Set grid for better comparibility\n",
    "sb.set(style=\"whitegrid\")\n",
    "\n",
    "# Write lables and header\n",
    "plt.xlabel('Total tests performed per thousand population')\n",
    "plt.ylabel('Country');\n",
    "plt.title('Total tests performed per thousand population')  # <-- how can I put variable 'today' hier?\n",
    "\n",
    "#axes = plt.gca()\n",
    "#axes.set_xlim([0,160])\n",
    "#axes.set_ylim([0,160])\n",
    "\n",
    "plt.show()"
   ]
  },
  {
   "cell_type": "markdown",
   "metadata": {},
   "source": [
    "The graphic above shows the test performed by each nation per thousand inhabitants. Denmark with about 65 accumulated tests per 1000 population has the highest testing rate. Norway and Germany accumulated little less than 40 tests per 1000 population. Sweden has, by far the lowest test rate with less than 18 tests accumulated over 1000 population. \n",
    "Note here that each the data here is not completely comparable, where Denmark, Norway and Sweden declare the number of people tested, Germany counts tests performed and Finland samples tested.\n",
    "Still, compared to Norway and Denmark the test coverage in Sweden is way lower meaning a higher probability of more divergence between known confirmed cases of Covid-19 and unknown cases of Covid-19 infeactions.\n",
    "A high number of infected people per country itself is not yet a problem. It is problematic when people die from Covid-19 or suffer permanent lung damage from the disease. Furthermore, high amounts of hospitalized Covid-19 cases can overburden the national or regional health care system. A secondary effect of high infection rates and the associated high number of lung patients is that people avoid hospitalisation to not risk a infection. Hence, cases of other life-threatening diseases may not be treated due to fear of the patients or lack of capacity. \n",
    "We did see that Sweden has more than \n",
    "We have seen that Sweden has more than three times the number of confirmed Covid-19 cases compared to other Northern European countries. Is the ratio the same in relation to fatal cases related to Covid-19?"
   ]
  },
  {
   "cell_type": "code",
   "execution_count": 20,
   "metadata": {},
   "outputs": [
    {
     "data": {
      "text/html": [
       "<div>\n",
       "<style scoped>\n",
       "    .dataframe tbody tr th:only-of-type {\n",
       "        vertical-align: middle;\n",
       "    }\n",
       "\n",
       "    .dataframe tbody tr th {\n",
       "        vertical-align: top;\n",
       "    }\n",
       "\n",
       "    .dataframe thead th {\n",
       "        text-align: right;\n",
       "    }\n",
       "</style>\n",
       "<table border=\"1\" class=\"dataframe\">\n",
       "  <thead>\n",
       "    <tr style=\"text-align: right;\">\n",
       "      <th></th>\n",
       "      <th>country</th>\n",
       "      <th>date</th>\n",
       "      <th>fatal</th>\n",
       "      <th>confirmed</th>\n",
       "      <th>recovered</th>\n",
       "      <th>iso_code</th>\n",
       "      <th>continent</th>\n",
       "      <th>population</th>\n",
       "      <th>new_tests_smoothed</th>\n",
       "      <th>new_tests_smoothed_per_thousand</th>\n",
       "      <th>...</th>\n",
       "      <th>male_smokers</th>\n",
       "      <th>hospital_beds_per_100k</th>\n",
       "      <th>Entity</th>\n",
       "      <th>Cumulative total</th>\n",
       "      <th>Cumulative total per thousand</th>\n",
       "      <th>hospital_beds_per_1000_people</th>\n",
       "      <th>occupancy</th>\n",
       "      <th>ICU-CCB_beds_per_1000_people</th>\n",
       "      <th>ventilators</th>\n",
       "      <th>confirmedPer1MPopulation</th>\n",
       "    </tr>\n",
       "  </thead>\n",
       "  <tbody>\n",
       "    <tr>\n",
       "      <th>135</th>\n",
       "      <td>Norway</td>\n",
       "      <td>2020-05-17</td>\n",
       "      <td>232</td>\n",
       "      <td>8249</td>\n",
       "      <td>32</td>\n",
       "      <td>NOR</td>\n",
       "      <td>Europe</td>\n",
       "      <td>5421242</td>\n",
       "      <td>NaN</td>\n",
       "      <td>NaN</td>\n",
       "      <td>...</td>\n",
       "      <td>20.7</td>\n",
       "      <td>3.6</td>\n",
       "      <td>Norway - people tested</td>\n",
       "      <td>223045</td>\n",
       "      <td>41.143</td>\n",
       "      <td>3.6</td>\n",
       "      <td>80.7</td>\n",
       "      <td>8.0</td>\n",
       "      <td>800.0</td>\n",
       "      <td>42.794622</td>\n",
       "    </tr>\n",
       "    <tr>\n",
       "      <th>136</th>\n",
       "      <td>Norway</td>\n",
       "      <td>2020-05-17</td>\n",
       "      <td>232</td>\n",
       "      <td>8249</td>\n",
       "      <td>32</td>\n",
       "      <td>NOR</td>\n",
       "      <td>Europe</td>\n",
       "      <td>5421242</td>\n",
       "      <td>NaN</td>\n",
       "      <td>NaN</td>\n",
       "      <td>...</td>\n",
       "      <td>20.7</td>\n",
       "      <td>3.6</td>\n",
       "      <td>Norway - people tested</td>\n",
       "      <td>223045</td>\n",
       "      <td>41.143</td>\n",
       "      <td>3.6</td>\n",
       "      <td>80.7</td>\n",
       "      <td>8.0</td>\n",
       "      <td>800.0</td>\n",
       "      <td>42.794622</td>\n",
       "    </tr>\n",
       "    <tr>\n",
       "      <th>137</th>\n",
       "      <td>Norway</td>\n",
       "      <td>2020-05-17</td>\n",
       "      <td>232</td>\n",
       "      <td>8249</td>\n",
       "      <td>32</td>\n",
       "      <td>NOR</td>\n",
       "      <td>Europe</td>\n",
       "      <td>5421242</td>\n",
       "      <td>NaN</td>\n",
       "      <td>NaN</td>\n",
       "      <td>...</td>\n",
       "      <td>20.7</td>\n",
       "      <td>3.6</td>\n",
       "      <td>Norway - people tested</td>\n",
       "      <td>223045</td>\n",
       "      <td>41.143</td>\n",
       "      <td>3.6</td>\n",
       "      <td>80.7</td>\n",
       "      <td>8.0</td>\n",
       "      <td>800.0</td>\n",
       "      <td>42.794622</td>\n",
       "    </tr>\n",
       "    <tr>\n",
       "      <th>138</th>\n",
       "      <td>Norway</td>\n",
       "      <td>2020-05-17</td>\n",
       "      <td>232</td>\n",
       "      <td>8249</td>\n",
       "      <td>32</td>\n",
       "      <td>NOR</td>\n",
       "      <td>Europe</td>\n",
       "      <td>5421242</td>\n",
       "      <td>NaN</td>\n",
       "      <td>NaN</td>\n",
       "      <td>...</td>\n",
       "      <td>20.7</td>\n",
       "      <td>3.6</td>\n",
       "      <td>Norway - people tested</td>\n",
       "      <td>223045</td>\n",
       "      <td>41.143</td>\n",
       "      <td>3.6</td>\n",
       "      <td>80.7</td>\n",
       "      <td>8.0</td>\n",
       "      <td>800.0</td>\n",
       "      <td>42.794622</td>\n",
       "    </tr>\n",
       "    <tr>\n",
       "      <th>139</th>\n",
       "      <td>Norway</td>\n",
       "      <td>2020-05-17</td>\n",
       "      <td>232</td>\n",
       "      <td>8249</td>\n",
       "      <td>32</td>\n",
       "      <td>NOR</td>\n",
       "      <td>Europe</td>\n",
       "      <td>5421242</td>\n",
       "      <td>NaN</td>\n",
       "      <td>NaN</td>\n",
       "      <td>...</td>\n",
       "      <td>20.7</td>\n",
       "      <td>3.6</td>\n",
       "      <td>Norway - people tested</td>\n",
       "      <td>223045</td>\n",
       "      <td>41.143</td>\n",
       "      <td>3.6</td>\n",
       "      <td>80.7</td>\n",
       "      <td>8.0</td>\n",
       "      <td>800.0</td>\n",
       "      <td>42.794622</td>\n",
       "    </tr>\n",
       "  </tbody>\n",
       "</table>\n",
       "<p>5 rows × 28 columns</p>\n",
       "</div>"
      ],
      "text/plain": [
       "    country       date  fatal  confirmed  recovered iso_code continent  \\\n",
       "135  Norway 2020-05-17    232       8249         32      NOR    Europe   \n",
       "136  Norway 2020-05-17    232       8249         32      NOR    Europe   \n",
       "137  Norway 2020-05-17    232       8249         32      NOR    Europe   \n",
       "138  Norway 2020-05-17    232       8249         32      NOR    Europe   \n",
       "139  Norway 2020-05-17    232       8249         32      NOR    Europe   \n",
       "\n",
       "     population  new_tests_smoothed  new_tests_smoothed_per_thousand  ...  \\\n",
       "135     5421242                 NaN                              NaN  ...   \n",
       "136     5421242                 NaN                              NaN  ...   \n",
       "137     5421242                 NaN                              NaN  ...   \n",
       "138     5421242                 NaN                              NaN  ...   \n",
       "139     5421242                 NaN                              NaN  ...   \n",
       "\n",
       "     male_smokers  hospital_beds_per_100k                  Entity  \\\n",
       "135          20.7                     3.6  Norway - people tested   \n",
       "136          20.7                     3.6  Norway - people tested   \n",
       "137          20.7                     3.6  Norway - people tested   \n",
       "138          20.7                     3.6  Norway - people tested   \n",
       "139          20.7                     3.6  Norway - people tested   \n",
       "\n",
       "     Cumulative total  Cumulative total per thousand  \\\n",
       "135            223045                         41.143   \n",
       "136            223045                         41.143   \n",
       "137            223045                         41.143   \n",
       "138            223045                         41.143   \n",
       "139            223045                         41.143   \n",
       "\n",
       "     hospital_beds_per_1000_people  occupancy  ICU-CCB_beds_per_1000_people  \\\n",
       "135                            3.6       80.7                           8.0   \n",
       "136                            3.6       80.7                           8.0   \n",
       "137                            3.6       80.7                           8.0   \n",
       "138                            3.6       80.7                           8.0   \n",
       "139                            3.6       80.7                           8.0   \n",
       "\n",
       "     ventilators  confirmedPer1MPopulation  \n",
       "135        800.0                 42.794622  \n",
       "136        800.0                 42.794622  \n",
       "137        800.0                 42.794622  \n",
       "138        800.0                 42.794622  \n",
       "139        800.0                 42.794622  \n",
       "\n",
       "[5 rows x 28 columns]"
      ]
     },
     "execution_count": 20,
     "metadata": {},
     "output_type": "execute_result"
    }
   ],
   "source": [
    "df_covidCases_today.head()"
   ]
  },
  {
   "cell_type": "code",
   "execution_count": 21,
   "metadata": {},
   "outputs": [],
   "source": [
    "# Feature Engineering\n",
    "\n",
    "# Create column fatal per confirmed\n",
    "df_covidCases_today['fatalPerConfirmed'] = df_covidCases_today.fatal / df_covidCases_today.confirmed"
   ]
  },
  {
   "cell_type": "markdown",
   "metadata": {},
   "source": [
    "#### Fatal cases related to Covid-19 in relation to the known infections of Covid-19"
   ]
  },
  {
   "cell_type": "code",
   "execution_count": 22,
   "metadata": {},
   "outputs": [
    {
     "data": {
      "image/png": "[encoded data removed]",
      "text/plain": [
       "<Figure size 864x432 with 1 Axes>"
      ]
     },
     "metadata": {},
     "output_type": "display_data"
    }
   ],
   "source": [
    "# Define figure size\n",
    "plt.figure(figsize=[12,6])\n",
    "\n",
    "# Plot barplot with 10 countries of most cases \n",
    "sb.barplot(data=df_covidCases_today.sort_values('fatalPerConfirmed', ascending=False), \n",
    "           x='fatalPerConfirmed', y='country', color = base_color )\n",
    "\n",
    "# Set grid for better comparibility\n",
    "sb.set(style=\"whitegrid\")\n",
    "\n",
    "# Write lables and header\n",
    "plt.xlabel('Fatal cases per confirmed cases')\n",
    "plt.ylabel('Country');\n",
    "plt.title('Fatal cases of Covid-19  per country')\n",
    "\n",
    "#axes = plt.gca()\n",
    "#axes.set_xlim([0,160])\n",
    "#axes.set_ylim([0,160])\n",
    "\n",
    "plt.show()\n"
   ]
  },
  {
   "cell_type": "markdown",
   "metadata": {},
   "source": [
    "Dividing the fatal cases of a country for the most recent available date by the confirmed cases of the same country and date gives a mortality rate. \n",
    "This rate may be far from reality, as the confirmed cases of Covid-19 may not necessarily correspond to the actual number of cases. This also applies to the number of deaths caused by Covid-19. Different countries and regions have different rules as to when a death is included in the statistics of deaths caused by Covid-19. \n",
    "Furhermore, the number of known Covid-19 infections for a country depends on the number of tests performed. The more a country tests, the closer the number of confirmed infections should be to the actual number of infections present. When the decentrally collected figures are combined, delays or individual errors may introduce further uncertainties into the statistics. \n",
    "\n",
    "In the following graphic the mortality rate of Covid-19 is depicted for the 10 countries with the highest amount of infections based on data gathered by the John Hopkins University."
   ]
  },
  {
   "cell_type": "code",
   "execution_count": 23,
   "metadata": {},
   "outputs": [],
   "source": [
    "# Feature Engineering\n",
    "\n",
    "# Create column deaths per 1 million population\n",
    "df_covidCases_today['fatalPer1MPopulation'] = df_covidCases_today.fatal *1000000 / df_covidCases_today.population"
   ]
  },
  {
   "cell_type": "markdown",
   "metadata": {},
   "source": [
    "#### Fatal cases related to Covid-19 per 1 million people in country"
   ]
  },
  {
   "cell_type": "code",
   "execution_count": 24,
   "metadata": {},
   "outputs": [
    {
     "data": {
      "image/png": "[encoded data removed]",
      "text/plain": [
       "<Figure size 864x432 with 1 Axes>"
      ]
     },
     "metadata": {},
     "output_type": "display_data"
    }
   ],
   "source": [
    "# Define figure size\n",
    "plt.figure(figsize=[12,6])\n",
    "\n",
    "# Plot barplot with 10 countries of most cases \n",
    "sb.barplot(data=df_covidCases_today.sort_values('confirmed', ascending=False), \n",
    "           x='fatalPer1MPopulation', y='country', color = base_color )\n",
    "\n",
    "# Set grid for better comparibility\n",
    "sb.set(style=\"whitegrid\")\n",
    "\n",
    "# Write lables and header\n",
    "plt.xlabel('Fatal cases per population size')\n",
    "plt.ylabel('Country');\n",
    "plt.title('Fatals related to Covid-19 per 1 million population')\n",
    "\n",
    "#axes = plt.gca()\n",
    "#axes.set_xlim([0,160])\n",
    "#axes.set_ylim([0,160])\n",
    "\n",
    "plt.show()"
   ]
  },
  {
   "cell_type": "markdown",
   "metadata": {},
   "source": [
    "The mortality rate depends on a lot of different factors like age, healthcare system of the country, \n",
    "\n"
   ]
  },
  {
   "cell_type": "code",
   "execution_count": 25,
   "metadata": {},
   "outputs": [
    {
     "data": {
      "image/png": "[encoded data removed]",
      "text/plain": [
       "<Figure size 864x432 with 1 Axes>"
      ]
     },
     "metadata": {},
     "output_type": "display_data"
    }
   ],
   "source": [
    "# tests performed\n",
    "\n",
    "list(df_covidCases_today)\n",
    "\n",
    "# Define figure size\n",
    "plt.figure(figsize=[12,6])\n",
    "\n",
    "# Plot barplot with 10 countries of most cases \n",
    "sb.barplot(data=df_covidCases_today.sort_values('Cumulative total per thousand', ascending=False), \n",
    "           x='Cumulative total per thousand', y='country', color = base_color )\n",
    "\n",
    "# Set grid for better comparibility\n",
    "sb.set(style=\"whitegrid\")\n",
    "\n",
    "# Write lables and header\n",
    "plt.xlabel('Fatal cases per population size')\n",
    "plt.ylabel('Country');\n",
    "plt.title('Fatals related to Covid-19 per 1 million population')\n",
    "\n",
    "#axes = plt.gca()\n",
    "#axes.set_xlim([0,160])\n",
    "#axes.set_ylim([0,160])\n",
    "\n",
    "plt.show()"
   ]
  },
  {
   "cell_type": "code",
   "execution_count": 26,
   "metadata": {},
   "outputs": [
    {
     "ename": "NameError",
     "evalue": "name 'fatalPerConfirmed' is not defined",
     "output_type": "error",
     "traceback": [
      "\u001b[0;31m---------------------------------------------------------------------------\u001b[0m",
      "\u001b[0;31mNameError\u001b[0m                                 Traceback (most recent call last)",
      "\u001b[0;32m<ipython-input-26-91b5d6ae663c>\u001b[0m in \u001b[0;36m<module>\u001b[0;34m\u001b[0m\n\u001b[0;32m----> 1\u001b[0;31m \u001b[0mfatalPerConfirmed\u001b[0m\u001b[0;34m\u001b[0m\u001b[0;34m\u001b[0m\u001b[0m\n\u001b[0m",
      "\u001b[0;31mNameError\u001b[0m: name 'fatalPerConfirmed' is not defined"
     ]
    }
   ],
   "source": [
    "fatalPerConfirmed"
   ]
  },
  {
   "cell_type": "code",
   "execution_count": null,
   "metadata": {},
   "outputs": [],
   "source": [
    "list(df_covidCases_today)"
   ]
  },
  {
   "cell_type": "code",
   "execution_count": null,
   "metadata": {},
   "outputs": [],
   "source": [
    "# Define figure size\n",
    "plt.figure(figsize=[12,6])\n",
    "\n",
    "# Plot barplot with 10 countries of most cases \n",
    "sb.barplot(data=df_covidCases_today.sort_values('stringency_index', ascending=False), \n",
    "           x='stringency_index', y='country', color = base_color )\n",
    "\n",
    "# Set grid for better comparibility\n",
    "sb.set(style=\"whitegrid\")\n",
    "\n",
    "# Write lables and header\n",
    "plt.xlabel('Stringency Index')\n",
    "plt.ylabel('Country');\n",
    "plt.title('Strigency Index given by \"Our World in Data\" for measures countries took against Covid-19')\n",
    "\n",
    "#axes = plt.gca()\n",
    "#axes.set_xlim([0,160])\n",
    "#axes.set_ylim([0,160])\n",
    "\n",
    "plt.show()"
   ]
  },
  {
   "cell_type": "markdown",
   "metadata": {},
   "source": [
    "> Make sure that, after every plot or related series of plots, that you\n",
    "include a Markdown cell with comments about what you observed, and what\n",
    "you plan on investigating next.\n",
    "\n",
    "> Price has a long-tailed distribution, with a lot of diamonds on the low price end, and few on the high price end. When plotted on a log-scale, the price distribution looks roughly bimodal, with one peak between 500 and 1000, and a second peak a little below 5000. Interestingly, there's a steep jump in frequency right before 2000, rather than a smooth ramp up.\n",
    "Next up, the first predictor variable of interest: carat."
   ]
  },
  {
   "cell_type": "markdown",
   "metadata": {},
   "source": [
    "> The cut quality of the diamonds in the dataset is generally quite good, with most of them in the Premium or Ideal level. Most of the diamonds are also of color quality G or better. Clarity, shows a trend opposite from the other two features, with most of the diamonds on the lower end of the scale, at VS2 or worse. Clarity grades become rarer as steps are taken up the scale.\n",
    "I'll now look at the other features in the data to see if any of them hold interesting properties.\n",
    "\n",
    "> The initial plot of the x, y, and z features show some immediate points of attention. On the y and z plots, most of the data is set to the far left of their axes, suggesting some strong outliers on the right. The left limits of all three plots also suggest that there are some points that take unusually small values. It's worth taking a bit of time to identify these outliers and see if they need to be filtered out of the data."
   ]
  },
  {
   "cell_type": "code",
   "execution_count": null,
   "metadata": {},
   "outputs": [],
   "source": [
    "# spread of mortality rate for all countries in dataset"
   ]
  },
  {
   "cell_type": "markdown",
   "metadata": {},
   "source": [
    "### Discuss the distribution(s) of your variable(s) of interest. Were there any unusual points? Did you need to perform any transformations?\n",
    "\n",
    "> The price variable took on a large range of values, so I looked at the data using a log transform. Under the transformation, the data looked bimodal, with one peak between $500 and $1000, and another just below $5000.\n",
    "\n",
    "### Of the features you investigated, were there any unusual distributions? Did you perform any operations on the data to tidy, adjust, or change the form of the data? If so, why did you do this?\n",
    "\n",
    "> When investigating the x, y, and z size variables, a number of outlier points were identified. Overall, these points can be characterized by an inconsistency between the recorded value of depth, and the value that would be derived from using x, y, and z. For safety, all of these points were removed from the dataset to move forwards."
   ]
  },
  {
   "cell_type": "markdown",
   "metadata": {},
   "source": [
    "## Bivariate Exploration\n",
    "\n",
    "> In this section, investigate relationships between pairs of variables in your\n",
    "data. Make sure the variables that you cover here have been introduced in some\n",
    "fashion in the previous section (univariate exploration).\n",
    "\n",
    "> To start off with, I want to look at the pairwise correlations present between features in the data."
   ]
  },
  {
   "cell_type": "code",
   "execution_count": null,
   "metadata": {},
   "outputs": [],
   "source": [
    "\n",
    "# Two dimensional\n",
    "    # Corona Virus Cases overt time per country line? (umeric discrecte vs numeric continouos) --> zoom in on not extreme countries\n",
    "    # R-factor of countries over time\n",
    "    # monthly/weekly deaths compared to \"normal years\" --> Sweden compared to other nordic countries"
   ]
  },
  {
   "cell_type": "code",
   "execution_count": null,
   "metadata": {},
   "outputs": [],
   "source": [
    "# Violin plot with new cases over time\n",
    "\n",
    "# create new column delta confirmed cases\n",
    "df_covidCases_Timeline['confirmedDelta'] = df_covidCases_Timeline['confirmed'] \n",
    "\n"
   ]
  },
  {
   "cell_type": "code",
   "execution_count": null,
   "metadata": {},
   "outputs": [],
   "source": [
    "df_covidCases_Timeline.head()"
   ]
  },
  {
   "cell_type": "code",
   "execution_count": null,
   "metadata": {},
   "outputs": [],
   "source": [
    "df_covidCases_Timeline = pd.merge(df_covidCases_Timeline, df_countryMetrics_Snapshot, on=['country'])"
   ]
  },
  {
   "cell_type": "code",
   "execution_count": null,
   "metadata": {},
   "outputs": [],
   "source": [
    "# Feature Engineerig: Create column with new confirmed cases per day\n",
    "\n",
    "df_Norway = df_covidCases_Timeline.query('country == \"Norway\"').sort_values('date', ascending=False)\n",
    "df_Norway['deltaConfirmed'] = (df_Norway['confirmed'] - df_Norway['confirmed'].shift(-1)).fillna(0).astype(int)\n",
    "\n",
    "df_Denmark = df_covidCases_Timeline.query('country == \"Denmark\"').sort_values('date', ascending=False)\n",
    "df_Denmark['deltaConfirmed'] = (df_Denmark['confirmed'] - df_Denmark['confirmed'].shift(-1)).fillna(0).astype(int)\n",
    "\n",
    "df_Finland = df_covidCases_Timeline.query('country == \"Finland\"').sort_values('date', ascending=False)\n",
    "df_Finland['deltaConfirmed'] = (df_Finland['confirmed'] - df_Finland['confirmed'].shift(-1)).fillna(0).astype(int)\n",
    "\n",
    "df_Germany = df_covidCases_Timeline.query('country == \"Germany\"').sort_values('date', ascending=False)\n",
    "df_Germany['deltaConfirmed'] = (df_Germany['confirmed'] - df_Germany['confirmed'].shift(-1)).fillna(0).astype(int)\n",
    "\n",
    "df_Sweden = df_covidCases_Timeline.query('country == \"Sweden\"').sort_values('date', ascending=False)\n",
    "df_Sweden['deltaConfirmed'] = (df_Sweden['confirmed'] - df_Sweden['confirmed'].shift(-1)).fillna(0).astype(int)"
   ]
  },
  {
   "cell_type": "code",
   "execution_count": null,
   "metadata": {},
   "outputs": [],
   "source": [
    "# Check visually if new column correctly calculated\n",
    "df_Norway.head()"
   ]
  },
  {
   "cell_type": "code",
   "execution_count": null,
   "metadata": {},
   "outputs": [],
   "source": [
    "# new confirmed cases per day\n",
    "\n",
    "fig, ax = plt.subplots(5, 1, figsize=(15,15))\n",
    "\n",
    "\n",
    "\n",
    "\n",
    "ax1 = plt.subplot(5,1,1)\n",
    "plt.plot('date', 'deltaConfirmed', data=df_Norway)\n",
    "ax1.set_xlim([pd.to_datetime('2020-03-01'),dateSnapshot])\n",
    "plt.ylabel('Daily new cases Norway');\n",
    "plt.title('Daily new confirmed cases of Covid-19 per country')  # <-- how can I put variable 'today' hier?\n",
    "\n",
    "ax2 = plt.subplot(5,1,2)\n",
    "plt.plot('date', 'deltaConfirmed', data=df_Denmark)\n",
    "ax2.set_xlim([pd.to_datetime('2020-03-01'),dateSnapshot])\n",
    "plt.ylabel('Daily new cases Denmark');\n",
    "\n",
    "ax3 = plt.subplot(5,1,3)\n",
    "plt.plot('date', 'deltaConfirmed', data=df_Finland)\n",
    "ax3.set_xlim([pd.to_datetime('2020-03-01'),dateSnapshot])\n",
    "plt.ylabel('Daily new cases Finland');\n",
    "\n",
    "ax4 = plt.subplot(5,1,4)\n",
    "plt.plot('date', 'deltaConfirmed', data=df_Germany)\n",
    "ax4.set_xlim([pd.to_datetime('2020-03-01'),dateSnapshot])\n",
    "plt.ylabel('Daily new cases Germany');\n",
    "\n",
    "ax5 = plt.subplot(5,1,5)\n",
    "plt.plot('date', 'deltaConfirmed', data=df_Sweden)\n",
    "ax5.set_xlim([pd.to_datetime('2020-03-01'),dateSnapshot])\n",
    "plt.ylabel('Daily new cases Sweden');\n",
    "\n",
    "\n",
    "fig.text(0.5, 0.04, 'Time in [days]', ha='center')\n",
    "\n",
    "\n",
    "plt.show()"
   ]
  },
  {
   "cell_type": "code",
   "execution_count": null,
   "metadata": {},
   "outputs": [],
   "source": [
    "# Feature Engineering: Infections per 1 million population\n",
    "\n",
    "# HOW WOULD A FUNCTION LOOK LIKE HERE TO NOT COPY PASTE THE CODE X TIMES LIKE BELOW?\n",
    "\n",
    "df_Norway['deltaConfirmedPer1M'] = df_Norway['deltaConfirmed'] *1000000 / df_Norway['population']\n",
    "\n",
    "df_Denmark['deltaConfirmedPer1M'] =  df_Denmark['deltaConfirmed'] *1000000 / df_Denmark['population']\n",
    "\n",
    "df_Finland['deltaConfirmedPer1M'] =  df_Finland['deltaConfirmed'] *1000000 / df_Finland['population']\n",
    "\n",
    "df_Germany['deltaConfirmedPer1M'] =  df_Germany['deltaConfirmed'] *1000000 / df_Germany['population']\n",
    "\n",
    "df_Sweden['deltaConfirmedPer1M'] =  df_Sweden['deltaConfirmed'] *1000000 / df_Sweden['population']"
   ]
  },
  {
   "cell_type": "code",
   "execution_count": null,
   "metadata": {},
   "outputs": [],
   "source": [
    "# new confirmed cases per 1m people and day\n",
    "\n",
    "fig, ax = plt.subplots(5, 1, figsize=(15,15))\n",
    "  \n",
    "ax1 = plt.subplot(5,1,1)\n",
    "plt.plot('date', 'deltaConfirmedPer1M', data=df_Norway)\n",
    "ax1.set_xlim([pd.to_datetime('2020-03-01'),dateSnapshot])\n",
    "ax1.set_ylim([0,100])\n",
    "\n",
    "ax2 = plt.subplot(5,1,2)\n",
    "plt.plot('date', 'deltaConfirmedPer1M', data=df_Denmark)\n",
    "ax2.set_xlim([pd.to_datetime('2020-03-01'),dateSnapshot])\n",
    "ax2.set_ylim([0,100])\n",
    "\n",
    "ax3 = plt.subplot(5,1,3)\n",
    "plt.plot('date', 'deltaConfirmedPer1M', data=df_Finland)\n",
    "ax3.set_xlim([pd.to_datetime('2020-03-01'),dateSnapshot])\n",
    "ax3.set_ylim([0,100])\n",
    "\n",
    "ax4 = plt.subplot(5,1,4)\n",
    "plt.plot('date', 'deltaConfirmedPer1M', data=df_Germany)\n",
    "ax4.set_xlim([pd.to_datetime('2020-03-01'),dateSnapshot])\n",
    "ax4.set_ylim([0,100])\n",
    "\n",
    "ax5 = plt.subplot(5,1,5)\n",
    "plt.plot('date', 'deltaConfirmedPer1M', data=df_Sweden)\n",
    "ax5.set_xlim([pd.to_datetime('2020-03-01'),dateSnapshot])\n",
    "ax5.set_ylim([0,100])\n",
    "\n",
    "\n",
    "fig.text(0.5, 0.04, 'Time in [days]', ha='center')\n",
    "\n",
    "\n",
    "plt.show()"
   ]
  },
  {
   "cell_type": "code",
   "execution_count": null,
   "metadata": {},
   "outputs": [],
   "source": [
    "# https://www.ukbonn.de/C12582D3002FD21D/vwLookupDownloads/Streeck_et_al_Infection_fatality_rate_of_SARS_CoV_2_infection2.pdf/%24FILE/Streeck_et_al_Infection_fatality_rate_of_SARS_CoV_2_infection2.pdf"
   ]
  },
  {
   "cell_type": "markdown",
   "metadata": {},
   "source": [
    "> As expected, the 'x', 'y', and 'z' dimensions are all highly correlated with one another, and all of them are also highly correlated with carat. Since carat is a measure of diamond size, it's not too surprising that the overall trend between carat and the three individual dimensions appears polynomial. In addition, since all the diamonds are round-cut, it makes sense that the 'x', 'y', and 'z' sizes would all move proportionally together.\n",
    "Surprisingly, the correlation coefficient between price and carat is very high, despite the fact that price has such a large range of values. This will be worth extra exploration in this section. Depth and table don't have strong correlations with any other numeric variables in the dataset, and we see the moderate negative correlation hypothesized in the previous section. I won't perform any further analyses with these variables since they don't look like they'll be of much further interest.\n",
    "Let's move on to looking at how price and carat weight correlate with the categorical variables.\n",
    "\n",
    "> Interestingly, it appears that there are some negative relationships between the categorical variables and the two numeric variables of interest. The diamonds with the best features (Ideal cut, color D, clarity IF) seem to get the lowest prices, but also tend to be smaller on average. This will be worth investigating more later on, using the full data.\n",
    "Finally, let's look at relationships between the three categorical features.\n",
    "\n",
    "> There doesn't seem to be that much interaction between diamond color and cut, though proportionally it seems like there might be more \"Very Good\" and \"Premium\" diamonds on the better color grades (F, E, and D). There are slightly larger interactions on the clarity grades, especially the lower levels of SI2, SI1, and VS2. It looks like there are more Very Good and Premium cut diamonds and more G, F, and E color diamonds compared to higher clarity grades.\n",
    "With the preliminary look at bivariate relationships out of the way, I want to dig into some of the relationships more. First, I want to see how price and carat are related to one another for all of the data, and to plot price on a log scale.\n",
    "\n"
   ]
  },
  {
   "cell_type": "markdown",
   "metadata": {},
   "source": [
    "### Talk about some of the relationships you observed in this part of the investigation. How did the feature(s) of interest vary with other features in the dataset?\n",
    "\n",
    "> Price had a surprisingly high amount of correlation with the diamond size, even before transforming the features. An approximately linear relationship was observed when price was plotted on a log scale and carat was plotted with a cube-root transform. The scatterplot that came out of this also suggested that there was an upper bound on the diamond prices available in the dataset, since the range of prices for the largest diamonds was much narrower than would have been expected, based on the price ranges of smaller diamonds.\n",
    "There was also an interesting relationship observed between price and the categorical features. For all of cut, color, and clarity, lower prices were associated with increasing quality. One of the potentially major interacting factors is the fact that improved quality levels were also associated with smaller diamonds. This will have to be explored further in the next section.\n",
    "\n",
    "### Did you observe any interesting relationships between the other features (not the main feature(s) of interest)?\n",
    "\n",
    "> Expected relationships were found in the association between the 'x', 'y', and 'z' measurements of diamonds to the other linear dimensions as well as to the 'carat' variable. A small negative correlation was observed between table size and depth, but neither of these variables show a strong correlation with price, so they won't be explored further. There was also a small interaction in the categorical quality features. Diamonds of lower clarity appear to have slightly better cut and color grades."
   ]
  },
  {
   "cell_type": "markdown",
   "metadata": {},
   "source": [
    "## Multivariate Exploration\n",
    "\n",
    "> Create plots of three or more variables to investigate your data even\n",
    "further. Make sure that your investigations are justified, and follow from\n",
    "your work in the previous sections.\n",
    "\n",
    "> The main thing I want to explore in this part of the analysis is how the three categorical measures of quality play into the relationship between price and carat."
   ]
  },
  {
   "cell_type": "code",
   "execution_count": null,
   "metadata": {},
   "outputs": [],
   "source": [
    "# Countries of interest (European countries with more than 40% 1-person households)\n",
    "\n",
    "northern_southern_european = ['Norway', 'Denmark', 'Finland', 'Germany', 'Sweden', 'Italy', 'Spain', 'France']"
   ]
  },
  {
   "cell_type": "code",
   "execution_count": null,
   "metadata": {},
   "outputs": [],
   "source": [
    "# Drop all countries which are not of interest in this analysis\n",
    "\n",
    "df_householdsEU_Timeline = df_householdsEU_Timeline[df_householdsEU_Timeline['country'].isin(northern_southern_european)]"
   ]
  },
  {
   "cell_type": "code",
   "execution_count": null,
   "metadata": {},
   "outputs": [],
   "source": [
    "df_householdsEU_Timeline_2018 = df_householdsEU_Timeline.query('year == \"2018\"').sort_values('1 person', ascending=False)"
   ]
  },
  {
   "cell_type": "code",
   "execution_count": null,
   "metadata": {},
   "outputs": [],
   "source": [
    "df_householdsEU_Timeline_2018"
   ]
  },
  {
   "cell_type": "code",
   "execution_count": null,
   "metadata": {},
   "outputs": [],
   "source": [
    "# households for each nordic country (Country, householdtype, share)\n",
    "\n",
    "# Define figure size\n",
    "plt.figure(figsize=[12,6])\n",
    "\n",
    "N = 8\n",
    "ind = np.arange(N)    # the x locations for the groups\n",
    "width = 0.5       # the width of the bars: can also be len(x) sequence\n",
    "\n",
    "#plt.style.use(style_name)\n",
    "\n",
    "p1 = plt.bar(ind, df_householdsEU_Timeline_2018['1 person'], width)\n",
    "p2 = plt.bar(ind, df_householdsEU_Timeline_2018['2 persons'], width, \n",
    "             bottom=df_householdsEU_Timeline_2018['1 person'])\n",
    "p3 = plt.bar(ind, df_householdsEU_Timeline_2018['3 persons'], width, \n",
    "             bottom=df_householdsEU_Timeline_2018['1 person']+df_householdsEU_Timeline_2018['2 persons'])\n",
    "p4 = plt.bar(ind, df_householdsEU_Timeline_2018['4 persons'], width, \n",
    "             bottom=df_householdsEU_Timeline_2018['1 person']+df_householdsEU_Timeline_2018['2 persons']+df_householdsEU_Timeline_2018['3 persons'])\n",
    "p5 = plt.bar(ind, df_householdsEU_Timeline_2018['5 persons'], width, \n",
    "             bottom=df_householdsEU_Timeline_2018['1 person']+df_householdsEU_Timeline_2018['2 persons']+df_householdsEU_Timeline_2018['3 persons']+df_householdsEU_Timeline_2018['4 persons'])\n",
    "p6 = plt.bar(ind, df_householdsEU_Timeline_2018['6 persons or more'], \n",
    "             bottom=df_householdsEU_Timeline_2018['1 person']+df_householdsEU_Timeline_2018['2 persons']+df_householdsEU_Timeline_2018['3 persons']+df_householdsEU_Timeline_2018['4 persons']++df_householdsEU_Timeline_2018['5 persons'])\n",
    "\n",
    "\n",
    "\n",
    "\n",
    "plt.ylabel('Percentage of population')\n",
    "plt.title('Distribution of population per household size')\n",
    "plt.xticks(ind, ('Norway', 'Denmark', 'Finland', 'Sweden', 'Germany', 'France', 'Italy', 'Spain'))\n",
    "plt.legend((p1[0], p2[0], p3[0], p4[0], p5[0], p6[0]), \n",
    "           ('1 person', '2 persons', '3 persons', '4 persons', '5 persons', '6 persons or more'), \n",
    "           bbox_to_anchor=(1.04,1))\n",
    "\n",
    "\n",
    "plt.show()"
   ]
  },
  {
   "cell_type": "code",
   "execution_count": null,
   "metadata": {},
   "outputs": [],
   "source": [
    "# graph of northern countries with stacked confirmed, recovered, fatal"
   ]
  },
  {
   "cell_type": "markdown",
   "metadata": {},
   "source": [
    "### Talk about some of the relationships you observed in this part of the investigation. Were there features that strengthened each other in terms of looking at your feature(s) of interest?\n",
    "\n",
    "> I extended my investigation of price against diamond size in this section by looking at the impact of the three categorical quality features. The multivariate exploration here showed that there indeed is a positive effect of increased quality grade on diamond price, but in the dataset, this is initially hidden by the fact that higher grades were more prevalent in smaller diamonds, which fetch lower prices overall. Controlling for the carat weight of a diamond shows the effect of the other C's of diamonds more clearly. This effect was clearest for the color and clarity variables, with less systematic trends for cut.\n",
    "\n",
    "### Were there any interesting or surprising interactions between features?\n",
    "\n",
    "> Looking back on the point plots, it doesn't seem like there's a systematic interaction effect between the three categorical features. However, the features also aren't fully independent. But it is interesting in something like the 1-carat plot for prices against cut and clarity, the shape of the 'cut' dots is fairly similar for the SI2 through VVS2 clarity levels."
   ]
  },
  {
   "cell_type": "markdown",
   "metadata": {},
   "source": [
    "> At the end of your report, make sure that you export the notebook as an\n",
    "html file from the `File > Download as... > HTML` menu. Make sure you keep\n",
    "track of where the exported file goes, so you can put it in the same folder\n",
    "as this notebook for project submission. Also, make sure you remove all of\n",
    "the quote-formatted guide notes like this one before you finish your report!"
   ]
  },
  {
   "cell_type": "code",
   "execution_count": null,
   "metadata": {},
   "outputs": [],
   "source": []
  },
  {
   "cell_type": "code",
   "execution_count": null,
   "metadata": {},
   "outputs": [],
   "source": [
    "# cited from: https://www.rrighart.com/blog-covid19/a-jupyter-notebook-for-visualizing-the-covid-19-pandemic\n",
    "\n",
    "    \n",
    "    if pop == 'area' or pop == 'inhabitants': \n",
    "        dat[pop] = dat[pop].div(number)\n",
    "        dat['yvalue'] = dat['metric'].div(dat[pop])\n",
    "    else: dat['yvalue'] = dat['metric'].copy() \n",
    "    \n",
    "    dat = dat[(dat['date']>=date1) & (dat['date']<=date2)]\n",
    "    colors = mpl.cm.tab20(np.linspace(0,1,len(countries)))\n",
    "    plt.figure(figsize = (16, 8))\n",
    "\n",
    "    countries = list(dat.loc[(dat['Country/Region'].isin(countries)) & (dat['date']==dat['date'].max()), ['Country/Region', 'yvalue']].sort_values(by='yvalue', ascending=False)['Country/Region'])\n",
    "    \n",
    "    for i,j in zip(countries, np.arange(0,len(countries))):\n",
    "        plt.plot(dat[dat['Country/Region'] == i]['date'], dat[dat['Country/Region'] == i]['yvalue'], label=i, marker='o', color=colors[j])\n",
    "    plt.xticks(rotation='vertical')\n",
    "    plt.ylabel('Number of '+filename+' Cases')\n",
    "    plt.title(title, fontsize=16)\n",
    "   \n",
    "    plt.legend()\n",
    "    plt.savefig('covid.png')"
   ]
  }
 ],
 "metadata": {
  "kernelspec": {
   "display_name": "Python 3",
   "language": "python",
   "name": "python3"
  },
  "language_info": {
   "codemirror_mode": {
    "name": "ipython",
    "version": 3
   },
   "file_extension": ".py",
   "mimetype": "text/x-python",
   "name": "python",
   "nbconvert_exporter": "python",
   "pygments_lexer": "ipython3",
   "version": "3.7.7"
  }
 },
 "nbformat": 4,
 "nbformat_minor": 2
}
