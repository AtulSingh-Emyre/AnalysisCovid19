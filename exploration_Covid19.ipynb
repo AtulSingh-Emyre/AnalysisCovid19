{
 "cells": [
  {
   "cell_type": "markdown",
   "metadata": {},
   "source": [
    "# Data exploration regarding strategies to deal with the Covid-19 outbreak\n",
    "## by Leopold Walther\n",
    "\n",
    "## Preliminary Wrangling\n",
    "\n",
    "> The main question which made me start the analysis is: What is the best strategy for a state to battle the Covid-19 outbreak. There are several debates on how to act on overcoming this global pandemic. There are goverments that want to prevent overburdening of the health system through the lockdown like the spanish or german, while other countries rely on the responsibility of the individual without major restrictions, namely the swedish. Futhermore, there are governments that do not see any danger through the virus for their population or at least evaluate the economic damage through a lockdown more dramatically than the effects of the virus itself. Data was gathered from Wikipedia, Gapminder and the John Hopkins University. The amount of confirmed cases of Covid-19, deaths and recovered of the John Hopkins Data paired with information like intensive care beds retrieved from wikipedia ist the basis of this analysis. With this data the outbreaks timelines of different countries can be compared in the context of their strategies."
   ]
  },
  {
   "cell_type": "code",
   "execution_count": 1,
   "metadata": {},
   "outputs": [],
   "source": [
    "# One dimensional\n",
    "    #Countries with highest death rates (bar chart) --> what is real death rate?\n",
    "    #\n",
    "\n",
    "# Two dimensional\n",
    "    # Corona Virus Cases overt time per country line? (umeric discrecte vs numeric continouos) --> zoom in on not extreme countries\n",
    "    # R-factor of countries over time\n",
    "    # monthly/weekly deaths compared to \"normal years\" --> Sweden compared to other nordic countries\n",
    "\n",
    "# Multi dimensional\n",
    "    # comparison of share of single person households, share of population over 65, \n",
    "        #population per sqm, percentage living in cities, diabetes\n",
    "        # Heatmap Countries cases?? https://medium.com/@tomaspueyo/coronavirus-learning-how-to-dance-b8420170203e\n",
    "        \n",
    "# other constructions\n",
    "    # How long would it last to make 2/3 immun without vaccine? -->\n",
    "    # Minimum Deaths when all infected and no vaccine, but enough medical care vs maximum death when hospitals overhelmed\n",
    "\n"
   ]
  },
  {
   "cell_type": "code",
   "execution_count": 50,
   "metadata": {},
   "outputs": [],
   "source": [
    "# import all packages and set plots to be embedded inline\n",
    "import numpy as np\n",
    "import pandas as pd\n",
    "from datetime import date\n",
    "from datetime import timedelta\n",
    "import matplotlib as mpl\n",
    "import matplotlib.pyplot as plt\n",
    "import matplotlib.patches as mpatches\n",
    "%matplotlib inline\n",
    "import seaborn as sb\n",
    "sb.set()"
   ]
  },
  {
   "cell_type": "markdown",
   "metadata": {},
   "source": [
    "> Load in your dataset and describe its properties through the questions below.\n",
    "Try and motivate your exploration goals through this section."
   ]
  },
  {
   "cell_type": "code",
   "execution_count": 51,
   "metadata": {},
   "outputs": [],
   "source": [
    "# Read Covid-19 data from csv\n",
    "df_covidCases_Timeline = pd.read_csv('outputData/df_covidCases_Timeline.csv')\n",
    "df_covidTests_Snapshot = pd.read_csv('outputData/df_covidTests_Snapshot.csv')\n",
    "df_countryMetrics_Snapshot = pd.read_csv('outputData/df_countryMetrics_Snapshot.csv')\n",
    "df_householdsEU_Timeline = pd.read_csv('outputData/df_householdsEU_Timeline.csv')\n",
    "df_hospitals_Snapshot = pd.read_csv('outputData/df_hospitals_Snapshot.csv')\n",
    "df_populationDelta_Timeline = pd.read_csv('outputData/df_populationDelta_Timeline.csv')"
   ]
  },
  {
   "cell_type": "code",
   "execution_count": 52,
   "metadata": {},
   "outputs": [],
   "source": [
    "# Datatype datetime gets lost with write & read csv\n",
    "df_covidCases_Timeline.date=pd.to_datetime(df_covidCases_Timeline.date)"
   ]
  },
  {
   "cell_type": "code",
   "execution_count": 53,
   "metadata": {},
   "outputs": [
    {
     "data": {
      "text/plain": [
       "Unnamed: 0             int64\n",
       "country               object\n",
       "date          datetime64[ns]\n",
       "fatal                  int64\n",
       "confirmed              int64\n",
       "recovered              int64\n",
       "iso_code              object\n",
       "dtype: object"
      ]
     },
     "execution_count": 53,
     "metadata": {},
     "output_type": "execute_result"
    }
   ],
   "source": [
    "# Check if datatype of date now correct\n",
    "df_covidCases_Timeline.dtypes"
   ]
  },
  {
   "cell_type": "code",
   "execution_count": 54,
   "metadata": {},
   "outputs": [],
   "source": [
    "# Get dates of today and yesterday depending on day script is run\n",
    "today = pd.to_datetime(date.today())\n",
    "yesterday = pd.to_datetime(date.today() - timedelta(days=1))"
   ]
  },
  {
   "cell_type": "markdown",
   "metadata": {},
   "source": [
    "### What is the structure of your dataset?\n",
    "\n",
    "> Your answer here!\n",
    "\n",
    "### What is/are the main feature(s) of interest in your dataset?\n",
    "\n",
    "> Your answer here!\n",
    "\n",
    "### What features in the dataset do you think will help support your investigation into your feature(s) of interest?\n",
    "\n",
    "> Your answer here!"
   ]
  },
  {
   "cell_type": "markdown",
   "metadata": {},
   "source": [
    "## Univariate Exploration\n",
    "\n",
    "> In this section, investigate distributions of individual variables. If\n",
    "you see unusual points or outliers, take a deeper look to clean things up\n",
    "and prepare yourself to look at relationships between variables."
   ]
  },
  {
   "cell_type": "markdown",
   "metadata": {},
   "source": [
    "The novel Covid 19 virus spread all over the world in only a few months. It is still not clear what the exact mortality rate of Covid-19 is. We will use the data collected by John Hopkins University on confirmed cases and deaths. Dividing the fatal cases of a country for the most recent available date by the confirmed cases of the same country and date gives a mortality rate. This rate may be far from reality, as the confirmed cases of Covid-19 may not necessarily correspond to the actual number of cases. This also applies to the number of deaths caused by Covid-19. Different countries and regions have different rules as to when a death is included in the statistics of deaths caused by Covid-19. Furhermore, the number of known Covid-19 infections for a country depends on the number of tests performed. The more a country tests, the closer the number of confirmed infections should be to the actual number of infections present. When the decentrally collected figures are combined, delays or individual errors may introduce further uncertainties into the statistics. In the following graphic the mortality rate of Covid-19 is depicted for the 10 countries with the highest amount of infections based on data gathered by the John Hopkins University."
   ]
  },
  {
   "cell_type": "code",
   "execution_count": 66,
   "metadata": {},
   "outputs": [
    {
     "name": "stderr",
     "output_type": "stream",
     "text": [
      "/usr/local/anaconda3/lib/python3.7/site-packages/ipykernel_launcher.py:5: SettingWithCopyWarning: \n",
      "A value is trying to be set on a copy of a slice from a DataFrame.\n",
      "Try using .loc[row_indexer,col_indexer] = value instead\n",
      "\n",
      "See the caveats in the documentation: https://pandas.pydata.org/pandas-docs/stable/user_guide/indexing.html#returning-a-view-versus-a-copy\n",
      "  \"\"\"\n"
     ]
    },
    {
     "data": {
      "image/png": "[encoded data removed]",
      "text/plain": [
       "<Figure size 432x288 with 1 Axes>"
      ]
     },
     "metadata": {},
     "output_type": "display_data"
    }
   ],
   "source": [
    "# get current data for yesterday only\n",
    "df_covidCases_today = df_covidCases_Timeline.query('date >= @yesterday')\n",
    "\n",
    "# create column fatal per confirmed\n",
    "df_covidCases_today['fatalPerConfirmed'] = df_covidCases_today.fatal / df_covidCases_today.confirmed\n",
    "\n",
    "# get 10 countries with most cases \n",
    "\n",
    "# Make a dataset:\n",
    "countries = list(df_covidCases_today.sort_values('confirmed', ascending=False).head(10)['country'])\n",
    "fatalPerConfirmed = list(df_covidCases_today.sort_values('confirmed', ascending=False).head(10)['fatalPerConfirmed'])\n",
    "\n",
    "\n",
    "y_pos = np.arange(len(countries))\n",
    " \n",
    "# Create bars\n",
    "plt.bar(y_pos, fatalPerConfirmed)\n",
    " \n",
    "# Create names on the x-axis\n",
    "plt.xticks(y_pos, countries)\n",
    " \n",
    "# Show graphic\n",
    "plt.show()\n"
   ]
  },
  {
   "cell_type": "markdown",
   "metadata": {},
   "source": [
    "The mortality rate depends on a lot of different factors like age, healthcare system of the country, \n",
    "\n"
   ]
  },
  {
   "cell_type": "code",
   "execution_count": null,
   "metadata": {},
   "outputs": [],
   "source": [
    "\n",
    "# create column deaths per population\n",
    "\n",
    "\n"
   ]
  },
  {
   "cell_type": "code",
   "execution_count": null,
   "metadata": {},
   "outputs": [],
   "source": [
    "# covid deaths per x inhabitants\n",
    "# death rates\n"
   ]
  },
  {
   "cell_type": "markdown",
   "metadata": {},
   "source": [
    "> Make sure that, after every plot or related series of plots, that you\n",
    "include a Markdown cell with comments about what you observed, and what\n",
    "you plan on investigating next."
   ]
  },
  {
   "cell_type": "code",
   "execution_count": null,
   "metadata": {},
   "outputs": [],
   "source": [
    "\n"
   ]
  },
  {
   "cell_type": "markdown",
   "metadata": {},
   "source": [
    "### Discuss the distribution(s) of your variable(s) of interest. Were there any unusual points? Did you need to perform any transformations?\n",
    "\n",
    "> Your answer here!\n",
    "\n",
    "### Of the features you investigated, were there any unusual distributions? Did you perform any operations on the data to tidy, adjust, or change the form of the data? If so, why did you do this?\n",
    "\n",
    "> Your answer here!"
   ]
  },
  {
   "cell_type": "markdown",
   "metadata": {},
   "source": [
    "## Bivariate Exploration\n",
    "\n",
    "> In this section, investigate relationships between pairs of variables in your\n",
    "data. Make sure the variables that you cover here have been introduced in some\n",
    "fashion in the previous section (univariate exploration)."
   ]
  },
  {
   "cell_type": "code",
   "execution_count": null,
   "metadata": {},
   "outputs": [],
   "source": []
  },
  {
   "cell_type": "markdown",
   "metadata": {},
   "source": [
    "### Talk about some of the relationships you observed in this part of the investigation. How did the feature(s) of interest vary with other features in the dataset?\n",
    "\n",
    "> Your answer here!\n",
    "\n",
    "### Did you observe any interesting relationships between the other features (not the main feature(s) of interest)?\n",
    "\n",
    "> Your answer here!"
   ]
  },
  {
   "cell_type": "markdown",
   "metadata": {},
   "source": [
    "## Multivariate Exploration\n",
    "\n",
    "> Create plots of three or more variables to investigate your data even\n",
    "further. Make sure that your investigations are justified, and follow from\n",
    "your work in the previous sections."
   ]
  },
  {
   "cell_type": "code",
   "execution_count": null,
   "metadata": {},
   "outputs": [],
   "source": [
    "# households for each nordic country\n",
    "sb.countplot(data=df_countryMetrics_Snapshot, x=)\n",
    "\n"
   ]
  },
  {
   "cell_type": "markdown",
   "metadata": {},
   "source": [
    "### Talk about some of the relationships you observed in this part of the investigation. Were there features that strengthened each other in terms of looking at your feature(s) of interest?\n",
    "\n",
    "> Your answer here!\n",
    "\n",
    "### Were there any interesting or surprising interactions between features?\n",
    "\n",
    "> Your answer here!"
   ]
  },
  {
   "cell_type": "markdown",
   "metadata": {},
   "source": [
    "> At the end of your report, make sure that you export the notebook as an\n",
    "html file from the `File > Download as... > HTML` menu. Make sure you keep\n",
    "track of where the exported file goes, so you can put it in the same folder\n",
    "as this notebook for project submission. Also, make sure you remove all of\n",
    "the quote-formatted guide notes like this one before you finish your report!"
   ]
  },
  {
   "cell_type": "code",
   "execution_count": null,
   "metadata": {},
   "outputs": [],
   "source": []
  },
  {
   "cell_type": "code",
   "execution_count": null,
   "metadata": {},
   "outputs": [],
   "source": [
    "# cited from: https://www.rrighart.com/blog-covid19/a-jupyter-notebook-for-visualizing-the-covid-19-pandemic\n",
    "\n",
    "    \n",
    "    if pop == 'area' or pop == 'inhabitants': \n",
    "        dat[pop] = dat[pop].div(number)\n",
    "        dat['yvalue'] = dat['metric'].div(dat[pop])\n",
    "    else: dat['yvalue'] = dat['metric'].copy() \n",
    "    \n",
    "    dat = dat[(dat['date']>=date1) & (dat['date']<=date2)]\n",
    "    colors = mpl.cm.tab20(np.linspace(0,1,len(countries)))\n",
    "    plt.figure(figsize = (16, 8))\n",
    "\n",
    "    countries = list(dat.loc[(dat['Country/Region'].isin(countries)) & (dat['date']==dat['date'].max()), ['Country/Region', 'yvalue']].sort_values(by='yvalue', ascending=False)['Country/Region'])\n",
    "    \n",
    "    for i,j in zip(countries, np.arange(0,len(countries))):\n",
    "        plt.plot(dat[dat['Country/Region'] == i]['date'], dat[dat['Country/Region'] == i]['yvalue'], label=i, marker='o', color=colors[j])\n",
    "    plt.xticks(rotation='vertical')\n",
    "    plt.ylabel('Number of '+filename+' Cases')\n",
    "    plt.title(title, fontsize=16)\n",
    "   \n",
    "    plt.legend()\n",
    "    plt.savefig('covid.png')"
   ]
  }
 ],
 "metadata": {
  "kernelspec": {
   "display_name": "Python 3",
   "language": "python",
   "name": "python3"
  },
  "language_info": {
   "codemirror_mode": {
    "name": "ipython",
    "version": 3
   },
   "file_extension": ".py",
   "mimetype": "text/x-python",
   "name": "python",
   "nbconvert_exporter": "python",
   "pygments_lexer": "ipython3",
   "version": "3.7.7"
  }
 },
 "nbformat": 4,
 "nbformat_minor": 2
}
